{
 "cells": [
  {
   "cell_type": "markdown",
   "metadata": {},
   "source": [
    "# House Prices - Advanced Regression Techniques"
   ]
  },
  {
   "cell_type": "markdown",
   "metadata": {},
   "source": [
    "## Importação de Bibliotecas e Dados"
   ]
  },
  {
   "cell_type": "markdown",
   "metadata": {},
   "source": [
    "#### Importação de biblioteca para relatório prévio sobre dataset de treino a fim de análise exploratória"
   ]
  },
  {
   "cell_type": "code",
   "execution_count": 1,
   "metadata": {},
   "outputs": [],
   "source": [
    "from pandas_profiling import ProfileReport"
   ]
  },
  {
   "cell_type": "markdown",
   "metadata": {},
   "source": [
    "#### Tratando e importação de dataset"
   ]
  },
  {
   "cell_type": "code",
   "execution_count": 2,
   "metadata": {},
   "outputs": [],
   "source": [
    "import pandas as pd\n",
    "import numpy as np\n",
    "from numpy import ravel"
   ]
  },
  {
   "cell_type": "markdown",
   "metadata": {},
   "source": [
    "#### Importação de modelos para pré-processamento"
   ]
  },
  {
   "cell_type": "code",
   "execution_count": 3,
   "metadata": {},
   "outputs": [],
   "source": [
    "from sklearn.preprocessing import MinMaxScaler\n",
    "from sklearn.impute import KNNImputer\n",
    "from sklearn.compose import ColumnTransformer\n",
    "from category_encoders import OneHotEncoder\n",
    "from sklearn.model_selection import train_test_split"
   ]
  },
  {
   "cell_type": "markdown",
   "metadata": {},
   "source": [
    "#### Importação de métricas para validação de modelo final"
   ]
  },
  {
   "cell_type": "code",
   "execution_count": 4,
   "metadata": {},
   "outputs": [],
   "source": [
    "from sklearn.metrics import r2_score\n",
    "from sklearn.model_selection import cross_validate\n",
    "from sklearn.model_selection import KFold\n",
    "from sklearn.dummy import DummyRegressor\n",
    "from skopt.optimizer import dummy_minimize"
   ]
  },
  {
   "cell_type": "markdown",
   "metadata": {},
   "source": [
    "#### Importação de biblioteca para Data Visualization"
   ]
  },
  {
   "cell_type": "code",
   "execution_count": 5,
   "metadata": {},
   "outputs": [],
   "source": [
    "import plotly.express as px\n",
    "import plotly.graph_objects as go"
   ]
  },
  {
   "cell_type": "markdown",
   "metadata": {},
   "source": [
    "#### Importação de algoritmo de Machine Learning para Regressão"
   ]
  },
  {
   "cell_type": "code",
   "execution_count": 6,
   "metadata": {},
   "outputs": [],
   "source": [
    "from lightgbm import LGBMRegressor"
   ]
  },
  {
   "cell_type": "markdown",
   "metadata": {},
   "source": [
    "#### Criando dataset na memória"
   ]
  },
  {
   "cell_type": "code",
   "execution_count": 7,
   "metadata": {},
   "outputs": [],
   "source": [
    "TRAIN_PATH = r'..\\dataset\\train.csv'"
   ]
  },
  {
   "cell_type": "code",
   "execution_count": 8,
   "metadata": {},
   "outputs": [],
   "source": [
    "TEST_PATH = r'..\\dataset\\test.csv'"
   ]
  },
  {
   "cell_type": "code",
   "execution_count": 9,
   "metadata": {},
   "outputs": [],
   "source": [
    "SEED = 4"
   ]
  },
  {
   "cell_type": "code",
   "execution_count": 10,
   "metadata": {},
   "outputs": [],
   "source": [
    "df_train = pd.read_csv(TRAIN_PATH)\n",
    "df_test = pd.read_csv(TEST_PATH)\n",
    "df_train.drop(columns='Id',inplace=True)"
   ]
  },
  {
   "cell_type": "markdown",
   "metadata": {},
   "source": [
    "### Análise Exploratória"
   ]
  },
  {
   "cell_type": "code",
   "execution_count": 11,
   "metadata": {},
   "outputs": [],
   "source": [
    "#profile = ProfileReport(df_train, minimal=True)\n",
    "#profile.to_file(output_file='df_train_report.html')"
   ]
  },
  {
   "cell_type": "code",
   "execution_count": 12,
   "metadata": {},
   "outputs": [
    {
     "output_type": "stream",
     "name": "stdout",
     "text": [
      "<class 'pandas.core.frame.DataFrame'>\nRangeIndex: 1460 entries, 0 to 1459\nData columns (total 80 columns):\n #   Column         Non-Null Count  Dtype  \n---  ------         --------------  -----  \n 0   MSSubClass     1460 non-null   int64  \n 1   MSZoning       1460 non-null   object \n 2   LotFrontage    1201 non-null   float64\n 3   LotArea        1460 non-null   int64  \n 4   Street         1460 non-null   object \n 5   Alley          91 non-null     object \n 6   LotShape       1460 non-null   object \n 7   LandContour    1460 non-null   object \n 8   Utilities      1460 non-null   object \n 9   LotConfig      1460 non-null   object \n 10  LandSlope      1460 non-null   object \n 11  Neighborhood   1460 non-null   object \n 12  Condition1     1460 non-null   object \n 13  Condition2     1460 non-null   object \n 14  BldgType       1460 non-null   object \n 15  HouseStyle     1460 non-null   object \n 16  OverallQual    1460 non-null   int64  \n 17  OverallCond    1460 non-null   int64  \n 18  YearBuilt      1460 non-null   int64  \n 19  YearRemodAdd   1460 non-null   int64  \n 20  RoofStyle      1460 non-null   object \n 21  RoofMatl       1460 non-null   object \n 22  Exterior1st    1460 non-null   object \n 23  Exterior2nd    1460 non-null   object \n 24  MasVnrType     1452 non-null   object \n 25  MasVnrArea     1452 non-null   float64\n 26  ExterQual      1460 non-null   object \n 27  ExterCond      1460 non-null   object \n 28  Foundation     1460 non-null   object \n 29  BsmtQual       1423 non-null   object \n 30  BsmtCond       1423 non-null   object \n 31  BsmtExposure   1422 non-null   object \n 32  BsmtFinType1   1423 non-null   object \n 33  BsmtFinSF1     1460 non-null   int64  \n 34  BsmtFinType2   1422 non-null   object \n 35  BsmtFinSF2     1460 non-null   int64  \n 36  BsmtUnfSF      1460 non-null   int64  \n 37  TotalBsmtSF    1460 non-null   int64  \n 38  Heating        1460 non-null   object \n 39  HeatingQC      1460 non-null   object \n 40  CentralAir     1460 non-null   object \n 41  Electrical     1459 non-null   object \n 42  1stFlrSF       1460 non-null   int64  \n 43  2ndFlrSF       1460 non-null   int64  \n 44  LowQualFinSF   1460 non-null   int64  \n 45  GrLivArea      1460 non-null   int64  \n 46  BsmtFullBath   1460 non-null   int64  \n 47  BsmtHalfBath   1460 non-null   int64  \n 48  FullBath       1460 non-null   int64  \n 49  HalfBath       1460 non-null   int64  \n 50  BedroomAbvGr   1460 non-null   int64  \n 51  KitchenAbvGr   1460 non-null   int64  \n 52  KitchenQual    1460 non-null   object \n 53  TotRmsAbvGrd   1460 non-null   int64  \n 54  Functional     1460 non-null   object \n 55  Fireplaces     1460 non-null   int64  \n 56  FireplaceQu    770 non-null    object \n 57  GarageType     1379 non-null   object \n 58  GarageYrBlt    1379 non-null   float64\n 59  GarageFinish   1379 non-null   object \n 60  GarageCars     1460 non-null   int64  \n 61  GarageArea     1460 non-null   int64  \n 62  GarageQual     1379 non-null   object \n 63  GarageCond     1379 non-null   object \n 64  PavedDrive     1460 non-null   object \n 65  WoodDeckSF     1460 non-null   int64  \n 66  OpenPorchSF    1460 non-null   int64  \n 67  EnclosedPorch  1460 non-null   int64  \n 68  3SsnPorch      1460 non-null   int64  \n 69  ScreenPorch    1460 non-null   int64  \n 70  PoolArea       1460 non-null   int64  \n 71  PoolQC         7 non-null      object \n 72  Fence          281 non-null    object \n 73  MiscFeature    54 non-null     object \n 74  MiscVal        1460 non-null   int64  \n 75  MoSold         1460 non-null   int64  \n 76  YrSold         1460 non-null   int64  \n 77  SaleType       1460 non-null   object \n 78  SaleCondition  1460 non-null   object \n 79  SalePrice      1460 non-null   int64  \ndtypes: float64(3), int64(34), object(43)\nmemory usage: 912.6+ KB\n"
     ]
    }
   ],
   "source": [
    "df_train.info()"
   ]
  },
  {
   "cell_type": "markdown",
   "metadata": {},
   "source": [
    "Dados Faltantes de Dataset de Treino"
   ]
  },
  {
   "cell_type": "code",
   "execution_count": 13,
   "metadata": {},
   "outputs": [
    {
     "output_type": "display_data",
     "data": {
      "text/plain": "MSSubClass          0\nMSZoning            0\nLotFrontage       259\nLotArea             0\nStreet              0\nAlley            1369\nLotShape            0\nLandContour         0\nUtilities           0\nLotConfig           0\nLandSlope           0\nNeighborhood        0\nCondition1          0\nCondition2          0\nBldgType            0\nHouseStyle          0\nOverallQual         0\nOverallCond         0\nYearBuilt           0\nYearRemodAdd        0\nRoofStyle           0\nRoofMatl            0\nExterior1st         0\nExterior2nd         0\nMasVnrType          8\nMasVnrArea          8\nExterQual           0\nExterCond           0\nFoundation          0\nBsmtQual           37\nBsmtCond           37\nBsmtExposure       38\nBsmtFinType1       37\nBsmtFinSF1          0\nBsmtFinType2       38\nBsmtFinSF2          0\nBsmtUnfSF           0\nTotalBsmtSF         0\nHeating             0\nHeatingQC           0\nCentralAir          0\nElectrical          1\n1stFlrSF            0\n2ndFlrSF            0\nLowQualFinSF        0\nGrLivArea           0\nBsmtFullBath        0\nBsmtHalfBath        0\nFullBath            0\nHalfBath            0\nBedroomAbvGr        0\nKitchenAbvGr        0\nKitchenQual         0\nTotRmsAbvGrd        0\nFunctional          0\nFireplaces          0\nFireplaceQu       690\nGarageType         81\nGarageYrBlt        81\nGarageFinish       81\nGarageCars          0\nGarageArea          0\nGarageQual         81\nGarageCond         81\nPavedDrive          0\nWoodDeckSF          0\nOpenPorchSF         0\nEnclosedPorch       0\n3SsnPorch           0\nScreenPorch         0\nPoolArea            0\nPoolQC           1453\nFence            1179\nMiscFeature      1406\nMiscVal             0\nMoSold              0\nYrSold              0\nSaleType            0\nSaleCondition       0\nSalePrice           0\ndtype: int64"
     },
     "metadata": {}
    }
   ],
   "source": [
    "with pd.option_context('display.max_rows', None, 'display.max_columns', None):\n",
    "    display(df_train.isnull().sum())"
   ]
  },
  {
   "cell_type": "markdown",
   "metadata": {},
   "source": [
    "Dados Faltantes de Dataset de Teste"
   ]
  },
  {
   "cell_type": "code",
   "execution_count": 14,
   "metadata": {},
   "outputs": [
    {
     "output_type": "display_data",
     "data": {
      "text/plain": "Id                  0\nMSSubClass          0\nMSZoning            4\nLotFrontage       227\nLotArea             0\nStreet              0\nAlley            1352\nLotShape            0\nLandContour         0\nUtilities           2\nLotConfig           0\nLandSlope           0\nNeighborhood        0\nCondition1          0\nCondition2          0\nBldgType            0\nHouseStyle          0\nOverallQual         0\nOverallCond         0\nYearBuilt           0\nYearRemodAdd        0\nRoofStyle           0\nRoofMatl            0\nExterior1st         1\nExterior2nd         1\nMasVnrType         16\nMasVnrArea         15\nExterQual           0\nExterCond           0\nFoundation          0\nBsmtQual           44\nBsmtCond           45\nBsmtExposure       44\nBsmtFinType1       42\nBsmtFinSF1          1\nBsmtFinType2       42\nBsmtFinSF2          1\nBsmtUnfSF           1\nTotalBsmtSF         1\nHeating             0\nHeatingQC           0\nCentralAir          0\nElectrical          0\n1stFlrSF            0\n2ndFlrSF            0\nLowQualFinSF        0\nGrLivArea           0\nBsmtFullBath        2\nBsmtHalfBath        2\nFullBath            0\nHalfBath            0\nBedroomAbvGr        0\nKitchenAbvGr        0\nKitchenQual         1\nTotRmsAbvGrd        0\nFunctional          2\nFireplaces          0\nFireplaceQu       730\nGarageType         76\nGarageYrBlt        78\nGarageFinish       78\nGarageCars          1\nGarageArea          1\nGarageQual         78\nGarageCond         78\nPavedDrive          0\nWoodDeckSF          0\nOpenPorchSF         0\nEnclosedPorch       0\n3SsnPorch           0\nScreenPorch         0\nPoolArea            0\nPoolQC           1456\nFence            1169\nMiscFeature      1408\nMiscVal             0\nMoSold              0\nYrSold              0\nSaleType            1\nSaleCondition       0\ndtype: int64"
     },
     "metadata": {}
    }
   ],
   "source": [
    "with pd.option_context('display.max_rows', None, 'display.max_columns', None):\n",
    "    display(df_test.isnull().sum())"
   ]
  },
  {
   "cell_type": "code",
   "execution_count": 15,
   "metadata": {},
   "outputs": [
    {
     "output_type": "display_data",
     "data": {
      "application/vnd.plotly.v1+json": {
       "config": {
        "plotlyServerURL": "https://plot.ly"
       },
       "data": [
        {
         "alignmentgroup": "True",
         "hovertemplate": "Variável=%{x}<br>Preço=%{y}<extra></extra>",
         "legendgroup": "",
         "marker": {
          "color": "#636efa"
         },
         "name": "",
         "notched": false,
         "offsetgroup": "",
         "orientation": "v",
         "showlegend": false,
         "type": "box",
         "x": [
          "SalePrice",
          "SalePrice",
          "SalePrice",
          "SalePrice",
          "SalePrice",
          "SalePrice",
          "SalePrice",
          "SalePrice",
          "SalePrice",
          "SalePrice",
          "SalePrice",
          "SalePrice",
          "SalePrice",
          "SalePrice",
          "SalePrice",
          "SalePrice",
          "SalePrice",
          "SalePrice",
          "SalePrice",
          "SalePrice",
          "SalePrice",
          "SalePrice",
          "SalePrice",
          "SalePrice",
          "SalePrice",
          "SalePrice",
          "SalePrice",
          "SalePrice",
          "SalePrice",
          "SalePrice",
          "SalePrice",
          "SalePrice",
          "SalePrice",
          "SalePrice",
          "SalePrice",
          "SalePrice",
          "SalePrice",
          "SalePrice",
          "SalePrice",
          "SalePrice",
          "SalePrice",
          "SalePrice",
          "SalePrice",
          "SalePrice",
          "SalePrice",
          "SalePrice",
          "SalePrice",
          "SalePrice",
          "SalePrice",
          "SalePrice",
          "SalePrice",
          "SalePrice",
          "SalePrice",
          "SalePrice",
          "SalePrice",
          "SalePrice",
          "SalePrice",
          "SalePrice",
          "SalePrice",
          "SalePrice",
          "SalePrice",
          "SalePrice",
          "SalePrice",
          "SalePrice",
          "SalePrice",
          "SalePrice",
          "SalePrice",
          "SalePrice",
          "SalePrice",
          "SalePrice",
          "SalePrice",
          "SalePrice",
          "SalePrice",
          "SalePrice",
          "SalePrice",
          "SalePrice",
          "SalePrice",
          "SalePrice",
          "SalePrice",
          "SalePrice",
          "SalePrice",
          "SalePrice",
          "SalePrice",
          "SalePrice",
          "SalePrice",
          "SalePrice",
          "SalePrice",
          "SalePrice",
          "SalePrice",
          "SalePrice",
          "SalePrice",
          "SalePrice",
          "SalePrice",
          "SalePrice",
          "SalePrice",
          "SalePrice",
          "SalePrice",
          "SalePrice",
          "SalePrice",
          "SalePrice",
          "SalePrice",
          "SalePrice",
          "SalePrice",
          "SalePrice",
          "SalePrice",
          "SalePrice",
          "SalePrice",
          "SalePrice",
          "SalePrice",
          "SalePrice",
          "SalePrice",
          "SalePrice",
          "SalePrice",
          "SalePrice",
          "SalePrice",
          "SalePrice",
          "SalePrice",
          "SalePrice",
          "SalePrice",
          "SalePrice",
          "SalePrice",
          "SalePrice",
          "SalePrice",
          "SalePrice",
          "SalePrice",
          "SalePrice",
          "SalePrice",
          "SalePrice",
          "SalePrice",
          "SalePrice",
          "SalePrice",
          "SalePrice",
          "SalePrice",
          "SalePrice",
          "SalePrice",
          "SalePrice",
          "SalePrice",
          "SalePrice",
          "SalePrice",
          "SalePrice",
          "SalePrice",
          "SalePrice",
          "SalePrice",
          "SalePrice",
          "SalePrice",
          "SalePrice",
          "SalePrice",
          "SalePrice",
          "SalePrice",
          "SalePrice",
          "SalePrice",
          "SalePrice",
          "SalePrice",
          "SalePrice",
          "SalePrice",
          "SalePrice",
          "SalePrice",
          "SalePrice",
          "SalePrice",
          "SalePrice",
          "SalePrice",
          "SalePrice",
          "SalePrice",
          "SalePrice",
          "SalePrice",
          "SalePrice",
          "SalePrice",
          "SalePrice",
          "SalePrice",
          "SalePrice",
          "SalePrice",
          "SalePrice",
          "SalePrice",
          "SalePrice",
          "SalePrice",
          "SalePrice",
          "SalePrice",
          "SalePrice",
          "SalePrice",
          "SalePrice",
          "SalePrice",
          "SalePrice",
          "SalePrice",
          "SalePrice",
          "SalePrice",
          "SalePrice",
          "SalePrice",
          "SalePrice",
          "SalePrice",
          "SalePrice",
          "SalePrice",
          "SalePrice",
          "SalePrice",
          "SalePrice",
          "SalePrice",
          "SalePrice",
          "SalePrice",
          "SalePrice",
          "SalePrice",
          "SalePrice",
          "SalePrice",
          "SalePrice",
          "SalePrice",
          "SalePrice",
          "SalePrice",
          "SalePrice",
          "SalePrice",
          "SalePrice",
          "SalePrice",
          "SalePrice",
          "SalePrice",
          "SalePrice",
          "SalePrice",
          "SalePrice",
          "SalePrice",
          "SalePrice",
          "SalePrice",
          "SalePrice",
          "SalePrice",
          "SalePrice",
          "SalePrice",
          "SalePrice",
          "SalePrice",
          "SalePrice",
          "SalePrice",
          "SalePrice",
          "SalePrice",
          "SalePrice",
          "SalePrice",
          "SalePrice",
          "SalePrice",
          "SalePrice",
          "SalePrice",
          "SalePrice",
          "SalePrice",
          "SalePrice",
          "SalePrice",
          "SalePrice",
          "SalePrice",
          "SalePrice",
          "SalePrice",
          "SalePrice",
          "SalePrice",
          "SalePrice",
          "SalePrice",
          "SalePrice",
          "SalePrice",
          "SalePrice",
          "SalePrice",
          "SalePrice",
          "SalePrice",
          "SalePrice",
          "SalePrice",
          "SalePrice",
          "SalePrice",
          "SalePrice",
          "SalePrice",
          "SalePrice",
          "SalePrice",
          "SalePrice",
          "SalePrice",
          "SalePrice",
          "SalePrice",
          "SalePrice",
          "SalePrice",
          "SalePrice",
          "SalePrice",
          "SalePrice",
          "SalePrice",
          "SalePrice",
          "SalePrice",
          "SalePrice",
          "SalePrice",
          "SalePrice",
          "SalePrice",
          "SalePrice",
          "SalePrice",
          "SalePrice",
          "SalePrice",
          "SalePrice",
          "SalePrice",
          "SalePrice",
          "SalePrice",
          "SalePrice",
          "SalePrice",
          "SalePrice",
          "SalePrice",
          "SalePrice",
          "SalePrice",
          "SalePrice",
          "SalePrice",
          "SalePrice",
          "SalePrice",
          "SalePrice",
          "SalePrice",
          "SalePrice",
          "SalePrice",
          "SalePrice",
          "SalePrice",
          "SalePrice",
          "SalePrice",
          "SalePrice",
          "SalePrice",
          "SalePrice",
          "SalePrice",
          "SalePrice",
          "SalePrice",
          "SalePrice",
          "SalePrice",
          "SalePrice",
          "SalePrice",
          "SalePrice",
          "SalePrice",
          "SalePrice",
          "SalePrice",
          "SalePrice",
          "SalePrice",
          "SalePrice",
          "SalePrice",
          "SalePrice",
          "SalePrice",
          "SalePrice",
          "SalePrice",
          "SalePrice",
          "SalePrice",
          "SalePrice",
          "SalePrice",
          "SalePrice",
          "SalePrice",
          "SalePrice",
          "SalePrice",
          "SalePrice",
          "SalePrice",
          "SalePrice",
          "SalePrice",
          "SalePrice",
          "SalePrice",
          "SalePrice",
          "SalePrice",
          "SalePrice",
          "SalePrice",
          "SalePrice",
          "SalePrice",
          "SalePrice",
          "SalePrice",
          "SalePrice",
          "SalePrice",
          "SalePrice",
          "SalePrice",
          "SalePrice",
          "SalePrice",
          "SalePrice",
          "SalePrice",
          "SalePrice",
          "SalePrice",
          "SalePrice",
          "SalePrice",
          "SalePrice",
          "SalePrice",
          "SalePrice",
          "SalePrice",
          "SalePrice",
          "SalePrice",
          "SalePrice",
          "SalePrice",
          "SalePrice",
          "SalePrice",
          "SalePrice",
          "SalePrice",
          "SalePrice",
          "SalePrice",
          "SalePrice",
          "SalePrice",
          "SalePrice",
          "SalePrice",
          "SalePrice",
          "SalePrice",
          "SalePrice",
          "SalePrice",
          "SalePrice",
          "SalePrice",
          "SalePrice",
          "SalePrice",
          "SalePrice",
          "SalePrice",
          "SalePrice",
          "SalePrice",
          "SalePrice",
          "SalePrice",
          "SalePrice",
          "SalePrice",
          "SalePrice",
          "SalePrice",
          "SalePrice",
          "SalePrice",
          "SalePrice",
          "SalePrice",
          "SalePrice",
          "SalePrice",
          "SalePrice",
          "SalePrice",
          "SalePrice",
          "SalePrice",
          "SalePrice",
          "SalePrice",
          "SalePrice",
          "SalePrice",
          "SalePrice",
          "SalePrice",
          "SalePrice",
          "SalePrice",
          "SalePrice",
          "SalePrice",
          "SalePrice",
          "SalePrice",
          "SalePrice",
          "SalePrice",
          "SalePrice",
          "SalePrice",
          "SalePrice",
          "SalePrice",
          "SalePrice",
          "SalePrice",
          "SalePrice",
          "SalePrice",
          "SalePrice",
          "SalePrice",
          "SalePrice",
          "SalePrice",
          "SalePrice",
          "SalePrice",
          "SalePrice",
          "SalePrice",
          "SalePrice",
          "SalePrice",
          "SalePrice",
          "SalePrice",
          "SalePrice",
          "SalePrice",
          "SalePrice",
          "SalePrice",
          "SalePrice",
          "SalePrice",
          "SalePrice",
          "SalePrice",
          "SalePrice",
          "SalePrice",
          "SalePrice",
          "SalePrice",
          "SalePrice",
          "SalePrice",
          "SalePrice",
          "SalePrice",
          "SalePrice",
          "SalePrice",
          "SalePrice",
          "SalePrice",
          "SalePrice",
          "SalePrice",
          "SalePrice",
          "SalePrice",
          "SalePrice",
          "SalePrice",
          "SalePrice",
          "SalePrice",
          "SalePrice",
          "SalePrice",
          "SalePrice",
          "SalePrice",
          "SalePrice",
          "SalePrice",
          "SalePrice",
          "SalePrice",
          "SalePrice",
          "SalePrice",
          "SalePrice",
          "SalePrice",
          "SalePrice",
          "SalePrice",
          "SalePrice",
          "SalePrice",
          "SalePrice",
          "SalePrice",
          "SalePrice",
          "SalePrice",
          "SalePrice",
          "SalePrice",
          "SalePrice",
          "SalePrice",
          "SalePrice",
          "SalePrice",
          "SalePrice",
          "SalePrice",
          "SalePrice",
          "SalePrice",
          "SalePrice",
          "SalePrice",
          "SalePrice",
          "SalePrice",
          "SalePrice",
          "SalePrice",
          "SalePrice",
          "SalePrice",
          "SalePrice",
          "SalePrice",
          "SalePrice",
          "SalePrice",
          "SalePrice",
          "SalePrice",
          "SalePrice",
          "SalePrice",
          "SalePrice",
          "SalePrice",
          "SalePrice",
          "SalePrice",
          "SalePrice",
          "SalePrice",
          "SalePrice",
          "SalePrice",
          "SalePrice",
          "SalePrice",
          "SalePrice",
          "SalePrice",
          "SalePrice",
          "SalePrice",
          "SalePrice",
          "SalePrice",
          "SalePrice",
          "SalePrice",
          "SalePrice",
          "SalePrice",
          "SalePrice",
          "SalePrice",
          "SalePrice",
          "SalePrice",
          "SalePrice",
          "SalePrice",
          "SalePrice",
          "SalePrice",
          "SalePrice",
          "SalePrice",
          "SalePrice",
          "SalePrice",
          "SalePrice",
          "SalePrice",
          "SalePrice",
          "SalePrice",
          "SalePrice",
          "SalePrice",
          "SalePrice",
          "SalePrice",
          "SalePrice",
          "SalePrice",
          "SalePrice",
          "SalePrice",
          "SalePrice",
          "SalePrice",
          "SalePrice",
          "SalePrice",
          "SalePrice",
          "SalePrice",
          "SalePrice",
          "SalePrice",
          "SalePrice",
          "SalePrice",
          "SalePrice",
          "SalePrice",
          "SalePrice",
          "SalePrice",
          "SalePrice",
          "SalePrice",
          "SalePrice",
          "SalePrice",
          "SalePrice",
          "SalePrice",
          "SalePrice",
          "SalePrice",
          "SalePrice",
          "SalePrice",
          "SalePrice",
          "SalePrice",
          "SalePrice",
          "SalePrice",
          "SalePrice",
          "SalePrice",
          "SalePrice",
          "SalePrice",
          "SalePrice",
          "SalePrice",
          "SalePrice",
          "SalePrice",
          "SalePrice",
          "SalePrice",
          "SalePrice",
          "SalePrice",
          "SalePrice",
          "SalePrice",
          "SalePrice",
          "SalePrice",
          "SalePrice",
          "SalePrice",
          "SalePrice",
          "SalePrice",
          "SalePrice",
          "SalePrice",
          "SalePrice",
          "SalePrice",
          "SalePrice",
          "SalePrice",
          "SalePrice",
          "SalePrice",
          "SalePrice",
          "SalePrice",
          "SalePrice",
          "SalePrice",
          "SalePrice",
          "SalePrice",
          "SalePrice",
          "SalePrice",
          "SalePrice",
          "SalePrice",
          "SalePrice",
          "SalePrice",
          "SalePrice",
          "SalePrice",
          "SalePrice",
          "SalePrice",
          "SalePrice",
          "SalePrice",
          "SalePrice",
          "SalePrice",
          "SalePrice",
          "SalePrice",
          "SalePrice",
          "SalePrice",
          "SalePrice",
          "SalePrice",
          "SalePrice",
          "SalePrice",
          "SalePrice",
          "SalePrice",
          "SalePrice",
          "SalePrice",
          "SalePrice",
          "SalePrice",
          "SalePrice",
          "SalePrice",
          "SalePrice",
          "SalePrice",
          "SalePrice",
          "SalePrice",
          "SalePrice",
          "SalePrice",
          "SalePrice",
          "SalePrice",
          "SalePrice",
          "SalePrice",
          "SalePrice",
          "SalePrice",
          "SalePrice",
          "SalePrice",
          "SalePrice",
          "SalePrice",
          "SalePrice",
          "SalePrice",
          "SalePrice",
          "SalePrice",
          "SalePrice",
          "SalePrice",
          "SalePrice",
          "SalePrice",
          "SalePrice",
          "SalePrice",
          "SalePrice",
          "SalePrice",
          "SalePrice",
          "SalePrice",
          "SalePrice",
          "SalePrice",
          "SalePrice",
          "SalePrice",
          "SalePrice",
          "SalePrice",
          "SalePrice",
          "SalePrice",
          "SalePrice",
          "SalePrice",
          "SalePrice",
          "SalePrice",
          "SalePrice",
          "SalePrice",
          "SalePrice",
          "SalePrice",
          "SalePrice",
          "SalePrice",
          "SalePrice",
          "SalePrice",
          "SalePrice",
          "SalePrice",
          "SalePrice",
          "SalePrice",
          "SalePrice",
          "SalePrice",
          "SalePrice",
          "SalePrice",
          "SalePrice",
          "SalePrice",
          "SalePrice",
          "SalePrice",
          "SalePrice",
          "SalePrice",
          "SalePrice",
          "SalePrice",
          "SalePrice",
          "SalePrice",
          "SalePrice",
          "SalePrice",
          "SalePrice",
          "SalePrice",
          "SalePrice",
          "SalePrice",
          "SalePrice",
          "SalePrice",
          "SalePrice",
          "SalePrice",
          "SalePrice",
          "SalePrice",
          "SalePrice",
          "SalePrice",
          "SalePrice",
          "SalePrice",
          "SalePrice",
          "SalePrice",
          "SalePrice",
          "SalePrice",
          "SalePrice",
          "SalePrice",
          "SalePrice",
          "SalePrice",
          "SalePrice",
          "SalePrice",
          "SalePrice",
          "SalePrice",
          "SalePrice",
          "SalePrice",
          "SalePrice",
          "SalePrice",
          "SalePrice",
          "SalePrice",
          "SalePrice",
          "SalePrice",
          "SalePrice",
          "SalePrice",
          "SalePrice",
          "SalePrice",
          "SalePrice",
          "SalePrice",
          "SalePrice",
          "SalePrice",
          "SalePrice",
          "SalePrice",
          "SalePrice",
          "SalePrice",
          "SalePrice",
          "SalePrice",
          "SalePrice",
          "SalePrice",
          "SalePrice",
          "SalePrice",
          "SalePrice",
          "SalePrice",
          "SalePrice",
          "SalePrice",
          "SalePrice",
          "SalePrice",
          "SalePrice",
          "SalePrice",
          "SalePrice",
          "SalePrice",
          "SalePrice",
          "SalePrice",
          "SalePrice",
          "SalePrice",
          "SalePrice",
          "SalePrice",
          "SalePrice",
          "SalePrice",
          "SalePrice",
          "SalePrice",
          "SalePrice",
          "SalePrice",
          "SalePrice",
          "SalePrice",
          "SalePrice",
          "SalePrice",
          "SalePrice",
          "SalePrice",
          "SalePrice",
          "SalePrice",
          "SalePrice",
          "SalePrice",
          "SalePrice",
          "SalePrice",
          "SalePrice",
          "SalePrice",
          "SalePrice",
          "SalePrice",
          "SalePrice",
          "SalePrice",
          "SalePrice",
          "SalePrice",
          "SalePrice",
          "SalePrice",
          "SalePrice",
          "SalePrice",
          "SalePrice",
          "SalePrice",
          "SalePrice",
          "SalePrice",
          "SalePrice",
          "SalePrice",
          "SalePrice",
          "SalePrice",
          "SalePrice",
          "SalePrice",
          "SalePrice",
          "SalePrice",
          "SalePrice",
          "SalePrice",
          "SalePrice",
          "SalePrice",
          "SalePrice",
          "SalePrice",
          "SalePrice",
          "SalePrice",
          "SalePrice",
          "SalePrice",
          "SalePrice",
          "SalePrice",
          "SalePrice",
          "SalePrice",
          "SalePrice",
          "SalePrice",
          "SalePrice",
          "SalePrice",
          "SalePrice",
          "SalePrice",
          "SalePrice",
          "SalePrice",
          "SalePrice",
          "SalePrice",
          "SalePrice",
          "SalePrice",
          "SalePrice",
          "SalePrice",
          "SalePrice",
          "SalePrice",
          "SalePrice",
          "SalePrice",
          "SalePrice",
          "SalePrice",
          "SalePrice",
          "SalePrice",
          "SalePrice",
          "SalePrice",
          "SalePrice",
          "SalePrice",
          "SalePrice",
          "SalePrice",
          "SalePrice",
          "SalePrice",
          "SalePrice",
          "SalePrice",
          "SalePrice",
          "SalePrice",
          "SalePrice",
          "SalePrice",
          "SalePrice",
          "SalePrice",
          "SalePrice",
          "SalePrice",
          "SalePrice",
          "SalePrice",
          "SalePrice",
          "SalePrice",
          "SalePrice",
          "SalePrice",
          "SalePrice",
          "SalePrice",
          "SalePrice",
          "SalePrice",
          "SalePrice",
          "SalePrice",
          "SalePrice",
          "SalePrice",
          "SalePrice",
          "SalePrice",
          "SalePrice",
          "SalePrice",
          "SalePrice",
          "SalePrice",
          "SalePrice",
          "SalePrice",
          "SalePrice",
          "SalePrice",
          "SalePrice",
          "SalePrice",
          "SalePrice",
          "SalePrice",
          "SalePrice",
          "SalePrice",
          "SalePrice",
          "SalePrice",
          "SalePrice",
          "SalePrice",
          "SalePrice",
          "SalePrice",
          "SalePrice",
          "SalePrice",
          "SalePrice",
          "SalePrice",
          "SalePrice",
          "SalePrice",
          "SalePrice",
          "SalePrice",
          "SalePrice",
          "SalePrice",
          "SalePrice",
          "SalePrice",
          "SalePrice",
          "SalePrice",
          "SalePrice",
          "SalePrice",
          "SalePrice",
          "SalePrice",
          "SalePrice",
          "SalePrice",
          "SalePrice",
          "SalePrice",
          "SalePrice",
          "SalePrice",
          "SalePrice",
          "SalePrice",
          "SalePrice",
          "SalePrice",
          "SalePrice",
          "SalePrice",
          "SalePrice",
          "SalePrice",
          "SalePrice",
          "SalePrice",
          "SalePrice",
          "SalePrice",
          "SalePrice",
          "SalePrice",
          "SalePrice",
          "SalePrice",
          "SalePrice",
          "SalePrice",
          "SalePrice",
          "SalePrice",
          "SalePrice",
          "SalePrice",
          "SalePrice",
          "SalePrice",
          "SalePrice",
          "SalePrice",
          "SalePrice",
          "SalePrice",
          "SalePrice",
          "SalePrice",
          "SalePrice",
          "SalePrice",
          "SalePrice",
          "SalePrice",
          "SalePrice",
          "SalePrice",
          "SalePrice",
          "SalePrice",
          "SalePrice",
          "SalePrice",
          "SalePrice",
          "SalePrice",
          "SalePrice",
          "SalePrice",
          "SalePrice",
          "SalePrice",
          "SalePrice",
          "SalePrice",
          "SalePrice",
          "SalePrice",
          "SalePrice",
          "SalePrice",
          "SalePrice",
          "SalePrice",
          "SalePrice",
          "SalePrice",
          "SalePrice",
          "SalePrice",
          "SalePrice",
          "SalePrice",
          "SalePrice",
          "SalePrice",
          "SalePrice",
          "SalePrice",
          "SalePrice",
          "SalePrice",
          "SalePrice",
          "SalePrice",
          "SalePrice",
          "SalePrice",
          "SalePrice",
          "SalePrice",
          "SalePrice",
          "SalePrice",
          "SalePrice",
          "SalePrice",
          "SalePrice",
          "SalePrice",
          "SalePrice",
          "SalePrice",
          "SalePrice",
          "SalePrice",
          "SalePrice",
          "SalePrice",
          "SalePrice",
          "SalePrice",
          "SalePrice",
          "SalePrice",
          "SalePrice",
          "SalePrice",
          "SalePrice",
          "SalePrice",
          "SalePrice",
          "SalePrice",
          "SalePrice",
          "SalePrice",
          "SalePrice",
          "SalePrice",
          "SalePrice",
          "SalePrice",
          "SalePrice",
          "SalePrice",
          "SalePrice",
          "SalePrice",
          "SalePrice",
          "SalePrice",
          "SalePrice",
          "SalePrice",
          "SalePrice",
          "SalePrice",
          "SalePrice",
          "SalePrice",
          "SalePrice",
          "SalePrice",
          "SalePrice",
          "SalePrice",
          "SalePrice",
          "SalePrice",
          "SalePrice",
          "SalePrice",
          "SalePrice",
          "SalePrice",
          "SalePrice",
          "SalePrice",
          "SalePrice",
          "SalePrice",
          "SalePrice",
          "SalePrice",
          "SalePrice",
          "SalePrice",
          "SalePrice",
          "SalePrice",
          "SalePrice",
          "SalePrice",
          "SalePrice",
          "SalePrice",
          "SalePrice",
          "SalePrice",
          "SalePrice",
          "SalePrice",
          "SalePrice",
          "SalePrice",
          "SalePrice",
          "SalePrice",
          "SalePrice",
          "SalePrice",
          "SalePrice",
          "SalePrice",
          "SalePrice",
          "SalePrice",
          "SalePrice",
          "SalePrice",
          "SalePrice",
          "SalePrice",
          "SalePrice",
          "SalePrice",
          "SalePrice",
          "SalePrice",
          "SalePrice",
          "SalePrice",
          "SalePrice",
          "SalePrice",
          "SalePrice",
          "SalePrice",
          "SalePrice",
          "SalePrice",
          "SalePrice",
          "SalePrice",
          "SalePrice",
          "SalePrice",
          "SalePrice",
          "SalePrice",
          "SalePrice",
          "SalePrice",
          "SalePrice",
          "SalePrice",
          "SalePrice",
          "SalePrice",
          "SalePrice",
          "SalePrice",
          "SalePrice",
          "SalePrice",
          "SalePrice",
          "SalePrice",
          "SalePrice",
          "SalePrice",
          "SalePrice",
          "SalePrice",
          "SalePrice",
          "SalePrice",
          "SalePrice",
          "SalePrice",
          "SalePrice",
          "SalePrice",
          "SalePrice",
          "SalePrice",
          "SalePrice",
          "SalePrice",
          "SalePrice",
          "SalePrice",
          "SalePrice",
          "SalePrice",
          "SalePrice",
          "SalePrice",
          "SalePrice",
          "SalePrice",
          "SalePrice",
          "SalePrice",
          "SalePrice",
          "SalePrice",
          "SalePrice",
          "SalePrice",
          "SalePrice",
          "SalePrice",
          "SalePrice",
          "SalePrice",
          "SalePrice",
          "SalePrice",
          "SalePrice",
          "SalePrice",
          "SalePrice",
          "SalePrice",
          "SalePrice",
          "SalePrice",
          "SalePrice",
          "SalePrice",
          "SalePrice",
          "SalePrice",
          "SalePrice",
          "SalePrice",
          "SalePrice",
          "SalePrice",
          "SalePrice",
          "SalePrice",
          "SalePrice",
          "SalePrice",
          "SalePrice",
          "SalePrice",
          "SalePrice",
          "SalePrice",
          "SalePrice",
          "SalePrice",
          "SalePrice",
          "SalePrice",
          "SalePrice",
          "SalePrice",
          "SalePrice",
          "SalePrice",
          "SalePrice",
          "SalePrice",
          "SalePrice",
          "SalePrice",
          "SalePrice",
          "SalePrice",
          "SalePrice",
          "SalePrice",
          "SalePrice",
          "SalePrice",
          "SalePrice",
          "SalePrice",
          "SalePrice",
          "SalePrice",
          "SalePrice",
          "SalePrice",
          "SalePrice",
          "SalePrice",
          "SalePrice",
          "SalePrice",
          "SalePrice",
          "SalePrice",
          "SalePrice",
          "SalePrice",
          "SalePrice",
          "SalePrice",
          "SalePrice",
          "SalePrice",
          "SalePrice",
          "SalePrice",
          "SalePrice",
          "SalePrice",
          "SalePrice",
          "SalePrice",
          "SalePrice",
          "SalePrice",
          "SalePrice",
          "SalePrice",
          "SalePrice",
          "SalePrice",
          "SalePrice",
          "SalePrice",
          "SalePrice",
          "SalePrice",
          "SalePrice",
          "SalePrice",
          "SalePrice",
          "SalePrice",
          "SalePrice",
          "SalePrice",
          "SalePrice",
          "SalePrice",
          "SalePrice",
          "SalePrice",
          "SalePrice",
          "SalePrice",
          "SalePrice",
          "SalePrice",
          "SalePrice",
          "SalePrice",
          "SalePrice",
          "SalePrice",
          "SalePrice",
          "SalePrice",
          "SalePrice",
          "SalePrice",
          "SalePrice",
          "SalePrice",
          "SalePrice",
          "SalePrice",
          "SalePrice",
          "SalePrice",
          "SalePrice",
          "SalePrice",
          "SalePrice",
          "SalePrice",
          "SalePrice",
          "SalePrice",
          "SalePrice",
          "SalePrice",
          "SalePrice",
          "SalePrice",
          "SalePrice",
          "SalePrice",
          "SalePrice",
          "SalePrice",
          "SalePrice",
          "SalePrice",
          "SalePrice",
          "SalePrice",
          "SalePrice",
          "SalePrice",
          "SalePrice",
          "SalePrice",
          "SalePrice",
          "SalePrice",
          "SalePrice",
          "SalePrice",
          "SalePrice",
          "SalePrice",
          "SalePrice",
          "SalePrice",
          "SalePrice",
          "SalePrice",
          "SalePrice",
          "SalePrice",
          "SalePrice",
          "SalePrice",
          "SalePrice",
          "SalePrice",
          "SalePrice",
          "SalePrice",
          "SalePrice",
          "SalePrice",
          "SalePrice",
          "SalePrice",
          "SalePrice",
          "SalePrice",
          "SalePrice",
          "SalePrice",
          "SalePrice",
          "SalePrice",
          "SalePrice",
          "SalePrice",
          "SalePrice",
          "SalePrice",
          "SalePrice",
          "SalePrice",
          "SalePrice",
          "SalePrice",
          "SalePrice",
          "SalePrice",
          "SalePrice",
          "SalePrice",
          "SalePrice",
          "SalePrice",
          "SalePrice",
          "SalePrice",
          "SalePrice",
          "SalePrice",
          "SalePrice",
          "SalePrice",
          "SalePrice",
          "SalePrice",
          "SalePrice",
          "SalePrice",
          "SalePrice",
          "SalePrice",
          "SalePrice",
          "SalePrice",
          "SalePrice",
          "SalePrice",
          "SalePrice",
          "SalePrice",
          "SalePrice",
          "SalePrice",
          "SalePrice",
          "SalePrice",
          "SalePrice",
          "SalePrice",
          "SalePrice",
          "SalePrice",
          "SalePrice",
          "SalePrice",
          "SalePrice",
          "SalePrice",
          "SalePrice",
          "SalePrice",
          "SalePrice",
          "SalePrice",
          "SalePrice",
          "SalePrice",
          "SalePrice",
          "SalePrice",
          "SalePrice",
          "SalePrice",
          "SalePrice",
          "SalePrice",
          "SalePrice",
          "SalePrice",
          "SalePrice",
          "SalePrice",
          "SalePrice",
          "SalePrice",
          "SalePrice",
          "SalePrice",
          "SalePrice",
          "SalePrice",
          "SalePrice",
          "SalePrice",
          "SalePrice",
          "SalePrice",
          "SalePrice",
          "SalePrice",
          "SalePrice",
          "SalePrice",
          "SalePrice",
          "SalePrice",
          "SalePrice",
          "SalePrice",
          "SalePrice",
          "SalePrice",
          "SalePrice",
          "SalePrice",
          "SalePrice",
          "SalePrice",
          "SalePrice",
          "SalePrice",
          "SalePrice",
          "SalePrice",
          "SalePrice",
          "SalePrice",
          "SalePrice",
          "SalePrice",
          "SalePrice",
          "SalePrice",
          "SalePrice",
          "SalePrice",
          "SalePrice",
          "SalePrice",
          "SalePrice",
          "SalePrice",
          "SalePrice",
          "SalePrice",
          "SalePrice",
          "SalePrice",
          "SalePrice",
          "SalePrice",
          "SalePrice",
          "SalePrice",
          "SalePrice",
          "SalePrice",
          "SalePrice",
          "SalePrice",
          "SalePrice",
          "SalePrice",
          "SalePrice",
          "SalePrice",
          "SalePrice",
          "SalePrice",
          "SalePrice",
          "SalePrice",
          "SalePrice",
          "SalePrice",
          "SalePrice",
          "SalePrice",
          "SalePrice",
          "SalePrice",
          "SalePrice",
          "SalePrice",
          "SalePrice",
          "SalePrice",
          "SalePrice",
          "SalePrice",
          "SalePrice",
          "SalePrice",
          "SalePrice",
          "SalePrice",
          "SalePrice",
          "SalePrice",
          "SalePrice",
          "SalePrice",
          "SalePrice",
          "SalePrice",
          "SalePrice",
          "SalePrice",
          "SalePrice",
          "SalePrice",
          "SalePrice",
          "SalePrice",
          "SalePrice"
         ],
         "x0": " ",
         "xaxis": "x",
         "y": [
          208500,
          181500,
          223500,
          140000,
          250000,
          143000,
          307000,
          200000,
          129900,
          118000,
          129500,
          345000,
          144000,
          279500,
          157000,
          132000,
          149000,
          90000,
          159000,
          139000,
          325300,
          139400,
          230000,
          129900,
          154000,
          256300,
          134800,
          306000,
          207500,
          68500,
          40000,
          149350,
          179900,
          165500,
          277500,
          309000,
          145000,
          153000,
          109000,
          82000,
          160000,
          170000,
          144000,
          130250,
          141000,
          319900,
          239686,
          249700,
          113000,
          127000,
          177000,
          114500,
          110000,
          385000,
          130000,
          180500,
          172500,
          196500,
          438780,
          124900,
          158000,
          101000,
          202500,
          140000,
          219500,
          317000,
          180000,
          226000,
          80000,
          225000,
          244000,
          129500,
          185000,
          144900,
          107400,
          91000,
          135750,
          127000,
          136500,
          110000,
          193500,
          153500,
          245000,
          126500,
          168500,
          260000,
          174000,
          164500,
          85000,
          123600,
          109900,
          98600,
          163500,
          133900,
          204750,
          185000,
          214000,
          94750,
          83000,
          128950,
          205000,
          178000,
          118964,
          198900,
          169500,
          250000,
          100000,
          115000,
          115000,
          190000,
          136900,
          180000,
          383970,
          217000,
          259500,
          176000,
          139000,
          155000,
          320000,
          163990,
          180000,
          100000,
          136000,
          153900,
          181000,
          84500,
          128000,
          87000,
          155000,
          150000,
          226000,
          244000,
          150750,
          220000,
          180000,
          174000,
          143000,
          171000,
          230000,
          231500,
          115000,
          260000,
          166000,
          204000,
          125000,
          130000,
          105000,
          222500,
          141000,
          115000,
          122000,
          372402,
          190000,
          235000,
          125000,
          79000,
          109500,
          269500,
          254900,
          320000,
          162500,
          412500,
          220000,
          103200,
          152000,
          127500,
          190000,
          325624,
          183500,
          228000,
          128500,
          215000,
          239000,
          163000,
          184000,
          243000,
          211000,
          172500,
          501837,
          100000,
          177000,
          200100,
          120000,
          200000,
          127000,
          475000,
          173000,
          135000,
          153337,
          286000,
          315000,
          184000,
          192000,
          130000,
          127000,
          148500,
          311872,
          235000,
          104000,
          274900,
          140000,
          171500,
          112000,
          149000,
          110000,
          180500,
          143900,
          141000,
          277000,
          145000,
          98000,
          186000,
          252678,
          156000,
          161750,
          134450,
          210000,
          107000,
          311500,
          167240,
          204900,
          200000,
          179900,
          97000,
          386250,
          112000,
          290000,
          106000,
          125000,
          192500,
          148000,
          403000,
          94500,
          128200,
          216500,
          89500,
          185500,
          194500,
          318000,
          113000,
          262500,
          110500,
          79000,
          120000,
          205000,
          241500,
          137000,
          140000,
          180000,
          277000,
          76500,
          235000,
          173000,
          158000,
          145000,
          230000,
          207500,
          220000,
          231500,
          97000,
          176000,
          276000,
          151000,
          130000,
          73000,
          175500,
          185000,
          179500,
          120500,
          148000,
          266000,
          241500,
          290000,
          139000,
          124500,
          205000,
          201000,
          141000,
          415298,
          192000,
          228500,
          185000,
          207500,
          244600,
          179200,
          164700,
          159000,
          88000,
          122000,
          153575,
          233230,
          135900,
          131000,
          235000,
          167000,
          142500,
          152000,
          239000,
          175000,
          158500,
          157000,
          267000,
          205000,
          149900,
          295000,
          305900,
          225000,
          89500,
          82500,
          360000,
          165600,
          132000,
          119900,
          375000,
          178000,
          188500,
          260000,
          270000,
          260000,
          187500,
          342643,
          354000,
          301000,
          126175,
          242000,
          87000,
          324000,
          145250,
          214500,
          78000,
          119000,
          139000,
          284000,
          207000,
          192000,
          228950,
          377426,
          214000,
          202500,
          155000,
          202900,
          82000,
          87500,
          266000,
          85000,
          140200,
          151500,
          157500,
          154000,
          437154,
          318061,
          190000,
          95000,
          105900,
          140000,
          177500,
          173000,
          134000,
          130000,
          280000,
          156000,
          145000,
          198500,
          118000,
          190000,
          147000,
          159000,
          165000,
          132000,
          162000,
          172400,
          134432,
          125000,
          123000,
          219500,
          61000,
          148000,
          340000,
          394432,
          179000,
          127000,
          187750,
          213500,
          76000,
          240000,
          192000,
          81000,
          125000,
          191000,
          426000,
          119000,
          215000,
          106500,
          100000,
          109000,
          129000,
          123000,
          169500,
          67000,
          241000,
          245500,
          164990,
          108000,
          258000,
          168000,
          150000,
          115000,
          177000,
          280000,
          339750,
          60000,
          145000,
          222000,
          115000,
          228000,
          181134,
          149500,
          239000,
          126000,
          142000,
          206300,
          215000,
          113000,
          315000,
          139000,
          135000,
          275000,
          109008,
          195400,
          175000,
          85400,
          79900,
          122500,
          181000,
          81000,
          212000,
          116000,
          119000,
          90350,
          110000,
          555000,
          118000,
          162900,
          172500,
          210000,
          127500,
          190000,
          199900,
          119500,
          120000,
          110000,
          280000,
          204000,
          210000,
          188000,
          175500,
          98000,
          256000,
          161000,
          110000,
          263435,
          155000,
          62383,
          188700,
          124000,
          178740,
          167000,
          146500,
          250000,
          187000,
          212000,
          190000,
          148000,
          440000,
          251000,
          132500,
          208900,
          380000,
          297000,
          89471,
          326000,
          374000,
          155000,
          164000,
          132500,
          147000,
          156000,
          175000,
          160000,
          86000,
          115000,
          133000,
          172785,
          155000,
          91300,
          34900,
          430000,
          184000,
          130000,
          120000,
          113000,
          226700,
          140000,
          289000,
          147000,
          124500,
          215000,
          208300,
          161000,
          124500,
          164900,
          202665,
          129900,
          134000,
          96500,
          402861,
          158000,
          265000,
          211000,
          234000,
          106250,
          150000,
          159000,
          184750,
          315750,
          176000,
          132000,
          446261,
          86000,
          200624,
          175000,
          128000,
          107500,
          39300,
          178000,
          107500,
          188000,
          111250,
          158000,
          272000,
          315000,
          248000,
          213250,
          133000,
          179665,
          229000,
          210000,
          129500,
          125000,
          263000,
          140000,
          112500,
          255500,
          108000,
          284000,
          113000,
          141000,
          108000,
          175000,
          234000,
          121500,
          170000,
          108000,
          185000,
          268000,
          128000,
          325000,
          214000,
          316600,
          135960,
          142600,
          120000,
          224500,
          170000,
          139000,
          118500,
          145000,
          164500,
          146000,
          131500,
          181900,
          253293,
          118500,
          325000,
          133000,
          369900,
          130000,
          137000,
          143000,
          79500,
          185900,
          451950,
          138000,
          140000,
          110000,
          319000,
          114504,
          194201,
          217500,
          151000,
          275000,
          141000,
          220000,
          151000,
          221000,
          205000,
          152000,
          225000,
          359100,
          118500,
          313000,
          148000,
          261500,
          147000,
          75500,
          137500,
          183200,
          105500,
          314813,
          305000,
          67000,
          240000,
          135000,
          168500,
          165150,
          160000,
          139900,
          153000,
          135000,
          168500,
          124000,
          209500,
          82500,
          139400,
          144000,
          200000,
          60000,
          93000,
          85000,
          264561,
          274000,
          226000,
          345000,
          152000,
          370878,
          143250,
          98300,
          155000,
          155000,
          84500,
          205950,
          108000,
          191000,
          135000,
          350000,
          88000,
          145500,
          149000,
          97500,
          167000,
          197900,
          402000,
          110000,
          137500,
          423000,
          230500,
          129000,
          193500,
          168000,
          137500,
          173500,
          103600,
          165000,
          257500,
          140000,
          148500,
          87000,
          109500,
          372500,
          128500,
          143000,
          159434,
          173000,
          285000,
          221000,
          207500,
          227875,
          148800,
          392000,
          194700,
          141000,
          755000,
          335000,
          108480,
          141500,
          176000,
          89000,
          123500,
          138500,
          196000,
          312500,
          140000,
          361919,
          140000,
          213000,
          55000,
          302000,
          254000,
          179540,
          109900,
          52000,
          102776,
          189000,
          129000,
          130500,
          165000,
          159500,
          157000,
          341000,
          128500,
          275000,
          143000,
          124500,
          135000,
          320000,
          120500,
          222000,
          194500,
          110000,
          103000,
          236500,
          187500,
          222500,
          131400,
          108000,
          163000,
          93500,
          239900,
          179000,
          190000,
          132000,
          142000,
          179000,
          175000,
          180000,
          299800,
          236000,
          265979,
          260400,
          98000,
          96500,
          162000,
          217000,
          275500,
          156000,
          172500,
          212000,
          158900,
          179400,
          290000,
          127500,
          100000,
          215200,
          337000,
          270000,
          264132,
          196500,
          160000,
          216837,
          538000,
          134900,
          102000,
          107000,
          114500,
          395000,
          162000,
          221500,
          142500,
          144000,
          135000,
          176000,
          175900,
          187100,
          165500,
          128000,
          161500,
          139000,
          233000,
          107900,
          187500,
          160200,
          146800,
          269790,
          225000,
          194500,
          171000,
          143500,
          110000,
          485000,
          175000,
          200000,
          109900,
          189000,
          582933,
          118000,
          227680,
          135500,
          223500,
          159950,
          106000,
          181000,
          144500,
          55993,
          157900,
          116000,
          224900,
          137000,
          271000,
          155000,
          224000,
          183000,
          93000,
          225000,
          139500,
          232600,
          385000,
          109500,
          189000,
          185000,
          147400,
          166000,
          151000,
          237000,
          167000,
          139950,
          128000,
          153500,
          100000,
          144000,
          130500,
          140000,
          157500,
          174900,
          141000,
          153900,
          171000,
          213000,
          133500,
          240000,
          187000,
          131500,
          215000,
          164000,
          158000,
          170000,
          127000,
          147000,
          174000,
          152000,
          250000,
          189950,
          131500,
          152000,
          132500,
          250580,
          148500,
          248900,
          129000,
          169000,
          236000,
          109500,
          200500,
          116000,
          133000,
          66500,
          303477,
          132250,
          350000,
          148000,
          136500,
          157000,
          187500,
          178000,
          118500,
          100000,
          328900,
          145000,
          135500,
          268000,
          149500,
          122900,
          172500,
          154500,
          165000,
          118858,
          140000,
          106500,
          142953,
          611657,
          135000,
          110000,
          153000,
          180000,
          240000,
          125500,
          128000,
          255000,
          250000,
          131000,
          174000,
          154300,
          143500,
          88000,
          145000,
          173733,
          75000,
          35311,
          135000,
          238000,
          176500,
          201000,
          145900,
          169990,
          193000,
          207500,
          175000,
          285000,
          176000,
          236500,
          222000,
          201000,
          117500,
          320000,
          190000,
          242000,
          79900,
          184900,
          253000,
          239799,
          244400,
          150900,
          214000,
          150000,
          143000,
          137500,
          124900,
          143000,
          270000,
          192500,
          197500,
          129000,
          119900,
          133900,
          172000,
          127500,
          145000,
          124000,
          132000,
          185000,
          155000,
          116500,
          272000,
          155000,
          239000,
          214900,
          178900,
          160000,
          135000,
          37900,
          140000,
          135000,
          173000,
          99500,
          182000,
          167500,
          165000,
          85500,
          199900,
          110000,
          139000,
          178400,
          336000,
          159895,
          255900,
          126000,
          125000,
          117000,
          395192,
          195000,
          197000,
          348000,
          168000,
          187000,
          173900,
          337500,
          121600,
          136500,
          185000,
          91000,
          206000,
          82000,
          86000,
          232000,
          136905,
          181000,
          149900,
          163500,
          88000,
          240000,
          102000,
          135000,
          100000,
          165000,
          85000,
          119200,
          227000,
          203000,
          187500,
          160000,
          213490,
          176000,
          194000,
          87000,
          191000,
          287000,
          112500,
          167500,
          293077,
          105000,
          118000,
          160000,
          197000,
          310000,
          230000,
          119750,
          84000,
          315500,
          287000,
          97000,
          80000,
          155000,
          173000,
          196000,
          262280,
          278000,
          139600,
          556581,
          145000,
          115000,
          84900,
          176485,
          200141,
          165000,
          144500,
          255000,
          180000,
          185850,
          248000,
          335000,
          220000,
          213500,
          81000,
          90000,
          110500,
          154000,
          328000,
          178000,
          167900,
          151400,
          135000,
          135000,
          154000,
          91500,
          159500,
          194000,
          219500,
          170000,
          138800,
          155900,
          126000,
          145000,
          133000,
          192000,
          160000,
          187500,
          147000,
          83500,
          252000,
          137500,
          197000,
          92900,
          160000,
          136500,
          146000,
          129000,
          176432,
          127000,
          170000,
          128000,
          157000,
          60000,
          119500,
          135000,
          159500,
          106000,
          325000,
          179900,
          274725,
          181000,
          280000,
          188000,
          205000,
          129900,
          134500,
          117000,
          318000,
          184100,
          130000,
          140000,
          133700,
          118400,
          212900,
          112000,
          118000,
          163900,
          115000,
          174000,
          259000,
          215000,
          140000,
          135000,
          93500,
          117500,
          239500,
          169000,
          102000,
          119000,
          94000,
          196000,
          144000,
          139000,
          197500,
          424870,
          80000,
          80000,
          149000,
          180000,
          174500,
          116900,
          143000,
          124000,
          149900,
          230000,
          120500,
          201800,
          218000,
          179900,
          230000,
          235128,
          185000,
          146000,
          224000,
          129000,
          108959,
          194000,
          233170,
          245350,
          173000,
          235000,
          625000,
          171000,
          163000,
          171900,
          200500,
          239000,
          285000,
          119500,
          115000,
          154900,
          93000,
          250000,
          392500,
          745000,
          120000,
          186700,
          104900,
          95000,
          262000,
          195000,
          189000,
          168000,
          174000,
          125000,
          165000,
          158000,
          176000,
          219210,
          144000,
          178000,
          148000,
          116050,
          197900,
          117000,
          213000,
          153500,
          271900,
          107000,
          200000,
          140000,
          290000,
          189000,
          164000,
          113000,
          145000,
          134500,
          125000,
          112000,
          229456,
          80500,
          91500,
          115000,
          134000,
          143000,
          137900,
          184000,
          145000,
          214000,
          147000,
          367294,
          127000,
          190000,
          132500,
          101800,
          142000,
          130000,
          138887,
          175500,
          195000,
          142500,
          265900,
          224900,
          248328,
          170000,
          465000,
          230000,
          178000,
          186500,
          169900,
          129500,
          119000,
          244000,
          171750,
          130000,
          294000,
          165400,
          127500,
          301500,
          99900,
          190000,
          151000,
          181000,
          128900,
          161500,
          180500,
          181000,
          183900,
          122000,
          378500,
          381000,
          144000,
          260000,
          185750,
          137000,
          177000,
          139000,
          137000,
          162000,
          197900,
          237000,
          68400,
          227000,
          180000,
          150500,
          139000,
          169000,
          132500,
          143000,
          190000,
          278000,
          281000,
          180500,
          119500,
          107500,
          162900,
          115000,
          138500,
          155000,
          140000,
          160000,
          154000,
          225000,
          177500,
          290000,
          232000,
          130000,
          325000,
          202500,
          138000,
          147000,
          179200,
          335000,
          203000,
          302000,
          333168,
          119000,
          206900,
          295493,
          208900,
          275000,
          111000,
          156500,
          72500,
          190000,
          82500,
          147000,
          55000,
          79000,
          130500,
          256000,
          176500,
          227000,
          132500,
          100000,
          125500,
          125000,
          167900,
          135000,
          52500,
          200000,
          128500,
          123000,
          155000,
          228500,
          177000,
          155835,
          108500,
          262500,
          283463,
          215000,
          122000,
          200000,
          171000,
          134900,
          410000,
          235000,
          170000,
          110000,
          149900,
          177500,
          315000,
          189000,
          260000,
          104900,
          156932,
          144152,
          216000,
          193000,
          127000,
          144000,
          232000,
          105000,
          165500,
          274300,
          466500,
          250000,
          239000,
          91000,
          117000,
          83000,
          167500,
          58500,
          237500,
          157000,
          112000,
          105000,
          125500,
          250000,
          136000,
          377500,
          131000,
          235000,
          124000,
          123000,
          163000,
          246578,
          281213,
          160000,
          137500,
          138000,
          137450,
          120000,
          193000,
          193879,
          282922,
          105000,
          275000,
          133000,
          112000,
          125500,
          215000,
          230000,
          140000,
          90000,
          257000,
          207000,
          175900,
          122500,
          340000,
          124000,
          223000,
          179900,
          127500,
          136500,
          274970,
          144000,
          142000,
          271000,
          140000,
          119000,
          182900,
          192140,
          143750,
          64500,
          186500,
          160000,
          174000,
          120500,
          394617,
          149700,
          197000,
          191000,
          149300,
          310000,
          121000,
          179600,
          129000,
          157900,
          240000,
          112000,
          92000,
          136000,
          287090,
          145000,
          84500,
          185000,
          175000,
          210000,
          266500,
          142125,
          147500
         ],
         "y0": " ",
         "yaxis": "y"
        }
       ],
       "layout": {
        "boxmode": "group",
        "hovermode": "x",
        "legend": {
         "tracegroupgap": 0
        },
        "margin": {
         "t": 60
        },
        "template": {
         "data": {
          "bar": [
           {
            "error_x": {
             "color": "#2a3f5f"
            },
            "error_y": {
             "color": "#2a3f5f"
            },
            "marker": {
             "line": {
              "color": "#E5ECF6",
              "width": 0.5
             }
            },
            "type": "bar"
           }
          ],
          "barpolar": [
           {
            "marker": {
             "line": {
              "color": "#E5ECF6",
              "width": 0.5
             }
            },
            "type": "barpolar"
           }
          ],
          "carpet": [
           {
            "aaxis": {
             "endlinecolor": "#2a3f5f",
             "gridcolor": "white",
             "linecolor": "white",
             "minorgridcolor": "white",
             "startlinecolor": "#2a3f5f"
            },
            "baxis": {
             "endlinecolor": "#2a3f5f",
             "gridcolor": "white",
             "linecolor": "white",
             "minorgridcolor": "white",
             "startlinecolor": "#2a3f5f"
            },
            "type": "carpet"
           }
          ],
          "choropleth": [
           {
            "colorbar": {
             "outlinewidth": 0,
             "ticks": ""
            },
            "type": "choropleth"
           }
          ],
          "contour": [
           {
            "colorbar": {
             "outlinewidth": 0,
             "ticks": ""
            },
            "colorscale": [
             [
              0,
              "#0d0887"
             ],
             [
              0.1111111111111111,
              "#46039f"
             ],
             [
              0.2222222222222222,
              "#7201a8"
             ],
             [
              0.3333333333333333,
              "#9c179e"
             ],
             [
              0.4444444444444444,
              "#bd3786"
             ],
             [
              0.5555555555555556,
              "#d8576b"
             ],
             [
              0.6666666666666666,
              "#ed7953"
             ],
             [
              0.7777777777777778,
              "#fb9f3a"
             ],
             [
              0.8888888888888888,
              "#fdca26"
             ],
             [
              1,
              "#f0f921"
             ]
            ],
            "type": "contour"
           }
          ],
          "contourcarpet": [
           {
            "colorbar": {
             "outlinewidth": 0,
             "ticks": ""
            },
            "type": "contourcarpet"
           }
          ],
          "heatmap": [
           {
            "colorbar": {
             "outlinewidth": 0,
             "ticks": ""
            },
            "colorscale": [
             [
              0,
              "#0d0887"
             ],
             [
              0.1111111111111111,
              "#46039f"
             ],
             [
              0.2222222222222222,
              "#7201a8"
             ],
             [
              0.3333333333333333,
              "#9c179e"
             ],
             [
              0.4444444444444444,
              "#bd3786"
             ],
             [
              0.5555555555555556,
              "#d8576b"
             ],
             [
              0.6666666666666666,
              "#ed7953"
             ],
             [
              0.7777777777777778,
              "#fb9f3a"
             ],
             [
              0.8888888888888888,
              "#fdca26"
             ],
             [
              1,
              "#f0f921"
             ]
            ],
            "type": "heatmap"
           }
          ],
          "heatmapgl": [
           {
            "colorbar": {
             "outlinewidth": 0,
             "ticks": ""
            },
            "colorscale": [
             [
              0,
              "#0d0887"
             ],
             [
              0.1111111111111111,
              "#46039f"
             ],
             [
              0.2222222222222222,
              "#7201a8"
             ],
             [
              0.3333333333333333,
              "#9c179e"
             ],
             [
              0.4444444444444444,
              "#bd3786"
             ],
             [
              0.5555555555555556,
              "#d8576b"
             ],
             [
              0.6666666666666666,
              "#ed7953"
             ],
             [
              0.7777777777777778,
              "#fb9f3a"
             ],
             [
              0.8888888888888888,
              "#fdca26"
             ],
             [
              1,
              "#f0f921"
             ]
            ],
            "type": "heatmapgl"
           }
          ],
          "histogram": [
           {
            "marker": {
             "colorbar": {
              "outlinewidth": 0,
              "ticks": ""
             }
            },
            "type": "histogram"
           }
          ],
          "histogram2d": [
           {
            "colorbar": {
             "outlinewidth": 0,
             "ticks": ""
            },
            "colorscale": [
             [
              0,
              "#0d0887"
             ],
             [
              0.1111111111111111,
              "#46039f"
             ],
             [
              0.2222222222222222,
              "#7201a8"
             ],
             [
              0.3333333333333333,
              "#9c179e"
             ],
             [
              0.4444444444444444,
              "#bd3786"
             ],
             [
              0.5555555555555556,
              "#d8576b"
             ],
             [
              0.6666666666666666,
              "#ed7953"
             ],
             [
              0.7777777777777778,
              "#fb9f3a"
             ],
             [
              0.8888888888888888,
              "#fdca26"
             ],
             [
              1,
              "#f0f921"
             ]
            ],
            "type": "histogram2d"
           }
          ],
          "histogram2dcontour": [
           {
            "colorbar": {
             "outlinewidth": 0,
             "ticks": ""
            },
            "colorscale": [
             [
              0,
              "#0d0887"
             ],
             [
              0.1111111111111111,
              "#46039f"
             ],
             [
              0.2222222222222222,
              "#7201a8"
             ],
             [
              0.3333333333333333,
              "#9c179e"
             ],
             [
              0.4444444444444444,
              "#bd3786"
             ],
             [
              0.5555555555555556,
              "#d8576b"
             ],
             [
              0.6666666666666666,
              "#ed7953"
             ],
             [
              0.7777777777777778,
              "#fb9f3a"
             ],
             [
              0.8888888888888888,
              "#fdca26"
             ],
             [
              1,
              "#f0f921"
             ]
            ],
            "type": "histogram2dcontour"
           }
          ],
          "mesh3d": [
           {
            "colorbar": {
             "outlinewidth": 0,
             "ticks": ""
            },
            "type": "mesh3d"
           }
          ],
          "parcoords": [
           {
            "line": {
             "colorbar": {
              "outlinewidth": 0,
              "ticks": ""
             }
            },
            "type": "parcoords"
           }
          ],
          "pie": [
           {
            "automargin": true,
            "type": "pie"
           }
          ],
          "scatter": [
           {
            "marker": {
             "colorbar": {
              "outlinewidth": 0,
              "ticks": ""
             }
            },
            "type": "scatter"
           }
          ],
          "scatter3d": [
           {
            "line": {
             "colorbar": {
              "outlinewidth": 0,
              "ticks": ""
             }
            },
            "marker": {
             "colorbar": {
              "outlinewidth": 0,
              "ticks": ""
             }
            },
            "type": "scatter3d"
           }
          ],
          "scattercarpet": [
           {
            "marker": {
             "colorbar": {
              "outlinewidth": 0,
              "ticks": ""
             }
            },
            "type": "scattercarpet"
           }
          ],
          "scattergeo": [
           {
            "marker": {
             "colorbar": {
              "outlinewidth": 0,
              "ticks": ""
             }
            },
            "type": "scattergeo"
           }
          ],
          "scattergl": [
           {
            "marker": {
             "colorbar": {
              "outlinewidth": 0,
              "ticks": ""
             }
            },
            "type": "scattergl"
           }
          ],
          "scattermapbox": [
           {
            "marker": {
             "colorbar": {
              "outlinewidth": 0,
              "ticks": ""
             }
            },
            "type": "scattermapbox"
           }
          ],
          "scatterpolar": [
           {
            "marker": {
             "colorbar": {
              "outlinewidth": 0,
              "ticks": ""
             }
            },
            "type": "scatterpolar"
           }
          ],
          "scatterpolargl": [
           {
            "marker": {
             "colorbar": {
              "outlinewidth": 0,
              "ticks": ""
             }
            },
            "type": "scatterpolargl"
           }
          ],
          "scatterternary": [
           {
            "marker": {
             "colorbar": {
              "outlinewidth": 0,
              "ticks": ""
             }
            },
            "type": "scatterternary"
           }
          ],
          "surface": [
           {
            "colorbar": {
             "outlinewidth": 0,
             "ticks": ""
            },
            "colorscale": [
             [
              0,
              "#0d0887"
             ],
             [
              0.1111111111111111,
              "#46039f"
             ],
             [
              0.2222222222222222,
              "#7201a8"
             ],
             [
              0.3333333333333333,
              "#9c179e"
             ],
             [
              0.4444444444444444,
              "#bd3786"
             ],
             [
              0.5555555555555556,
              "#d8576b"
             ],
             [
              0.6666666666666666,
              "#ed7953"
             ],
             [
              0.7777777777777778,
              "#fb9f3a"
             ],
             [
              0.8888888888888888,
              "#fdca26"
             ],
             [
              1,
              "#f0f921"
             ]
            ],
            "type": "surface"
           }
          ],
          "table": [
           {
            "cells": {
             "fill": {
              "color": "#EBF0F8"
             },
             "line": {
              "color": "white"
             }
            },
            "header": {
             "fill": {
              "color": "#C8D4E3"
             },
             "line": {
              "color": "white"
             }
            },
            "type": "table"
           }
          ]
         },
         "layout": {
          "annotationdefaults": {
           "arrowcolor": "#2a3f5f",
           "arrowhead": 0,
           "arrowwidth": 1
          },
          "coloraxis": {
           "colorbar": {
            "outlinewidth": 0,
            "ticks": ""
           }
          },
          "colorscale": {
           "diverging": [
            [
             0,
             "#8e0152"
            ],
            [
             0.1,
             "#c51b7d"
            ],
            [
             0.2,
             "#de77ae"
            ],
            [
             0.3,
             "#f1b6da"
            ],
            [
             0.4,
             "#fde0ef"
            ],
            [
             0.5,
             "#f7f7f7"
            ],
            [
             0.6,
             "#e6f5d0"
            ],
            [
             0.7,
             "#b8e186"
            ],
            [
             0.8,
             "#7fbc41"
            ],
            [
             0.9,
             "#4d9221"
            ],
            [
             1,
             "#276419"
            ]
           ],
           "sequential": [
            [
             0,
             "#0d0887"
            ],
            [
             0.1111111111111111,
             "#46039f"
            ],
            [
             0.2222222222222222,
             "#7201a8"
            ],
            [
             0.3333333333333333,
             "#9c179e"
            ],
            [
             0.4444444444444444,
             "#bd3786"
            ],
            [
             0.5555555555555556,
             "#d8576b"
            ],
            [
             0.6666666666666666,
             "#ed7953"
            ],
            [
             0.7777777777777778,
             "#fb9f3a"
            ],
            [
             0.8888888888888888,
             "#fdca26"
            ],
            [
             1,
             "#f0f921"
            ]
           ],
           "sequentialminus": [
            [
             0,
             "#0d0887"
            ],
            [
             0.1111111111111111,
             "#46039f"
            ],
            [
             0.2222222222222222,
             "#7201a8"
            ],
            [
             0.3333333333333333,
             "#9c179e"
            ],
            [
             0.4444444444444444,
             "#bd3786"
            ],
            [
             0.5555555555555556,
             "#d8576b"
            ],
            [
             0.6666666666666666,
             "#ed7953"
            ],
            [
             0.7777777777777778,
             "#fb9f3a"
            ],
            [
             0.8888888888888888,
             "#fdca26"
            ],
            [
             1,
             "#f0f921"
            ]
           ]
          },
          "colorway": [
           "#636efa",
           "#EF553B",
           "#00cc96",
           "#ab63fa",
           "#FFA15A",
           "#19d3f3",
           "#FF6692",
           "#B6E880",
           "#FF97FF",
           "#FECB52"
          ],
          "font": {
           "color": "#2a3f5f"
          },
          "geo": {
           "bgcolor": "white",
           "lakecolor": "white",
           "landcolor": "#E5ECF6",
           "showlakes": true,
           "showland": true,
           "subunitcolor": "white"
          },
          "hoverlabel": {
           "align": "left"
          },
          "hovermode": "closest",
          "mapbox": {
           "style": "light"
          },
          "paper_bgcolor": "white",
          "plot_bgcolor": "#E5ECF6",
          "polar": {
           "angularaxis": {
            "gridcolor": "white",
            "linecolor": "white",
            "ticks": ""
           },
           "bgcolor": "#E5ECF6",
           "radialaxis": {
            "gridcolor": "white",
            "linecolor": "white",
            "ticks": ""
           }
          },
          "scene": {
           "xaxis": {
            "backgroundcolor": "#E5ECF6",
            "gridcolor": "white",
            "gridwidth": 2,
            "linecolor": "white",
            "showbackground": true,
            "ticks": "",
            "zerolinecolor": "white"
           },
           "yaxis": {
            "backgroundcolor": "#E5ECF6",
            "gridcolor": "white",
            "gridwidth": 2,
            "linecolor": "white",
            "showbackground": true,
            "ticks": "",
            "zerolinecolor": "white"
           },
           "zaxis": {
            "backgroundcolor": "#E5ECF6",
            "gridcolor": "white",
            "gridwidth": 2,
            "linecolor": "white",
            "showbackground": true,
            "ticks": "",
            "zerolinecolor": "white"
           }
          },
          "shapedefaults": {
           "line": {
            "color": "#2a3f5f"
           }
          },
          "ternary": {
           "aaxis": {
            "gridcolor": "white",
            "linecolor": "white",
            "ticks": ""
           },
           "baxis": {
            "gridcolor": "white",
            "linecolor": "white",
            "ticks": ""
           },
           "bgcolor": "#E5ECF6",
           "caxis": {
            "gridcolor": "white",
            "linecolor": "white",
            "ticks": ""
           }
          },
          "title": {
           "x": 0.05
          },
          "xaxis": {
           "automargin": true,
           "gridcolor": "white",
           "linecolor": "white",
           "ticks": "",
           "title": {
            "standoff": 15
           },
           "zerolinecolor": "white",
           "zerolinewidth": 2
          },
          "yaxis": {
           "automargin": true,
           "gridcolor": "white",
           "linecolor": "white",
           "ticks": "",
           "title": {
            "standoff": 15
           },
           "zerolinecolor": "white",
           "zerolinewidth": 2
          }
         }
        },
        "title": {
         "text": "Distribuição de Preço"
        },
        "width": 350,
        "xaxis": {
         "anchor": "y",
         "domain": [
          0,
          1
         ],
         "title": {
          "text": "Variável"
         }
        },
        "yaxis": {
         "anchor": "x",
         "domain": [
          0,
          1
         ],
         "title": {
          "text": "Preço"
         }
        }
       }
      }
     },
     "metadata": {}
    }
   ],
   "source": [
    "fig = px.box(df_train['SalePrice'], labels={'value': 'Preço', 'variable': 'Variável'})\n",
    "fig.update_layout(width=350, title='Distribuição de Preço', hovermode=\"x\")"
   ]
  },
  {
   "cell_type": "code",
   "execution_count": 16,
   "metadata": {},
   "outputs": [
    {
     "output_type": "display_data",
     "data": {
      "application/vnd.plotly.v1+json": {
       "config": {
        "plotlyServerURL": "https://plot.ly"
       },
       "data": [
        {
         "coloraxis": "coloraxis",
         "hovertemplate": "x: %{x}<br>y: %{y}<br>color: %{z}<extra></extra>",
         "type": "heatmap",
         "x": [
          "MSSubClass",
          "LotFrontage",
          "LotArea",
          "OverallQual",
          "OverallCond",
          "YearBuilt",
          "YearRemodAdd",
          "MasVnrArea",
          "BsmtFinSF1",
          "BsmtFinSF2",
          "BsmtUnfSF",
          "TotalBsmtSF",
          "1stFlrSF",
          "2ndFlrSF",
          "LowQualFinSF",
          "GrLivArea",
          "BsmtFullBath",
          "BsmtHalfBath",
          "FullBath",
          "HalfBath",
          "BedroomAbvGr",
          "KitchenAbvGr",
          "TotRmsAbvGrd",
          "Fireplaces",
          "GarageYrBlt",
          "GarageCars",
          "GarageArea",
          "WoodDeckSF",
          "OpenPorchSF",
          "EnclosedPorch",
          "3SsnPorch",
          "ScreenPorch",
          "PoolArea",
          "MiscVal",
          "MoSold",
          "YrSold",
          "SalePrice"
         ],
         "y": [
          "MSSubClass",
          "LotFrontage",
          "LotArea",
          "OverallQual",
          "OverallCond",
          "YearBuilt",
          "YearRemodAdd",
          "MasVnrArea",
          "BsmtFinSF1",
          "BsmtFinSF2",
          "BsmtUnfSF",
          "TotalBsmtSF",
          "1stFlrSF",
          "2ndFlrSF",
          "LowQualFinSF",
          "GrLivArea",
          "BsmtFullBath",
          "BsmtHalfBath",
          "FullBath",
          "HalfBath",
          "BedroomAbvGr",
          "KitchenAbvGr",
          "TotRmsAbvGrd",
          "Fireplaces",
          "GarageYrBlt",
          "GarageCars",
          "GarageArea",
          "WoodDeckSF",
          "OpenPorchSF",
          "EnclosedPorch",
          "3SsnPorch",
          "ScreenPorch",
          "PoolArea",
          "MiscVal",
          "MoSold",
          "YrSold",
          "SalePrice"
         ],
         "z": [
          [
           1,
           null,
           null,
           null,
           null,
           null,
           null,
           null,
           null,
           null,
           null,
           null,
           null,
           null,
           null,
           null,
           null,
           null,
           null,
           null,
           null,
           null,
           null,
           null,
           null,
           null,
           null,
           null,
           null,
           null,
           null,
           null,
           null,
           null,
           null,
           null,
           null
          ],
          [
           null,
           1,
           null,
           null,
           null,
           null,
           null,
           null,
           null,
           null,
           null,
           null,
           null,
           null,
           null,
           null,
           null,
           null,
           null,
           null,
           null,
           null,
           null,
           null,
           null,
           null,
           null,
           null,
           null,
           null,
           null,
           null,
           null,
           null,
           null,
           null,
           null
          ],
          [
           null,
           null,
           1,
           null,
           null,
           null,
           null,
           null,
           null,
           null,
           null,
           null,
           null,
           null,
           null,
           null,
           null,
           null,
           null,
           null,
           null,
           null,
           null,
           null,
           null,
           null,
           null,
           null,
           null,
           null,
           null,
           null,
           null,
           null,
           null,
           null,
           null
          ],
          [
           null,
           null,
           null,
           1,
           null,
           null,
           null,
           null,
           null,
           null,
           null,
           null,
           null,
           null,
           null,
           null,
           null,
           null,
           null,
           null,
           null,
           null,
           null,
           null,
           null,
           null,
           null,
           null,
           null,
           null,
           null,
           null,
           null,
           null,
           null,
           null,
           null
          ],
          [
           null,
           null,
           null,
           null,
           1,
           null,
           null,
           null,
           null,
           null,
           null,
           null,
           null,
           null,
           null,
           null,
           null,
           null,
           null,
           null,
           null,
           null,
           null,
           null,
           null,
           null,
           null,
           null,
           null,
           null,
           null,
           null,
           null,
           null,
           null,
           null,
           null
          ],
          [
           null,
           null,
           null,
           null,
           null,
           1,
           null,
           null,
           null,
           null,
           null,
           null,
           null,
           null,
           null,
           null,
           null,
           null,
           null,
           null,
           null,
           null,
           null,
           null,
           null,
           null,
           null,
           null,
           null,
           null,
           null,
           null,
           null,
           null,
           null,
           null,
           null
          ],
          [
           null,
           null,
           null,
           null,
           null,
           null,
           1,
           null,
           null,
           null,
           null,
           null,
           null,
           null,
           null,
           null,
           null,
           null,
           null,
           null,
           null,
           null,
           null,
           null,
           null,
           null,
           null,
           null,
           null,
           null,
           null,
           null,
           null,
           null,
           null,
           null,
           null
          ],
          [
           null,
           null,
           null,
           null,
           null,
           null,
           null,
           1,
           null,
           null,
           null,
           null,
           null,
           null,
           null,
           null,
           null,
           null,
           null,
           null,
           null,
           null,
           null,
           null,
           null,
           null,
           null,
           null,
           null,
           null,
           null,
           null,
           null,
           null,
           null,
           null,
           null
          ],
          [
           null,
           null,
           null,
           null,
           null,
           null,
           null,
           null,
           1,
           null,
           null,
           null,
           null,
           null,
           null,
           null,
           null,
           null,
           null,
           null,
           null,
           null,
           null,
           null,
           null,
           null,
           null,
           null,
           null,
           null,
           null,
           null,
           null,
           null,
           null,
           null,
           null
          ],
          [
           null,
           null,
           null,
           null,
           null,
           null,
           null,
           null,
           null,
           1,
           null,
           null,
           null,
           null,
           null,
           null,
           null,
           null,
           null,
           null,
           null,
           null,
           null,
           null,
           null,
           null,
           null,
           null,
           null,
           null,
           null,
           null,
           null,
           null,
           null,
           null,
           null
          ],
          [
           null,
           null,
           null,
           null,
           null,
           null,
           null,
           null,
           null,
           null,
           1,
           null,
           null,
           null,
           null,
           null,
           null,
           null,
           null,
           null,
           null,
           null,
           null,
           null,
           null,
           null,
           null,
           null,
           null,
           null,
           null,
           null,
           null,
           null,
           null,
           null,
           null
          ],
          [
           null,
           null,
           null,
           null,
           null,
           null,
           null,
           null,
           null,
           null,
           null,
           1,
           null,
           null,
           null,
           null,
           null,
           null,
           null,
           null,
           null,
           null,
           null,
           null,
           null,
           null,
           null,
           null,
           null,
           null,
           null,
           null,
           null,
           null,
           null,
           null,
           null
          ],
          [
           null,
           null,
           null,
           null,
           null,
           null,
           null,
           null,
           null,
           null,
           null,
           null,
           1,
           null,
           null,
           null,
           null,
           null,
           null,
           null,
           null,
           null,
           null,
           null,
           null,
           null,
           null,
           null,
           null,
           null,
           null,
           null,
           null,
           null,
           null,
           null,
           null
          ],
          [
           null,
           null,
           null,
           null,
           null,
           null,
           null,
           null,
           null,
           null,
           null,
           null,
           null,
           1,
           null,
           null,
           null,
           null,
           null,
           null,
           null,
           null,
           null,
           null,
           null,
           null,
           null,
           null,
           null,
           null,
           null,
           null,
           null,
           null,
           null,
           null,
           null
          ],
          [
           null,
           null,
           null,
           null,
           null,
           null,
           null,
           null,
           null,
           null,
           null,
           null,
           null,
           null,
           1,
           null,
           null,
           null,
           null,
           null,
           null,
           null,
           null,
           null,
           null,
           null,
           null,
           null,
           null,
           null,
           null,
           null,
           null,
           null,
           null,
           null,
           null
          ],
          [
           null,
           null,
           null,
           null,
           null,
           null,
           null,
           null,
           null,
           null,
           null,
           null,
           null,
           null,
           null,
           1,
           null,
           null,
           null,
           null,
           null,
           null,
           null,
           null,
           null,
           null,
           null,
           null,
           null,
           null,
           null,
           null,
           null,
           null,
           null,
           null,
           null
          ],
          [
           null,
           null,
           null,
           null,
           null,
           null,
           null,
           null,
           null,
           null,
           null,
           null,
           null,
           null,
           null,
           null,
           1,
           null,
           null,
           null,
           null,
           null,
           null,
           null,
           null,
           null,
           null,
           null,
           null,
           null,
           null,
           null,
           null,
           null,
           null,
           null,
           null
          ],
          [
           null,
           null,
           null,
           null,
           null,
           null,
           null,
           null,
           null,
           null,
           null,
           null,
           null,
           null,
           null,
           null,
           null,
           1,
           null,
           null,
           null,
           null,
           null,
           null,
           null,
           null,
           null,
           null,
           null,
           null,
           null,
           null,
           null,
           null,
           null,
           null,
           null
          ],
          [
           null,
           null,
           null,
           null,
           null,
           null,
           null,
           null,
           null,
           null,
           null,
           null,
           null,
           null,
           null,
           null,
           null,
           null,
           1,
           null,
           null,
           null,
           null,
           null,
           null,
           null,
           null,
           null,
           null,
           null,
           null,
           null,
           null,
           null,
           null,
           null,
           null
          ],
          [
           null,
           null,
           null,
           null,
           null,
           null,
           null,
           null,
           null,
           null,
           null,
           null,
           null,
           null,
           null,
           null,
           null,
           null,
           null,
           1,
           null,
           null,
           null,
           null,
           null,
           null,
           null,
           null,
           null,
           null,
           null,
           null,
           null,
           null,
           null,
           null,
           null
          ],
          [
           null,
           null,
           null,
           null,
           null,
           null,
           null,
           null,
           null,
           null,
           null,
           null,
           null,
           null,
           null,
           null,
           null,
           null,
           null,
           null,
           1,
           null,
           null,
           null,
           null,
           null,
           null,
           null,
           null,
           null,
           null,
           null,
           null,
           null,
           null,
           null,
           null
          ],
          [
           null,
           null,
           null,
           null,
           null,
           null,
           null,
           null,
           null,
           null,
           null,
           null,
           null,
           null,
           null,
           null,
           null,
           null,
           null,
           null,
           null,
           1,
           null,
           null,
           null,
           null,
           null,
           null,
           null,
           null,
           null,
           null,
           null,
           null,
           null,
           null,
           null
          ],
          [
           null,
           null,
           null,
           null,
           null,
           null,
           null,
           null,
           null,
           null,
           null,
           null,
           null,
           null,
           null,
           null,
           null,
           null,
           null,
           null,
           null,
           null,
           1,
           null,
           null,
           null,
           null,
           null,
           null,
           null,
           null,
           null,
           null,
           null,
           null,
           null,
           null
          ],
          [
           null,
           null,
           null,
           null,
           null,
           null,
           null,
           null,
           null,
           null,
           null,
           null,
           null,
           null,
           null,
           null,
           null,
           null,
           null,
           null,
           null,
           null,
           null,
           1,
           null,
           null,
           null,
           null,
           null,
           null,
           null,
           null,
           null,
           null,
           null,
           null,
           null
          ],
          [
           null,
           null,
           null,
           null,
           null,
           null,
           null,
           null,
           null,
           null,
           null,
           null,
           null,
           null,
           null,
           null,
           null,
           null,
           null,
           null,
           null,
           null,
           null,
           null,
           1,
           null,
           null,
           null,
           null,
           null,
           null,
           null,
           null,
           null,
           null,
           null,
           null
          ],
          [
           null,
           null,
           null,
           null,
           null,
           null,
           null,
           null,
           null,
           null,
           null,
           null,
           null,
           null,
           null,
           null,
           null,
           null,
           null,
           null,
           null,
           null,
           null,
           null,
           null,
           1,
           null,
           null,
           null,
           null,
           null,
           null,
           null,
           null,
           null,
           null,
           null
          ],
          [
           null,
           null,
           null,
           null,
           null,
           null,
           null,
           null,
           null,
           null,
           null,
           null,
           null,
           null,
           null,
           null,
           null,
           null,
           null,
           null,
           null,
           null,
           null,
           null,
           null,
           null,
           1,
           null,
           null,
           null,
           null,
           null,
           null,
           null,
           null,
           null,
           null
          ],
          [
           null,
           null,
           null,
           null,
           null,
           null,
           null,
           null,
           null,
           null,
           null,
           null,
           null,
           null,
           null,
           null,
           null,
           null,
           null,
           null,
           null,
           null,
           null,
           null,
           null,
           null,
           null,
           1,
           null,
           null,
           null,
           null,
           null,
           null,
           null,
           null,
           null
          ],
          [
           null,
           null,
           null,
           null,
           null,
           null,
           null,
           null,
           null,
           null,
           null,
           null,
           null,
           null,
           null,
           null,
           null,
           null,
           null,
           null,
           null,
           null,
           null,
           null,
           null,
           null,
           null,
           null,
           1,
           null,
           null,
           null,
           null,
           null,
           null,
           null,
           null
          ],
          [
           null,
           null,
           null,
           null,
           null,
           null,
           null,
           null,
           null,
           null,
           null,
           null,
           null,
           null,
           null,
           null,
           null,
           null,
           null,
           null,
           null,
           null,
           null,
           null,
           null,
           null,
           null,
           null,
           null,
           1,
           null,
           null,
           null,
           null,
           null,
           null,
           null
          ],
          [
           null,
           null,
           null,
           null,
           null,
           null,
           null,
           null,
           null,
           null,
           null,
           null,
           null,
           null,
           null,
           null,
           null,
           null,
           null,
           null,
           null,
           null,
           null,
           null,
           null,
           null,
           null,
           null,
           null,
           null,
           1,
           null,
           null,
           null,
           null,
           null,
           null
          ],
          [
           null,
           null,
           null,
           null,
           null,
           null,
           null,
           null,
           null,
           null,
           null,
           null,
           null,
           null,
           null,
           null,
           null,
           null,
           null,
           null,
           null,
           null,
           null,
           null,
           null,
           null,
           null,
           null,
           null,
           null,
           null,
           1,
           null,
           null,
           null,
           null,
           null
          ],
          [
           null,
           null,
           null,
           null,
           null,
           null,
           null,
           null,
           null,
           null,
           null,
           null,
           null,
           null,
           null,
           null,
           null,
           null,
           null,
           null,
           null,
           null,
           null,
           null,
           null,
           null,
           null,
           null,
           null,
           null,
           null,
           null,
           1,
           null,
           null,
           null,
           null
          ],
          [
           null,
           null,
           null,
           null,
           null,
           null,
           null,
           null,
           null,
           null,
           null,
           null,
           null,
           null,
           null,
           null,
           null,
           null,
           null,
           null,
           null,
           null,
           null,
           null,
           null,
           null,
           null,
           null,
           null,
           null,
           null,
           null,
           null,
           1,
           null,
           null,
           null
          ],
          [
           null,
           null,
           null,
           null,
           null,
           null,
           null,
           null,
           null,
           null,
           null,
           null,
           null,
           null,
           null,
           null,
           null,
           null,
           null,
           null,
           null,
           null,
           null,
           null,
           null,
           null,
           null,
           null,
           null,
           null,
           null,
           null,
           null,
           null,
           1,
           null,
           null
          ],
          [
           null,
           null,
           null,
           null,
           null,
           null,
           null,
           null,
           null,
           null,
           null,
           null,
           null,
           null,
           null,
           null,
           null,
           null,
           null,
           null,
           null,
           null,
           null,
           null,
           null,
           null,
           null,
           null,
           null,
           null,
           null,
           null,
           null,
           null,
           null,
           1,
           null
          ],
          [
           null,
           null,
           null,
           null,
           null,
           null,
           null,
           null,
           null,
           null,
           null,
           null,
           null,
           null,
           null,
           null,
           null,
           null,
           null,
           null,
           null,
           null,
           null,
           null,
           null,
           null,
           null,
           null,
           null,
           null,
           null,
           null,
           null,
           null,
           null,
           null,
           1
          ]
         ]
        }
       ],
       "layout": {
        "coloraxis": {
         "colorscale": [
          [
           0,
           "#0d0887"
          ],
          [
           0.1111111111111111,
           "#46039f"
          ],
          [
           0.2222222222222222,
           "#7201a8"
          ],
          [
           0.3333333333333333,
           "#9c179e"
          ],
          [
           0.4444444444444444,
           "#bd3786"
          ],
          [
           0.5555555555555556,
           "#d8576b"
          ],
          [
           0.6666666666666666,
           "#ed7953"
          ],
          [
           0.7777777777777778,
           "#fb9f3a"
          ],
          [
           0.8888888888888888,
           "#fdca26"
          ],
          [
           1,
           "#f0f921"
          ]
         ]
        },
        "margin": {
         "t": 60
        },
        "template": {
         "data": {
          "bar": [
           {
            "error_x": {
             "color": "#2a3f5f"
            },
            "error_y": {
             "color": "#2a3f5f"
            },
            "marker": {
             "line": {
              "color": "#E5ECF6",
              "width": 0.5
             }
            },
            "type": "bar"
           }
          ],
          "barpolar": [
           {
            "marker": {
             "line": {
              "color": "#E5ECF6",
              "width": 0.5
             }
            },
            "type": "barpolar"
           }
          ],
          "carpet": [
           {
            "aaxis": {
             "endlinecolor": "#2a3f5f",
             "gridcolor": "white",
             "linecolor": "white",
             "minorgridcolor": "white",
             "startlinecolor": "#2a3f5f"
            },
            "baxis": {
             "endlinecolor": "#2a3f5f",
             "gridcolor": "white",
             "linecolor": "white",
             "minorgridcolor": "white",
             "startlinecolor": "#2a3f5f"
            },
            "type": "carpet"
           }
          ],
          "choropleth": [
           {
            "colorbar": {
             "outlinewidth": 0,
             "ticks": ""
            },
            "type": "choropleth"
           }
          ],
          "contour": [
           {
            "colorbar": {
             "outlinewidth": 0,
             "ticks": ""
            },
            "colorscale": [
             [
              0,
              "#0d0887"
             ],
             [
              0.1111111111111111,
              "#46039f"
             ],
             [
              0.2222222222222222,
              "#7201a8"
             ],
             [
              0.3333333333333333,
              "#9c179e"
             ],
             [
              0.4444444444444444,
              "#bd3786"
             ],
             [
              0.5555555555555556,
              "#d8576b"
             ],
             [
              0.6666666666666666,
              "#ed7953"
             ],
             [
              0.7777777777777778,
              "#fb9f3a"
             ],
             [
              0.8888888888888888,
              "#fdca26"
             ],
             [
              1,
              "#f0f921"
             ]
            ],
            "type": "contour"
           }
          ],
          "contourcarpet": [
           {
            "colorbar": {
             "outlinewidth": 0,
             "ticks": ""
            },
            "type": "contourcarpet"
           }
          ],
          "heatmap": [
           {
            "colorbar": {
             "outlinewidth": 0,
             "ticks": ""
            },
            "colorscale": [
             [
              0,
              "#0d0887"
             ],
             [
              0.1111111111111111,
              "#46039f"
             ],
             [
              0.2222222222222222,
              "#7201a8"
             ],
             [
              0.3333333333333333,
              "#9c179e"
             ],
             [
              0.4444444444444444,
              "#bd3786"
             ],
             [
              0.5555555555555556,
              "#d8576b"
             ],
             [
              0.6666666666666666,
              "#ed7953"
             ],
             [
              0.7777777777777778,
              "#fb9f3a"
             ],
             [
              0.8888888888888888,
              "#fdca26"
             ],
             [
              1,
              "#f0f921"
             ]
            ],
            "type": "heatmap"
           }
          ],
          "heatmapgl": [
           {
            "colorbar": {
             "outlinewidth": 0,
             "ticks": ""
            },
            "colorscale": [
             [
              0,
              "#0d0887"
             ],
             [
              0.1111111111111111,
              "#46039f"
             ],
             [
              0.2222222222222222,
              "#7201a8"
             ],
             [
              0.3333333333333333,
              "#9c179e"
             ],
             [
              0.4444444444444444,
              "#bd3786"
             ],
             [
              0.5555555555555556,
              "#d8576b"
             ],
             [
              0.6666666666666666,
              "#ed7953"
             ],
             [
              0.7777777777777778,
              "#fb9f3a"
             ],
             [
              0.8888888888888888,
              "#fdca26"
             ],
             [
              1,
              "#f0f921"
             ]
            ],
            "type": "heatmapgl"
           }
          ],
          "histogram": [
           {
            "marker": {
             "colorbar": {
              "outlinewidth": 0,
              "ticks": ""
             }
            },
            "type": "histogram"
           }
          ],
          "histogram2d": [
           {
            "colorbar": {
             "outlinewidth": 0,
             "ticks": ""
            },
            "colorscale": [
             [
              0,
              "#0d0887"
             ],
             [
              0.1111111111111111,
              "#46039f"
             ],
             [
              0.2222222222222222,
              "#7201a8"
             ],
             [
              0.3333333333333333,
              "#9c179e"
             ],
             [
              0.4444444444444444,
              "#bd3786"
             ],
             [
              0.5555555555555556,
              "#d8576b"
             ],
             [
              0.6666666666666666,
              "#ed7953"
             ],
             [
              0.7777777777777778,
              "#fb9f3a"
             ],
             [
              0.8888888888888888,
              "#fdca26"
             ],
             [
              1,
              "#f0f921"
             ]
            ],
            "type": "histogram2d"
           }
          ],
          "histogram2dcontour": [
           {
            "colorbar": {
             "outlinewidth": 0,
             "ticks": ""
            },
            "colorscale": [
             [
              0,
              "#0d0887"
             ],
             [
              0.1111111111111111,
              "#46039f"
             ],
             [
              0.2222222222222222,
              "#7201a8"
             ],
             [
              0.3333333333333333,
              "#9c179e"
             ],
             [
              0.4444444444444444,
              "#bd3786"
             ],
             [
              0.5555555555555556,
              "#d8576b"
             ],
             [
              0.6666666666666666,
              "#ed7953"
             ],
             [
              0.7777777777777778,
              "#fb9f3a"
             ],
             [
              0.8888888888888888,
              "#fdca26"
             ],
             [
              1,
              "#f0f921"
             ]
            ],
            "type": "histogram2dcontour"
           }
          ],
          "mesh3d": [
           {
            "colorbar": {
             "outlinewidth": 0,
             "ticks": ""
            },
            "type": "mesh3d"
           }
          ],
          "parcoords": [
           {
            "line": {
             "colorbar": {
              "outlinewidth": 0,
              "ticks": ""
             }
            },
            "type": "parcoords"
           }
          ],
          "pie": [
           {
            "automargin": true,
            "type": "pie"
           }
          ],
          "scatter": [
           {
            "marker": {
             "colorbar": {
              "outlinewidth": 0,
              "ticks": ""
             }
            },
            "type": "scatter"
           }
          ],
          "scatter3d": [
           {
            "line": {
             "colorbar": {
              "outlinewidth": 0,
              "ticks": ""
             }
            },
            "marker": {
             "colorbar": {
              "outlinewidth": 0,
              "ticks": ""
             }
            },
            "type": "scatter3d"
           }
          ],
          "scattercarpet": [
           {
            "marker": {
             "colorbar": {
              "outlinewidth": 0,
              "ticks": ""
             }
            },
            "type": "scattercarpet"
           }
          ],
          "scattergeo": [
           {
            "marker": {
             "colorbar": {
              "outlinewidth": 0,
              "ticks": ""
             }
            },
            "type": "scattergeo"
           }
          ],
          "scattergl": [
           {
            "marker": {
             "colorbar": {
              "outlinewidth": 0,
              "ticks": ""
             }
            },
            "type": "scattergl"
           }
          ],
          "scattermapbox": [
           {
            "marker": {
             "colorbar": {
              "outlinewidth": 0,
              "ticks": ""
             }
            },
            "type": "scattermapbox"
           }
          ],
          "scatterpolar": [
           {
            "marker": {
             "colorbar": {
              "outlinewidth": 0,
              "ticks": ""
             }
            },
            "type": "scatterpolar"
           }
          ],
          "scatterpolargl": [
           {
            "marker": {
             "colorbar": {
              "outlinewidth": 0,
              "ticks": ""
             }
            },
            "type": "scatterpolargl"
           }
          ],
          "scatterternary": [
           {
            "marker": {
             "colorbar": {
              "outlinewidth": 0,
              "ticks": ""
             }
            },
            "type": "scatterternary"
           }
          ],
          "surface": [
           {
            "colorbar": {
             "outlinewidth": 0,
             "ticks": ""
            },
            "colorscale": [
             [
              0,
              "#0d0887"
             ],
             [
              0.1111111111111111,
              "#46039f"
             ],
             [
              0.2222222222222222,
              "#7201a8"
             ],
             [
              0.3333333333333333,
              "#9c179e"
             ],
             [
              0.4444444444444444,
              "#bd3786"
             ],
             [
              0.5555555555555556,
              "#d8576b"
             ],
             [
              0.6666666666666666,
              "#ed7953"
             ],
             [
              0.7777777777777778,
              "#fb9f3a"
             ],
             [
              0.8888888888888888,
              "#fdca26"
             ],
             [
              1,
              "#f0f921"
             ]
            ],
            "type": "surface"
           }
          ],
          "table": [
           {
            "cells": {
             "fill": {
              "color": "#EBF0F8"
             },
             "line": {
              "color": "white"
             }
            },
            "header": {
             "fill": {
              "color": "#C8D4E3"
             },
             "line": {
              "color": "white"
             }
            },
            "type": "table"
           }
          ]
         },
         "layout": {
          "annotationdefaults": {
           "arrowcolor": "#2a3f5f",
           "arrowhead": 0,
           "arrowwidth": 1
          },
          "coloraxis": {
           "colorbar": {
            "outlinewidth": 0,
            "ticks": ""
           }
          },
          "colorscale": {
           "diverging": [
            [
             0,
             "#8e0152"
            ],
            [
             0.1,
             "#c51b7d"
            ],
            [
             0.2,
             "#de77ae"
            ],
            [
             0.3,
             "#f1b6da"
            ],
            [
             0.4,
             "#fde0ef"
            ],
            [
             0.5,
             "#f7f7f7"
            ],
            [
             0.6,
             "#e6f5d0"
            ],
            [
             0.7,
             "#b8e186"
            ],
            [
             0.8,
             "#7fbc41"
            ],
            [
             0.9,
             "#4d9221"
            ],
            [
             1,
             "#276419"
            ]
           ],
           "sequential": [
            [
             0,
             "#0d0887"
            ],
            [
             0.1111111111111111,
             "#46039f"
            ],
            [
             0.2222222222222222,
             "#7201a8"
            ],
            [
             0.3333333333333333,
             "#9c179e"
            ],
            [
             0.4444444444444444,
             "#bd3786"
            ],
            [
             0.5555555555555556,
             "#d8576b"
            ],
            [
             0.6666666666666666,
             "#ed7953"
            ],
            [
             0.7777777777777778,
             "#fb9f3a"
            ],
            [
             0.8888888888888888,
             "#fdca26"
            ],
            [
             1,
             "#f0f921"
            ]
           ],
           "sequentialminus": [
            [
             0,
             "#0d0887"
            ],
            [
             0.1111111111111111,
             "#46039f"
            ],
            [
             0.2222222222222222,
             "#7201a8"
            ],
            [
             0.3333333333333333,
             "#9c179e"
            ],
            [
             0.4444444444444444,
             "#bd3786"
            ],
            [
             0.5555555555555556,
             "#d8576b"
            ],
            [
             0.6666666666666666,
             "#ed7953"
            ],
            [
             0.7777777777777778,
             "#fb9f3a"
            ],
            [
             0.8888888888888888,
             "#fdca26"
            ],
            [
             1,
             "#f0f921"
            ]
           ]
          },
          "colorway": [
           "#636efa",
           "#EF553B",
           "#00cc96",
           "#ab63fa",
           "#FFA15A",
           "#19d3f3",
           "#FF6692",
           "#B6E880",
           "#FF97FF",
           "#FECB52"
          ],
          "font": {
           "color": "#2a3f5f"
          },
          "geo": {
           "bgcolor": "white",
           "lakecolor": "white",
           "landcolor": "#E5ECF6",
           "showlakes": true,
           "showland": true,
           "subunitcolor": "white"
          },
          "hoverlabel": {
           "align": "left"
          },
          "hovermode": "closest",
          "mapbox": {
           "style": "light"
          },
          "paper_bgcolor": "white",
          "plot_bgcolor": "#E5ECF6",
          "polar": {
           "angularaxis": {
            "gridcolor": "white",
            "linecolor": "white",
            "ticks": ""
           },
           "bgcolor": "#E5ECF6",
           "radialaxis": {
            "gridcolor": "white",
            "linecolor": "white",
            "ticks": ""
           }
          },
          "scene": {
           "xaxis": {
            "backgroundcolor": "#E5ECF6",
            "gridcolor": "white",
            "gridwidth": 2,
            "linecolor": "white",
            "showbackground": true,
            "ticks": "",
            "zerolinecolor": "white"
           },
           "yaxis": {
            "backgroundcolor": "#E5ECF6",
            "gridcolor": "white",
            "gridwidth": 2,
            "linecolor": "white",
            "showbackground": true,
            "ticks": "",
            "zerolinecolor": "white"
           },
           "zaxis": {
            "backgroundcolor": "#E5ECF6",
            "gridcolor": "white",
            "gridwidth": 2,
            "linecolor": "white",
            "showbackground": true,
            "ticks": "",
            "zerolinecolor": "white"
           }
          },
          "shapedefaults": {
           "line": {
            "color": "#2a3f5f"
           }
          },
          "ternary": {
           "aaxis": {
            "gridcolor": "white",
            "linecolor": "white",
            "ticks": ""
           },
           "baxis": {
            "gridcolor": "white",
            "linecolor": "white",
            "ticks": ""
           },
           "bgcolor": "#E5ECF6",
           "caxis": {
            "gridcolor": "white",
            "linecolor": "white",
            "ticks": ""
           }
          },
          "title": {
           "x": 0.05
          },
          "xaxis": {
           "automargin": true,
           "gridcolor": "white",
           "linecolor": "white",
           "ticks": "",
           "title": {
            "standoff": 15
           },
           "zerolinecolor": "white",
           "zerolinewidth": 2
          },
          "yaxis": {
           "automargin": true,
           "gridcolor": "white",
           "linecolor": "white",
           "ticks": "",
           "title": {
            "standoff": 15
           },
           "zerolinecolor": "white",
           "zerolinewidth": 2
          }
         }
        },
        "title": {
         "text": "Correlação de Features com correlação maior igual a 0,90"
        },
        "xaxis": {
         "constrain": "domain",
         "scaleanchor": "y"
        },
        "yaxis": {
         "autorange": "reversed",
         "constrain": "domain"
        }
       }
      }
     },
     "metadata": {}
    }
   ],
   "source": [
    "fig = px.imshow(df_train.corr()[df_train.corr() >= 0.90])\n",
    "fig.update_layout(title = 'Correlação de Features com correlação maior igual a 0,90')"
   ]
  },
  {
   "cell_type": "code",
   "execution_count": 17,
   "metadata": {},
   "outputs": [
    {
     "output_type": "display_data",
     "data": {
      "text/plain": "'Dados de Treino: 1399'"
     },
     "metadata": {}
    }
   ],
   "source": [
    "display(f\"Dados de Treino: {len(df_train[['SalePrice']][df_train['SalePrice'] <= 340000])}\")"
   ]
  },
  {
   "cell_type": "code",
   "execution_count": 18,
   "metadata": {},
   "outputs": [
    {
     "output_type": "display_data",
     "data": {
      "text/plain": "'Outliers: 61'"
     },
     "metadata": {}
    }
   ],
   "source": [
    "display(f\"Outliers: {len(df_train[['SalePrice']][df_train['SalePrice'] > 340000])}\")"
   ]
  },
  {
   "cell_type": "markdown",
   "metadata": {},
   "source": [
    "### Pré-processamento de Dados"
   ]
  },
  {
   "cell_type": "markdown",
   "metadata": {},
   "source": [
    "#### Remoção de Outliers"
   ]
  },
  {
   "cell_type": "code",
   "execution_count": 19,
   "metadata": {},
   "outputs": [],
   "source": [
    "df_train = df_train[:][df_train['SalePrice'] <= 340000]"
   ]
  },
  {
   "cell_type": "code",
   "execution_count": 20,
   "metadata": {},
   "outputs": [
    {
     "output_type": "execute_result",
     "data": {
      "text/plain": [
       "Empty DataFrame\n",
       "Columns: [MSSubClass, MSZoning, LotFrontage, LotArea, Street, Alley, LotShape, LandContour, Utilities, LotConfig, LandSlope, Neighborhood, Condition1, Condition2, BldgType, HouseStyle, OverallQual, OverallCond, YearBuilt, YearRemodAdd, RoofStyle, RoofMatl, Exterior1st, Exterior2nd, MasVnrType, MasVnrArea, ExterQual, ExterCond, Foundation, BsmtQual, BsmtCond, BsmtExposure, BsmtFinType1, BsmtFinSF1, BsmtFinType2, BsmtFinSF2, BsmtUnfSF, TotalBsmtSF, Heating, HeatingQC, CentralAir, Electrical, 1stFlrSF, 2ndFlrSF, LowQualFinSF, GrLivArea, BsmtFullBath, BsmtHalfBath, FullBath, HalfBath, BedroomAbvGr, KitchenAbvGr, KitchenQual, TotRmsAbvGrd, Functional, Fireplaces, FireplaceQu, GarageType, GarageYrBlt, GarageFinish, GarageCars, GarageArea, GarageQual, GarageCond, PavedDrive, WoodDeckSF, OpenPorchSF, EnclosedPorch, 3SsnPorch, ScreenPorch, PoolArea, PoolQC, Fence, MiscFeature, MiscVal, MoSold, YrSold, SaleType, SaleCondition, SalePrice]\n",
       "Index: []\n",
       "\n",
       "[0 rows x 80 columns]"
      ],
      "text/html": "<div>\n<style scoped>\n    .dataframe tbody tr th:only-of-type {\n        vertical-align: middle;\n    }\n\n    .dataframe tbody tr th {\n        vertical-align: top;\n    }\n\n    .dataframe thead th {\n        text-align: right;\n    }\n</style>\n<table border=\"1\" class=\"dataframe\">\n  <thead>\n    <tr style=\"text-align: right;\">\n      <th></th>\n      <th>MSSubClass</th>\n      <th>MSZoning</th>\n      <th>LotFrontage</th>\n      <th>LotArea</th>\n      <th>Street</th>\n      <th>Alley</th>\n      <th>LotShape</th>\n      <th>LandContour</th>\n      <th>Utilities</th>\n      <th>LotConfig</th>\n      <th>...</th>\n      <th>PoolArea</th>\n      <th>PoolQC</th>\n      <th>Fence</th>\n      <th>MiscFeature</th>\n      <th>MiscVal</th>\n      <th>MoSold</th>\n      <th>YrSold</th>\n      <th>SaleType</th>\n      <th>SaleCondition</th>\n      <th>SalePrice</th>\n    </tr>\n  </thead>\n  <tbody>\n  </tbody>\n</table>\n<p>0 rows × 80 columns</p>\n</div>"
     },
     "metadata": {},
     "execution_count": 20
    }
   ],
   "source": [
    "df_train[:][df_train['SalePrice'] > 340000]"
   ]
  },
  {
   "cell_type": "code",
   "execution_count": 21,
   "metadata": {},
   "outputs": [],
   "source": [
    "df_test.CentralAir = df_test.CentralAir.map({'N': 0, 'Y': 1})\n",
    "df_train.CentralAir = df_train.CentralAir.map({'N': 0, 'Y': 1})"
   ]
  },
  {
   "cell_type": "markdown",
   "metadata": {},
   "source": [
    "#### Tratamento de Dados, Imputação e Remoção de Linhas com Dados Faltantes nos Dados de Treino"
   ]
  },
  {
   "cell_type": "code",
   "execution_count": 22,
   "metadata": {},
   "outputs": [],
   "source": [
    "imputer = KNNImputer(missing_values=np.nan)\n",
    "df_train[['LotFrontage']] = imputer.fit_transform(df_train[['LotFrontage']]).ravel()"
   ]
  },
  {
   "cell_type": "code",
   "execution_count": 23,
   "metadata": {},
   "outputs": [],
   "source": [
    "df_train.Alley.fillna('NA', inplace=True)\n",
    "df_train['MasVnrArea'] = df_train['MasVnrArea'].fillna(0)\n",
    "df_train['MasVnrType'] = df_train['MasVnrType'].fillna('None')\n",
    "df_train[['BsmtQual','BsmtCond', 'BsmtExposure', 'BsmtFinType1', 'BsmtFinSF1','BsmtFinType2']] = df_train[['BsmtQual','BsmtCond', 'BsmtExposure', 'BsmtFinType1', 'BsmtFinSF1','BsmtFinType2']].fillna('NA')\n",
    "df_train.FireplaceQu = df_train.FireplaceQu.fillna('NA')\n",
    "df_train[['GarageType',\n",
    "       'GarageYrBlt', \n",
    "       'GarageFinish', \n",
    "       'GarageCars', \n",
    "       'GarageArea', \n",
    "       'GarageQual',\n",
    "       'GarageCond']] = df_train[['GarageType',\n",
    "       'GarageYrBlt', \n",
    "       'GarageFinish', \n",
    "       'GarageCars', \n",
    "       'GarageArea', \n",
    "       'GarageQual',\n",
    "       'GarageCond']].fillna('NA')\n",
    "df_train[['PoolQC','Fence', 'MiscFeature']] = df_train[['PoolQC','Fence', 'MiscFeature']].fillna('NA')"
   ]
  },
  {
   "cell_type": "code",
   "execution_count": 24,
   "metadata": {},
   "outputs": [],
   "source": [
    "df_train.dropna(inplace=True)"
   ]
  },
  {
   "cell_type": "markdown",
   "metadata": {},
   "source": [
    "#### Tratamento de Dados, Imputação e Remoção de Linhas com Dados Faltantes nos Dados de Teste"
   ]
  },
  {
   "cell_type": "code",
   "execution_count": 25,
   "metadata": {},
   "outputs": [],
   "source": [
    "imputer = KNNImputer(missing_values=np.nan)\n",
    "df_test[['LotFrontage']] = imputer.fit_transform(df_test[['LotFrontage']]).ravel()"
   ]
  },
  {
   "cell_type": "code",
   "execution_count": 26,
   "metadata": {},
   "outputs": [],
   "source": [
    "df_test.Alley.fillna('NA', inplace=True)\n",
    "df_test['MasVnrArea'] = df_train['MasVnrArea'].fillna(0)\n",
    "df_test['MasVnrType'] = df_train['MasVnrType'].fillna('None')\n",
    "df_test['BsmtFinSF1'].fillna(0, inplace=True)\n",
    "df_test[['BsmtQual','BsmtCond', 'BsmtExposure', 'BsmtFinType1','BsmtFinType2']] = df_test[['BsmtQual','BsmtCond', 'BsmtExposure', 'BsmtFinType1', 'BsmtFinType2']].fillna('NA')\n",
    "df_test.FireplaceQu = df_test.FireplaceQu.fillna('NA')\n",
    "df_test[['GarageType',\n",
    "       'GarageYrBlt', \n",
    "       'GarageFinish', \n",
    "       'GarageCars', \n",
    "       'GarageArea', \n",
    "       'GarageQual',\n",
    "       'GarageCond']] = df_train[['GarageType',\n",
    "       'GarageYrBlt', \n",
    "       'GarageFinish', \n",
    "       'GarageCars', \n",
    "       'GarageArea', \n",
    "       'GarageQual',\n",
    "       'GarageCond']].fillna('NA')\n",
    "df_test[['PoolQC','Fence', 'MiscFeature']] = df_test[['PoolQC','Fence', 'MiscFeature']].fillna('NA')\n",
    "df_test[['BsmtFullBath', 'BsmtHalfBath', 'FullBath', 'TotalBsmtSF', 'BsmtUnfSF', 'BsmtFinSF2']] = df_test[['BsmtFullBath', 'BsmtHalfBath', 'FullBath', 'TotalBsmtSF', 'BsmtUnfSF', 'BsmtFinSF2']].fillna(0)"
   ]
  },
  {
   "cell_type": "code",
   "execution_count": 27,
   "metadata": {},
   "outputs": [],
   "source": [
    "df_test.dropna(inplace=True)"
   ]
  },
  {
   "cell_type": "markdown",
   "metadata": {},
   "source": [
    "## Validação de Modelo"
   ]
  },
  {
   "cell_type": "code",
   "execution_count": 28,
   "metadata": {},
   "outputs": [],
   "source": [
    "features = df_train.drop(columns=['SalePrice'], axis=1)\n",
    "labels = df_train['SalePrice']"
   ]
  },
  {
   "cell_type": "markdown",
   "metadata": {},
   "source": [
    "##### Adquirir Dummies de Colunas Categóricas"
   ]
  },
  {
   "cell_type": "code",
   "execution_count": 29,
   "metadata": {},
   "outputs": [
    {
     "output_type": "stream",
     "name": "stderr",
     "text": [
      "C:\\Users\\lucas\\miniconda3\\lib\\site-packages\\category_encoders\\utils.py:21: FutureWarning:\n\nis_categorical is deprecated and will be removed in a future version.  Use is_categorical_dtype instead\n\n"
     ]
    }
   ],
   "source": [
    "ohe = OneHotEncoder(use_cat_names=True)\n",
    "features_ohe = ohe.fit_transform(features)"
   ]
  },
  {
   "cell_type": "markdown",
   "metadata": {},
   "source": [
    "##### Escalando Dados"
   ]
  },
  {
   "cell_type": "code",
   "execution_count": 30,
   "metadata": {},
   "outputs": [],
   "source": [
    "from sklearn.preprocessing import MinMaxScaler"
   ]
  },
  {
   "cell_type": "code",
   "execution_count": 31,
   "metadata": {},
   "outputs": [],
   "source": [
    "scaler = MinMaxScaler()"
   ]
  },
  {
   "cell_type": "code",
   "execution_count": 32,
   "metadata": {},
   "outputs": [],
   "source": [
    "features_scaled = scaler.fit_transform(features_ohe)"
   ]
  },
  {
   "cell_type": "code",
   "execution_count": 33,
   "metadata": {},
   "outputs": [],
   "source": [
    "X_train, X_test, y_train, y_test = train_test_split(features_scaled, labels, random_state=SEED, test_size=0.25)"
   ]
  },
  {
   "cell_type": "code",
   "execution_count": 34,
   "metadata": {},
   "outputs": [],
   "source": [
    "dummy = DummyRegressor()\n",
    "dummy.fit(X_train, y_train)\n",
    "y_pred = dummy.predict(X_test)"
   ]
  },
  {
   "cell_type": "code",
   "execution_count": 35,
   "metadata": {},
   "outputs": [
    {
     "output_type": "display_data",
     "data": {
      "text/plain": "'R² de Modelo Dummy: -0.13%'"
     },
     "metadata": {}
    }
   ],
   "source": [
    "display(f'R² de Modelo Dummy: {round(r2_score(y_test, y_pred)*100,2)}%')"
   ]
  },
  {
   "cell_type": "markdown",
   "metadata": {},
   "source": [
    "##### Tuning Modelo de Light GBM Regressor"
   ]
  },
  {
   "cell_type": "code",
   "execution_count": 36,
   "metadata": {},
   "outputs": [
    {
     "output_type": "stream",
     "name": "stdout",
     "text": [
      "Iteration No: 1 started. Evaluating function at random point.\n",
      "[0.06327656730105531, 71, 2, 0.8628399009188652, 0.6481320413049753, 493] \n",
      "\n",
      "Iteration No: 1 ended. Evaluation done at random point.\n",
      "Time taken: 1.1990\n",
      "Function value obtained: -0.9084\n",
      "Current minimum: -0.9084\n",
      "Iteration No: 2 started. Evaluating function at random point.\n",
      "[0.0027050730096210155, 105, 95, 0.7134992241139206, 0.9128606713660984, 776] \n",
      "\n",
      "Iteration No: 2 ended. Evaluation done at random point.\n",
      "Time taken: 0.1621\n",
      "Function value obtained: -0.7942\n",
      "Current minimum: -0.9084\n",
      "Iteration No: 3 started. Evaluating function at random point.\n",
      "[0.03620477422893411, 40, 53, 0.9842306433165472, 0.24745801726422886, 249] \n",
      "\n",
      "Iteration No: 3 ended. Evaluation done at random point.\n",
      "Time taken: 0.1272\n",
      "Function value obtained: -0.9076\n",
      "Current minimum: -0.9084\n",
      "Iteration No: 4 started. Evaluating function at random point.\n",
      "[0.042062540164342105, 127, 57, 0.0919520550349246, 0.9609876709428125, 748] \n",
      "\n",
      "Iteration No: 4 ended. Evaluation done at random point.\n",
      "Time taken: 0.1257\n",
      "Function value obtained: 3.1347\n",
      "Current minimum: -0.9084\n",
      "Iteration No: 5 started. Evaluating function at random point.\n",
      "[0.0010915647147779802, 60, 88, 0.947753658689371, 0.5017142776835626, 261] \n",
      "\n",
      "Iteration No: 5 ended. Evaluation done at random point.\n",
      "Time taken: 0.0903\n",
      "Function value obtained: -0.2944\n",
      "Current minimum: -0.9084\n",
      "Iteration No: 6 started. Evaluating function at random point.\n",
      "[0.0013533779189430324, 111, 29, 0.872588621800476, 0.8591753055721483, 710] \n",
      "\n",
      "Iteration No: 6 ended. Evaluation done at random point.\n",
      "Time taken: 0.5401\n",
      "Function value obtained: -0.7044\n",
      "Current minimum: -0.9084\n",
      "Iteration No: 7 started. Evaluating function at random point.\n",
      "[0.011371497149642092, 52, 18, 0.2979234721719005, 0.13218236522675356, 287] \n",
      "\n",
      "Iteration No: 7 ended. Evaluation done at random point.\n",
      "Time taken: 0.1486\n",
      "Function value obtained: -0.8464\n",
      "Current minimum: -0.9084\n",
      "Iteration No: 8 started. Evaluating function at random point.\n",
      "[0.012314174496234818, 25, 95, 0.35031040595040225, 0.31693474266547406, 431] \n",
      "\n",
      "Iteration No: 8 ended. Evaluation done at random point.\n",
      "Time taken: 0.1062\n",
      "Function value obtained: -0.8093\n",
      "Current minimum: -0.9084\n",
      "Iteration No: 9 started. Evaluating function at random point.\n",
      "[0.0062201377958643915, 116, 71, 0.7790347187356178, 0.2610765190370178, 566] \n",
      "\n",
      "Iteration No: 9 ended. Evaluation done at random point.\n",
      "Time taken: 0.2000\n",
      "Function value obtained: -0.8584\n",
      "Current minimum: -0.9084\n",
      "Iteration No: 10 started. Evaluating function at random point.\n",
      "[0.010117334727109762, 117, 86, 0.1290106373057054, 0.32761865155725006, 159] \n",
      "\n",
      "Iteration No: 10 ended. Evaluation done at random point.\n",
      "Time taken: 0.0309\n",
      "Function value obtained: 0.0013\n",
      "Current minimum: -0.9084\n",
      "Iteration No: 11 started. Evaluating function at random point.\n",
      "[0.06180197188255592, 10, 38, 0.8203596896072781, 0.213563492506852, 666] \n",
      "\n",
      "Iteration No: 11 ended. Evaluation done at random point.\n",
      "Time taken: 0.2444\n",
      "Function value obtained: -0.9125\n",
      "Current minimum: -0.9125\n",
      "Iteration No: 12 started. Evaluating function at random point.\n",
      "[0.0023168120809679477, 32, 5, 0.4602309677741663, 0.8471692918885118, 643] \n",
      "\n",
      "Iteration No: 12 ended. Evaluation done at random point.\n",
      "Time taken: 1.0308\n",
      "Function value obtained: -0.8208\n",
      "Current minimum: -0.9125\n",
      "Iteration No: 13 started. Evaluating function at random point.\n",
      "[0.024907561965918448, 80, 10, 0.9093472835765465, 0.43877752657923763, 726] \n",
      "\n",
      "Iteration No: 13 ended. Evaluation done at random point.\n",
      "Time taken: 1.0720\n",
      "Function value obtained: -0.9121\n",
      "Current minimum: -0.9125\n",
      "Iteration No: 14 started. Evaluating function at random point.\n",
      "[0.049078049938118595, 6, 40, 0.6159037112149178, 0.17619544991836925, 836] \n",
      "\n",
      "Iteration No: 14 ended. Evaluation done at random point.\n",
      "Time taken: 0.1850\n",
      "Function value obtained: -0.9115\n",
      "Current minimum: -0.9125\n",
      "Iteration No: 15 started. Evaluating function at random point.\n",
      "[0.001228275132159861, 55, 23, 0.256558778136363, 0.8263148930911763, 127] \n",
      "\n",
      "Iteration No: 15 ended. Evaluation done at random point.\n",
      "Time taken: 0.0688\n",
      "Function value obtained: -0.1862\n",
      "Current minimum: -0.9125\n",
      "Iteration No: 16 started. Evaluating function at random point.\n",
      "[0.01611116779294787, 45, 87, 0.5630709931606661, 0.21626810530339394, 494] \n",
      "\n",
      "Iteration No: 16 ended. Evaluation done at random point.\n",
      "Time taken: 0.1282\n",
      "Function value obtained: -0.8635\n",
      "Current minimum: -0.9125\n",
      "Iteration No: 17 started. Evaluating function at random point.\n",
      "[0.07956266498142855, 119, 8, 0.09610742959857489, 0.19883630630605964, 415] \n",
      "\n",
      "Iteration No: 17 ended. Evaluation done at random point.\n",
      "Time taken: 0.2568\n",
      "Function value obtained: -0.8797\n",
      "Current minimum: -0.9125\n",
      "Iteration No: 18 started. Evaluating function at random point.\n",
      "[0.04637640720810472, 66, 88, 0.17248856910706784, 0.8480218897682718, 988] \n",
      "\n",
      "Iteration No: 18 ended. Evaluation done at random point.\n",
      "Time taken: 0.1461\n",
      "Function value obtained: 6.9649\n",
      "Current minimum: -0.9125\n",
      "Iteration No: 19 started. Evaluating function at random point.\n",
      "[0.04171467307105799, 33, 36, 0.9404269042132899, 0.31253649990151944, 475] \n",
      "\n",
      "Iteration No: 19 ended. Evaluation done at random point.\n",
      "Time taken: 0.2723\n",
      "Function value obtained: -0.9153\n",
      "Current minimum: -0.9153\n",
      "Iteration No: 20 started. Evaluating function at random point.\n",
      "[0.0053592788022858405, 82, 8, 0.3827709503127399, 0.27012318351053943, 570] \n",
      "\n",
      "Iteration No: 20 ended. Evaluation done at random point.\n",
      "Time taken: 0.7256\n",
      "Function value obtained: -0.8901\n",
      "Current minimum: -0.9153\n",
      "Iteration No: 21 started. Evaluating function at random point.\n",
      "[0.004377551755279261, 43, 4, 0.5681080692628621, 0.43399556156121155, 619] \n",
      "\n",
      "Iteration No: 21 ended. Evaluation done at random point.\n",
      "Time taken: 0.9884\n",
      "Function value obtained: -0.8924\n",
      "Current minimum: -0.9153\n",
      "Iteration No: 22 started. Evaluating function at random point.\n",
      "[0.006682583950549282, 30, 76, 0.907300763082334, 0.981654635836437, 381] \n",
      "\n",
      "Iteration No: 22 ended. Evaluation done at random point.\n",
      "Time taken: 0.1107\n",
      "Function value obtained: -0.8513\n",
      "Current minimum: -0.9153\n",
      "Iteration No: 23 started. Evaluating function at random point.\n",
      "[0.05670034642877683, 7, 74, 0.5275156717356378, 0.7727453339354737, 648] \n",
      "\n",
      "Iteration No: 23 ended. Evaluation done at random point.\n",
      "Time taken: 0.1591\n",
      "Function value obtained: -0.8961\n",
      "Current minimum: -0.9153\n",
      "Iteration No: 24 started. Evaluating function at random point.\n",
      "[0.001018220371397086, 21, 81, 0.18818921124796484, 0.3779151073364658, 560] \n",
      "\n",
      "Iteration No: 24 ended. Evaluation done at random point.\n",
      "Time taken: 0.1511\n",
      "Function value obtained: -0.2883\n",
      "Current minimum: -0.9153\n",
      "Iteration No: 25 started. Evaluating function at random point.\n",
      "[0.03880133204736965, 78, 77, 0.9466076305888934, 0.2564018143797483, 739] \n",
      "\n",
      "Iteration No: 25 ended. Evaluation done at random point.\n",
      "Time taken: 0.2189\n",
      "Function value obtained: -0.9031\n",
      "Current minimum: -0.9153\n",
      "Iteration No: 26 started. Evaluating function at random point.\n",
      "[0.002458155884597445, 53, 63, 0.05990534212573755, 0.3069072126082252, 689] \n",
      "\n",
      "Iteration No: 26 ended. Evaluation done at random point.\n",
      "Time taken: 0.0886\n",
      "Function value obtained: 0.0013\n",
      "Current minimum: -0.9153\n",
      "Iteration No: 27 started. Evaluating function at random point.\n",
      "[0.08842111523458891, 106, 4, 0.06517271365498266, 0.5889612835211807, 126] \n",
      "\n",
      "Iteration No: 27 ended. Evaluation done at random point.\n",
      "Time taken: 0.0928\n",
      "Function value obtained: -0.8805\n",
      "Current minimum: -0.9153\n",
      "Iteration No: 28 started. Evaluating function at random point.\n",
      "[0.0643803371849957, 83, 58, 0.5287059364413743, 0.6533375020714426, 307] \n",
      "\n",
      "Iteration No: 28 ended. Evaluation done at random point.\n",
      "Time taken: 0.1067\n",
      "Function value obtained: -0.8993\n",
      "Current minimum: -0.9153\n",
      "Iteration No: 29 started. Evaluating function at random point.\n",
      "[0.07931181342100058, 36, 29, 0.5171982537534936, 0.9382728395501004, 358] \n",
      "\n",
      "Iteration No: 29 ended. Evaluation done at random point.\n",
      "Time taken: 0.2229\n",
      "Function value obtained: -0.9078\n",
      "Current minimum: -0.9153\n",
      "Iteration No: 30 started. Evaluating function at random point.\n",
      "[0.003767676913287042, 107, 22, 0.7924545677028243, 0.41873098436142886, 813] \n",
      "\n",
      "Iteration No: 30 ended. Evaluation done at random point.\n",
      "Time taken: 0.6229\n",
      "Function value obtained: -0.8911\n",
      "Current minimum: -0.9153\n"
     ]
    }
   ],
   "source": [
    "def treinar_modelo(params):\n",
    "    SEED = 4\n",
    "\n",
    "    learning_rate = params[0]\n",
    "    num_leaves = params[1]\n",
    "    min_child_samples = params[2]\n",
    "    subsample = params[3]\n",
    "    colsample_bytree = params[4]\n",
    "    n_estimators = params[5]\n",
    "\n",
    "    print(params, '\\n')\n",
    "    \n",
    "    mdl = LGBMRegressor(random_state=SEED,\n",
    "    learning_rate = learning_rate, \n",
    "    num_leaves = num_leaves, \n",
    "    min_child_samples = min_child_samples, \n",
    "    subsample = subsample,\n",
    "    colsample_bytree = colsample_bytree,\n",
    "    subsample_freq=1,\n",
    "    n_estimators=n_estimators)\n",
    "    mdl.fit(X_train, y_train)\n",
    "    y_pred = mdl.predict(X_test)\n",
    "\n",
    "    return -r2_score(y_test, y_pred)\n",
    "\n",
    "space = [(1e-3, 1e-1, 'log-uniform'), #learning rate\n",
    "(2, 128), #num_leaves\n",
    "(1, 100), #min_child_samples\n",
    "(0.05, 1.0), #subsample\n",
    "(0.1, 1.0), #colsample_bytree\n",
    "(100, 1000)] #n_estimators\n",
    "\n",
    "result = dummy_minimize(treinar_modelo, \n",
    "space,\n",
    "random_state=SEED, \n",
    "verbose=1,\n",
    "n_calls = 30)"
   ]
  },
  {
   "cell_type": "code",
   "execution_count": 37,
   "metadata": {},
   "outputs": [],
   "source": [
    "learning_rate,num_leaves, min_child_samples, subsample, colsample_bytree, n_estimators  = result.x"
   ]
  },
  {
   "cell_type": "code",
   "execution_count": 38,
   "metadata": {},
   "outputs": [],
   "source": [
    "model = LGBMRegressor(random_state=SEED,\n",
    "    learning_rate = learning_rate, \n",
    "    num_leaves = num_leaves, \n",
    "    min_child_samples = min_child_samples, \n",
    "    subsample = subsample,\n",
    "    colsample_bytree = colsample_bytree,\n",
    "    subsample_freq=1,\n",
    "    n_estimators=n_estimators)"
   ]
  },
  {
   "cell_type": "code",
   "execution_count": 39,
   "metadata": {},
   "outputs": [],
   "source": [
    "model.fit(X_train, y_train)\n",
    "y_pred = model.predict(X_test)"
   ]
  },
  {
   "cell_type": "code",
   "execution_count": 40,
   "metadata": {
    "tags": []
   },
   "outputs": [],
   "source": [
    "kfold = KFold(n_splits = 10, random_state = SEED, shuffle=True)\n",
    "results = cross_validate(model, \n",
    "                         X_train, \n",
    "                         y_train, \n",
    "                         cv = kfold, \n",
    "                         return_train_score=False,\n",
    "                        scoring='r2')\n",
    "cv = round(results['test_score'].mean(), 2)"
   ]
  },
  {
   "cell_type": "code",
   "execution_count": 41,
   "metadata": {},
   "outputs": [
    {
     "output_type": "display_data",
     "data": {
      "text/plain": "'Taxa Média de Acerto de Modelo Light GBM: 89.00 %'"
     },
     "metadata": {}
    }
   ],
   "source": [
    "display(f'Taxa Média de Acerto de Modelo Light GBM: {cv * 100:.2f} %')"
   ]
  },
  {
   "cell_type": "code",
   "execution_count": 42,
   "metadata": {},
   "outputs": [
    {
     "output_type": "display_data",
     "data": {
      "application/vnd.plotly.v1+json": {
       "config": {
        "plotlyServerURL": "https://plot.ly"
       },
       "data": [
        {
         "name": "Valor Atual",
         "type": "scatter",
         "y": [
          52000,
          178740,
          158000,
          132000,
          110000,
          93000,
          175500,
          135000,
          85000,
          157000,
          184000,
          123000,
          142000,
          137500,
          139500,
          118500,
          84000,
          113000,
          282922,
          100000,
          135000,
          254900,
          101000,
          252678,
          198500,
          119750,
          107000,
          136500,
          144000,
          197000,
          110000,
          105500,
          153000,
          213490,
          139000,
          127000,
          82500,
          120500,
          214000,
          136905,
          225000,
          89500,
          241000,
          145900,
          340000,
          120000,
          137500,
          239000,
          147000,
          127000,
          144000,
          143000,
          171000,
          137900,
          105900,
          172000,
          84900,
          190000,
          144900,
          213000,
          134900,
          228500,
          145000,
          228000,
          73000,
          125000,
          129500,
          144000,
          173000,
          132250,
          130000,
          242000,
          158000,
          240000,
          87500,
          295000,
          99500,
          274300,
          204000,
          260000,
          189950,
          129000,
          143000,
          107500,
          239000,
          133000,
          135900,
          181000,
          109000,
          119200,
          162000,
          250000,
          161500,
          116000,
          139400,
          187100,
          278000,
          118000,
          179200,
          168000,
          185000,
          175000,
          194500,
          207500,
          293077,
          145000,
          109008,
          195000,
          183500,
          202665,
          171000,
          129500,
          105000,
          179665,
          169000,
          200000,
          315000,
          244000,
          150000,
          126000,
          130000,
          167000,
          137500,
          176500,
          174000,
          132500,
          220000,
          259500,
          179900,
          118400,
          101800,
          179540,
          187000,
          311872,
          138800,
          165000,
          140000,
          310000,
          196000,
          130000,
          151500,
          178000,
          196500,
          124000,
          160000,
          190000,
          40000,
          134500,
          208900,
          136000,
          166000,
          157000,
          170000,
          143000,
          150500,
          285000,
          302000,
          68400,
          227000,
          139000,
          132500,
          149000,
          163900,
          167500,
          196000,
          155000,
          137000,
          102000,
          160000,
          144000,
          235128,
          149000,
          115000,
          272000,
          135000,
          173000,
          94500,
          274900,
          98600,
          85400,
          124000,
          172500,
          103200,
          128200,
          151000,
          140000,
          205000,
          181000,
          104900,
          131000,
          128500,
          75000,
          159895,
          193000,
          240000,
          267000,
          87000,
          98000,
          202500,
          191000,
          248000,
          100000,
          86000,
          80000,
          213000,
          107000,
          194000,
          133000,
          161500,
          184000,
          84500,
          162500,
          283463,
          178000,
          120000,
          215000,
          230000,
          262500,
          143000,
          220000,
          122000,
          127500,
          172500,
          127000,
          266000,
          196500,
          335000,
          192500,
          235000,
          151000,
          110500,
          143500,
          133500,
          110000,
          163500,
          319900,
          233170,
          165500,
          178000,
          98300,
          115000,
          140000,
          186700,
          93000,
          270000,
          193879,
          269790,
          277000,
          274000,
          230500,
          208900,
          135000,
          180000,
          200500,
          154000,
          333168,
          55000,
          61000,
          181000,
          128500,
          142953,
          137450,
          180500,
          147000,
          135000,
          155000,
          52500,
          123000,
          177000,
          122500,
          62383,
          224000,
          147000,
          132000,
          143000,
          225000,
          79000,
          255500,
          287090,
          148000,
          146500,
          142500,
          179000,
          135000,
          145000,
          103000,
          149300,
          245350,
          199900,
          85000,
          289000,
          158000,
          89000,
          215000,
          316600,
          145500,
          180000,
          139950,
          188000,
          130000,
          140000,
          328900,
          294000,
          185000,
          82000,
          115000,
          318000,
          187500,
          143000,
          87000,
          185000,
          142500,
          239900,
          207500,
          175900,
          162900,
          82000,
          110000,
          244000,
          140000,
          312500,
          219500,
          144000,
          115000,
          161750,
          221000,
          280000,
          197000,
          213250,
          280000,
          185000,
          106000,
          135000,
          315000,
          163000,
          91500,
          325624,
          168000,
          129000,
          201000,
          102000,
          139000,
          165000,
          212900,
          233230,
          128900,
          195400,
          173733,
          149900,
          239000
         ]
        },
        {
         "mode": "markers",
         "name": "Predição",
         "type": "scatter",
         "y": [
          84105.08877254423,
          179023.2887721128,
          151142.74125991,
          135482.81255273594,
          144333.90213151844,
          103342.59552293905,
          166661.57619639943,
          136314.74578599422,
          91981.20750464205,
          148888.09660451696,
          167880.91791244756,
          119578.37709468378,
          156824.1855867579,
          128885.72520092184,
          146949.443609101,
          136348.52415050144,
          75591.84202610291,
          100093.91957640843,
          250070.18738987448,
          123449.69205699065,
          141280.58370790666,
          254647.88960820448,
          93720.98009577561,
          237400.53473482796,
          210133.24860899127,
          119147.01066508425,
          130218.76431122284,
          118100.69922819955,
          142188.97448064064,
          216992.2535039171,
          100341.40462876571,
          126128.31681790654,
          170095.61859028248,
          211467.3992503704,
          122610.77447021125,
          146780.9455987588,
          85899.54675788715,
          119829.94047472047,
          220067.25464506316,
          145945.88215798404,
          194392.6969230198,
          90918.96814879437,
          213675.49391536924,
          165598.71478125892,
          302454.3320919876,
          121307.89719168063,
          162054.03958639357,
          257966.5240060157,
          126332.09868729819,
          146625.3740408858,
          142055.34155409102,
          156243.16081901314,
          198205.33816619692,
          140142.98507606742,
          109749.68625536017,
          154747.79368894905,
          95055.16931017152,
          222652.66299048826,
          146229.50260189112,
          195330.1487645093,
          130143.15108278455,
          246332.9198753896,
          141511.73477384425,
          226976.78418840558,
          89289.20477000685,
          114199.80837539841,
          126772.23622197157,
          134865.89425779996,
          181023.51833564058,
          137137.98556506587,
          112080.98443156741,
          263039.26851258066,
          136085.1218571988,
          262659.970935918,
          86932.11290066085,
          274346.7032762773,
          124856.42906929944,
          240745.15452980602,
          222666.32186703786,
          239892.12455943236,
          170920.42007907873,
          123831.77838720349,
          162545.66109025598,
          114963.83230006028,
          226195.19479656476,
          156913.83678564423,
          124755.18140905417,
          159127.24048563815,
          107050.5655446618,
          120447.21706963325,
          157240.326891269,
          258124.28737647133,
          144454.46415824338,
          121902.77241155555,
          139314.65418041172,
          192012.40350128096,
          260585.46360965376,
          124852.30205664098,
          198278.22799700624,
          175822.8642123282,
          179947.1338612699,
          151727.5875880522,
          191542.85553323323,
          216617.985653456,
          278264.74946265004,
          154657.9685962406,
          122328.782699465,
          224187.15946384287,
          180532.0251255169,
          195802.0638344896,
          143173.03346722195,
          128107.9713567883,
          114608.60913492573,
          206608.79316297645,
          186502.0779981196,
          218115.21349232088,
          302758.0620209106,
          249831.46833000687,
          156568.64849630112,
          104857.79524108283,
          139087.72678745765,
          168367.39681079934,
          143736.81699354027,
          179792.6577050451,
          214728.5973146848,
          134878.5671827753,
          208141.7720648461,
          211765.13545412882,
          206569.6826209345,
          110648.55051989027,
          106672.20547187778,
          175922.20147921192,
          194338.6369324393,
          293246.69593873,
          137473.42426604577,
          180130.03435118005,
          130782.52894942359,
          295798.5388333249,
          211944.07917958885,
          125969.74596706692,
          142099.48023925294,
          174638.9206678821,
          201084.87956008542,
          119989.05270491831,
          162006.1679945758,
          186638.29347146937,
          87216.15839002421,
          134783.17412438,
          197432.1622256788,
          136076.37493699303,
          127974.87128961248,
          163179.71070032372,
          163925.00154999277,
          125912.73146305967,
          147692.23046475794,
          312235.111231039,
          292953.05673969584,
          81889.83073590953,
          204351.38154183942,
          136965.21925350264,
          149159.02281935257,
          135277.74464621325,
          168442.2773091667,
          195409.2097818626,
          182541.34994286005,
          138636.6751678502,
          130903.22517535363,
          117922.46870077435,
          174594.68630736877,
          143045.06647768337,
          235199.39347633955,
          150595.15142832184,
          106585.97903699659,
          260146.8131459082,
          127566.26099238568,
          185491.9980829042,
          98048.5087928809,
          298810.9293504159,
          117835.11919185185,
          93206.49549806482,
          129222.1509993435,
          169556.8636120142,
          94340.36532897214,
          128648.18976432827,
          149257.58074684188,
          146596.86257511156,
          214799.89132985243,
          164274.0306872608,
          132346.0396399005,
          122891.14912182638,
          120760.21304002541,
          87631.41513520546,
          173551.74580263984,
          184807.468918938,
          238593.65978771113,
          287856.53977271845,
          111625.13589125354,
          91777.80663812812,
          225769.04050256376,
          191623.65133740706,
          209510.0085127556,
          105989.53060665776,
          89087.73382202405,
          78872.8141451432,
          219516.15909096127,
          100196.68178512082,
          180689.47082228155,
          147964.1803350704,
          158349.00847026543,
          198318.92653263814,
          76708.49274692925,
          160084.8018896509,
          280029.16590618127,
          185550.4373427405,
          134731.11438871032,
          266601.77915823535,
          215905.5069420709,
          259670.8420413446,
          151518.53146349147,
          228211.1145314553,
          187397.3244202295,
          126063.20338199436,
          163915.25962942868,
          125770.48929968127,
          265414.24387752294,
          181543.07036275364,
          289738.3801294463,
          199703.771346798,
          207672.29120820697,
          144677.3015915868,
          98885.92485545271,
          138478.39865353043,
          137327.21803376588,
          118156.85301368589,
          144147.2365320605,
          266715.7277430105,
          228339.60793720247,
          174745.50992514793,
          158794.32764201923,
          102303.17411039282,
          113688.88598360994,
          153807.66888853355,
          180539.7001576857,
          105172.51987194999,
          249739.82472138252,
          187761.4019402387,
          239827.33172568353,
          252636.8543883198,
          279017.4369984589,
          243390.29223577422,
          213052.86805979954,
          148676.32521594196,
          243745.18577709622,
          188271.97916193723,
          185800.87740881508,
          294432.53260359523,
          69332.06118152647,
          82140.07652937793,
          160531.51493357724,
          123241.66532785943,
          140981.7110949193,
          147689.05942754383,
          168675.74866290807,
          155406.29992255516,
          139666.0061961738,
          156724.7600934738,
          56467.122335694585,
          124494.31801355166,
          166891.54468678313,
          126459.98707826657,
          125883.72115501465,
          223112.66488730517,
          159530.78134060008,
          125797.72476341028,
          142229.70478110603,
          234711.6533490038,
          78302.92811696998,
          273487.98506963387,
          262248.9753346126,
          147354.5912423161,
          166438.24408570034,
          147219.10643438605,
          177413.53108942314,
          151973.25876172396,
          146809.01013798037,
          105186.64064753593,
          142541.8420607822,
          248604.62404924858,
          191237.04034428913,
          92734.50758216527,
          271342.0527742392,
          167259.02031588793,
          95436.34078973082,
          231692.91736106682,
          287409.6754446571,
          144647.74584564802,
          192846.1772415208,
          142757.02596931485,
          185527.1923960316,
          113917.78805670385,
          152996.091535523,
          252764.34245961922,
          279151.02434303146,
          153605.72029840937,
          84219.27269629657,
          88100.23534914627,
          264724.1830045559,
          216337.98786301623,
          141586.80038685902,
          102612.8301755022,
          191753.7425964298,
          135403.3782202479,
          238161.14781595586,
          198409.66356912372,
          220432.15485958784,
          182256.87218712457,
          82631.75889614252,
          119860.7647992405,
          212788.64768320392,
          146105.8434080586,
          307813.6410205739,
          208242.75233177177,
          126935.65244590478,
          112859.89495184402,
          158258.6252077937,
          238788.40790640024,
          226047.68152777935,
          232545.71176747896,
          228403.33861428694,
          262156.041285798,
          186354.96439498707,
          119993.56140882295,
          130781.98235855435,
          301747.9734974306,
          172772.3330322928,
          94887.35814609518,
          316631.7367199112,
          175045.57734797001,
          114300.58569227927,
          191068.1105728409,
          99321.11264854058,
          144669.54689054016,
          162704.39999041724,
          212627.7425220983,
          251556.79611661288,
          129652.77651260451,
          197643.5005234163,
          169113.86523417535,
          124098.84158441523,
          267222.39989340847
         ]
        }
       ],
       "layout": {
        "height": 800,
        "hovermode": "x",
        "template": {
         "data": {
          "bar": [
           {
            "error_x": {
             "color": "#2a3f5f"
            },
            "error_y": {
             "color": "#2a3f5f"
            },
            "marker": {
             "line": {
              "color": "#E5ECF6",
              "width": 0.5
             }
            },
            "type": "bar"
           }
          ],
          "barpolar": [
           {
            "marker": {
             "line": {
              "color": "#E5ECF6",
              "width": 0.5
             }
            },
            "type": "barpolar"
           }
          ],
          "carpet": [
           {
            "aaxis": {
             "endlinecolor": "#2a3f5f",
             "gridcolor": "white",
             "linecolor": "white",
             "minorgridcolor": "white",
             "startlinecolor": "#2a3f5f"
            },
            "baxis": {
             "endlinecolor": "#2a3f5f",
             "gridcolor": "white",
             "linecolor": "white",
             "minorgridcolor": "white",
             "startlinecolor": "#2a3f5f"
            },
            "type": "carpet"
           }
          ],
          "choropleth": [
           {
            "colorbar": {
             "outlinewidth": 0,
             "ticks": ""
            },
            "type": "choropleth"
           }
          ],
          "contour": [
           {
            "colorbar": {
             "outlinewidth": 0,
             "ticks": ""
            },
            "colorscale": [
             [
              0,
              "#0d0887"
             ],
             [
              0.1111111111111111,
              "#46039f"
             ],
             [
              0.2222222222222222,
              "#7201a8"
             ],
             [
              0.3333333333333333,
              "#9c179e"
             ],
             [
              0.4444444444444444,
              "#bd3786"
             ],
             [
              0.5555555555555556,
              "#d8576b"
             ],
             [
              0.6666666666666666,
              "#ed7953"
             ],
             [
              0.7777777777777778,
              "#fb9f3a"
             ],
             [
              0.8888888888888888,
              "#fdca26"
             ],
             [
              1,
              "#f0f921"
             ]
            ],
            "type": "contour"
           }
          ],
          "contourcarpet": [
           {
            "colorbar": {
             "outlinewidth": 0,
             "ticks": ""
            },
            "type": "contourcarpet"
           }
          ],
          "heatmap": [
           {
            "colorbar": {
             "outlinewidth": 0,
             "ticks": ""
            },
            "colorscale": [
             [
              0,
              "#0d0887"
             ],
             [
              0.1111111111111111,
              "#46039f"
             ],
             [
              0.2222222222222222,
              "#7201a8"
             ],
             [
              0.3333333333333333,
              "#9c179e"
             ],
             [
              0.4444444444444444,
              "#bd3786"
             ],
             [
              0.5555555555555556,
              "#d8576b"
             ],
             [
              0.6666666666666666,
              "#ed7953"
             ],
             [
              0.7777777777777778,
              "#fb9f3a"
             ],
             [
              0.8888888888888888,
              "#fdca26"
             ],
             [
              1,
              "#f0f921"
             ]
            ],
            "type": "heatmap"
           }
          ],
          "heatmapgl": [
           {
            "colorbar": {
             "outlinewidth": 0,
             "ticks": ""
            },
            "colorscale": [
             [
              0,
              "#0d0887"
             ],
             [
              0.1111111111111111,
              "#46039f"
             ],
             [
              0.2222222222222222,
              "#7201a8"
             ],
             [
              0.3333333333333333,
              "#9c179e"
             ],
             [
              0.4444444444444444,
              "#bd3786"
             ],
             [
              0.5555555555555556,
              "#d8576b"
             ],
             [
              0.6666666666666666,
              "#ed7953"
             ],
             [
              0.7777777777777778,
              "#fb9f3a"
             ],
             [
              0.8888888888888888,
              "#fdca26"
             ],
             [
              1,
              "#f0f921"
             ]
            ],
            "type": "heatmapgl"
           }
          ],
          "histogram": [
           {
            "marker": {
             "colorbar": {
              "outlinewidth": 0,
              "ticks": ""
             }
            },
            "type": "histogram"
           }
          ],
          "histogram2d": [
           {
            "colorbar": {
             "outlinewidth": 0,
             "ticks": ""
            },
            "colorscale": [
             [
              0,
              "#0d0887"
             ],
             [
              0.1111111111111111,
              "#46039f"
             ],
             [
              0.2222222222222222,
              "#7201a8"
             ],
             [
              0.3333333333333333,
              "#9c179e"
             ],
             [
              0.4444444444444444,
              "#bd3786"
             ],
             [
              0.5555555555555556,
              "#d8576b"
             ],
             [
              0.6666666666666666,
              "#ed7953"
             ],
             [
              0.7777777777777778,
              "#fb9f3a"
             ],
             [
              0.8888888888888888,
              "#fdca26"
             ],
             [
              1,
              "#f0f921"
             ]
            ],
            "type": "histogram2d"
           }
          ],
          "histogram2dcontour": [
           {
            "colorbar": {
             "outlinewidth": 0,
             "ticks": ""
            },
            "colorscale": [
             [
              0,
              "#0d0887"
             ],
             [
              0.1111111111111111,
              "#46039f"
             ],
             [
              0.2222222222222222,
              "#7201a8"
             ],
             [
              0.3333333333333333,
              "#9c179e"
             ],
             [
              0.4444444444444444,
              "#bd3786"
             ],
             [
              0.5555555555555556,
              "#d8576b"
             ],
             [
              0.6666666666666666,
              "#ed7953"
             ],
             [
              0.7777777777777778,
              "#fb9f3a"
             ],
             [
              0.8888888888888888,
              "#fdca26"
             ],
             [
              1,
              "#f0f921"
             ]
            ],
            "type": "histogram2dcontour"
           }
          ],
          "mesh3d": [
           {
            "colorbar": {
             "outlinewidth": 0,
             "ticks": ""
            },
            "type": "mesh3d"
           }
          ],
          "parcoords": [
           {
            "line": {
             "colorbar": {
              "outlinewidth": 0,
              "ticks": ""
             }
            },
            "type": "parcoords"
           }
          ],
          "pie": [
           {
            "automargin": true,
            "type": "pie"
           }
          ],
          "scatter": [
           {
            "marker": {
             "colorbar": {
              "outlinewidth": 0,
              "ticks": ""
             }
            },
            "type": "scatter"
           }
          ],
          "scatter3d": [
           {
            "line": {
             "colorbar": {
              "outlinewidth": 0,
              "ticks": ""
             }
            },
            "marker": {
             "colorbar": {
              "outlinewidth": 0,
              "ticks": ""
             }
            },
            "type": "scatter3d"
           }
          ],
          "scattercarpet": [
           {
            "marker": {
             "colorbar": {
              "outlinewidth": 0,
              "ticks": ""
             }
            },
            "type": "scattercarpet"
           }
          ],
          "scattergeo": [
           {
            "marker": {
             "colorbar": {
              "outlinewidth": 0,
              "ticks": ""
             }
            },
            "type": "scattergeo"
           }
          ],
          "scattergl": [
           {
            "marker": {
             "colorbar": {
              "outlinewidth": 0,
              "ticks": ""
             }
            },
            "type": "scattergl"
           }
          ],
          "scattermapbox": [
           {
            "marker": {
             "colorbar": {
              "outlinewidth": 0,
              "ticks": ""
             }
            },
            "type": "scattermapbox"
           }
          ],
          "scatterpolar": [
           {
            "marker": {
             "colorbar": {
              "outlinewidth": 0,
              "ticks": ""
             }
            },
            "type": "scatterpolar"
           }
          ],
          "scatterpolargl": [
           {
            "marker": {
             "colorbar": {
              "outlinewidth": 0,
              "ticks": ""
             }
            },
            "type": "scatterpolargl"
           }
          ],
          "scatterternary": [
           {
            "marker": {
             "colorbar": {
              "outlinewidth": 0,
              "ticks": ""
             }
            },
            "type": "scatterternary"
           }
          ],
          "surface": [
           {
            "colorbar": {
             "outlinewidth": 0,
             "ticks": ""
            },
            "colorscale": [
             [
              0,
              "#0d0887"
             ],
             [
              0.1111111111111111,
              "#46039f"
             ],
             [
              0.2222222222222222,
              "#7201a8"
             ],
             [
              0.3333333333333333,
              "#9c179e"
             ],
             [
              0.4444444444444444,
              "#bd3786"
             ],
             [
              0.5555555555555556,
              "#d8576b"
             ],
             [
              0.6666666666666666,
              "#ed7953"
             ],
             [
              0.7777777777777778,
              "#fb9f3a"
             ],
             [
              0.8888888888888888,
              "#fdca26"
             ],
             [
              1,
              "#f0f921"
             ]
            ],
            "type": "surface"
           }
          ],
          "table": [
           {
            "cells": {
             "fill": {
              "color": "#EBF0F8"
             },
             "line": {
              "color": "white"
             }
            },
            "header": {
             "fill": {
              "color": "#C8D4E3"
             },
             "line": {
              "color": "white"
             }
            },
            "type": "table"
           }
          ]
         },
         "layout": {
          "annotationdefaults": {
           "arrowcolor": "#2a3f5f",
           "arrowhead": 0,
           "arrowwidth": 1
          },
          "coloraxis": {
           "colorbar": {
            "outlinewidth": 0,
            "ticks": ""
           }
          },
          "colorscale": {
           "diverging": [
            [
             0,
             "#8e0152"
            ],
            [
             0.1,
             "#c51b7d"
            ],
            [
             0.2,
             "#de77ae"
            ],
            [
             0.3,
             "#f1b6da"
            ],
            [
             0.4,
             "#fde0ef"
            ],
            [
             0.5,
             "#f7f7f7"
            ],
            [
             0.6,
             "#e6f5d0"
            ],
            [
             0.7,
             "#b8e186"
            ],
            [
             0.8,
             "#7fbc41"
            ],
            [
             0.9,
             "#4d9221"
            ],
            [
             1,
             "#276419"
            ]
           ],
           "sequential": [
            [
             0,
             "#0d0887"
            ],
            [
             0.1111111111111111,
             "#46039f"
            ],
            [
             0.2222222222222222,
             "#7201a8"
            ],
            [
             0.3333333333333333,
             "#9c179e"
            ],
            [
             0.4444444444444444,
             "#bd3786"
            ],
            [
             0.5555555555555556,
             "#d8576b"
            ],
            [
             0.6666666666666666,
             "#ed7953"
            ],
            [
             0.7777777777777778,
             "#fb9f3a"
            ],
            [
             0.8888888888888888,
             "#fdca26"
            ],
            [
             1,
             "#f0f921"
            ]
           ],
           "sequentialminus": [
            [
             0,
             "#0d0887"
            ],
            [
             0.1111111111111111,
             "#46039f"
            ],
            [
             0.2222222222222222,
             "#7201a8"
            ],
            [
             0.3333333333333333,
             "#9c179e"
            ],
            [
             0.4444444444444444,
             "#bd3786"
            ],
            [
             0.5555555555555556,
             "#d8576b"
            ],
            [
             0.6666666666666666,
             "#ed7953"
            ],
            [
             0.7777777777777778,
             "#fb9f3a"
            ],
            [
             0.8888888888888888,
             "#fdca26"
            ],
            [
             1,
             "#f0f921"
            ]
           ]
          },
          "colorway": [
           "#636efa",
           "#EF553B",
           "#00cc96",
           "#ab63fa",
           "#FFA15A",
           "#19d3f3",
           "#FF6692",
           "#B6E880",
           "#FF97FF",
           "#FECB52"
          ],
          "font": {
           "color": "#2a3f5f"
          },
          "geo": {
           "bgcolor": "white",
           "lakecolor": "white",
           "landcolor": "#E5ECF6",
           "showlakes": true,
           "showland": true,
           "subunitcolor": "white"
          },
          "hoverlabel": {
           "align": "left"
          },
          "hovermode": "closest",
          "mapbox": {
           "style": "light"
          },
          "paper_bgcolor": "white",
          "plot_bgcolor": "#E5ECF6",
          "polar": {
           "angularaxis": {
            "gridcolor": "white",
            "linecolor": "white",
            "ticks": ""
           },
           "bgcolor": "#E5ECF6",
           "radialaxis": {
            "gridcolor": "white",
            "linecolor": "white",
            "ticks": ""
           }
          },
          "scene": {
           "xaxis": {
            "backgroundcolor": "#E5ECF6",
            "gridcolor": "white",
            "gridwidth": 2,
            "linecolor": "white",
            "showbackground": true,
            "ticks": "",
            "zerolinecolor": "white"
           },
           "yaxis": {
            "backgroundcolor": "#E5ECF6",
            "gridcolor": "white",
            "gridwidth": 2,
            "linecolor": "white",
            "showbackground": true,
            "ticks": "",
            "zerolinecolor": "white"
           },
           "zaxis": {
            "backgroundcolor": "#E5ECF6",
            "gridcolor": "white",
            "gridwidth": 2,
            "linecolor": "white",
            "showbackground": true,
            "ticks": "",
            "zerolinecolor": "white"
           }
          },
          "shapedefaults": {
           "line": {
            "color": "#2a3f5f"
           }
          },
          "ternary": {
           "aaxis": {
            "gridcolor": "white",
            "linecolor": "white",
            "ticks": ""
           },
           "baxis": {
            "gridcolor": "white",
            "linecolor": "white",
            "ticks": ""
           },
           "bgcolor": "#E5ECF6",
           "caxis": {
            "gridcolor": "white",
            "linecolor": "white",
            "ticks": ""
           }
          },
          "title": {
           "x": 0.05
          },
          "xaxis": {
           "automargin": true,
           "gridcolor": "white",
           "linecolor": "white",
           "ticks": "",
           "title": {
            "standoff": 15
           },
           "zerolinecolor": "white",
           "zerolinewidth": 2
          },
          "yaxis": {
           "automargin": true,
           "gridcolor": "white",
           "linecolor": "white",
           "ticks": "",
           "title": {
            "standoff": 15
           },
           "zerolinecolor": "white",
           "zerolinewidth": 2
          }
         }
        },
        "title": {
         "text": "Relação Predição e Valores Atuais"
        },
        "width": 1600
       }
      }
     },
     "metadata": {}
    }
   ],
   "source": [
    "fig = go.Figure()\n",
    "\n",
    "fig.add_traces(go.Scatter(y=y_test, name='Valor Atual'))\n",
    "\n",
    "fig.add_traces(go.Scatter(y=y_pred, name='Predição', mode='markers'))\n",
    "\n",
    "fig.update_layout(hovermode='x', title = 'Relação Predição e Valores Atuais', width = 1600, height= 800)\n"
   ]
  },
  {
   "cell_type": "markdown",
   "metadata": {},
   "source": [
    "###### Modelo Final"
   ]
  },
  {
   "cell_type": "code",
   "execution_count": 43,
   "metadata": {},
   "outputs": [],
   "source": [
    "X_train = df_train.drop('SalePrice', axis=1)\n",
    "y_train = df_train['SalePrice']"
   ]
  },
  {
   "cell_type": "code",
   "execution_count": 44,
   "metadata": {},
   "outputs": [],
   "source": [
    "ohe = OneHotEncoder(use_cat_names=True)"
   ]
  },
  {
   "cell_type": "code",
   "execution_count": 45,
   "metadata": {},
   "outputs": [
    {
     "output_type": "stream",
     "name": "stderr",
     "text": [
      "C:\\Users\\lucas\\miniconda3\\lib\\site-packages\\category_encoders\\utils.py:21: FutureWarning:\n",
      "\n",
      "is_categorical is deprecated and will be removed in a future version.  Use is_categorical_dtype instead\n",
      "\n",
      "C:\\Users\\lucas\\miniconda3\\lib\\site-packages\\category_encoders\\utils.py:21: FutureWarning:\n",
      "\n",
      "is_categorical is deprecated and will be removed in a future version.  Use is_categorical_dtype instead\n",
      "\n"
     ]
    }
   ],
   "source": [
    "ohe_train = ohe.fit_transform(X_train)\n",
    "ohe_test = ohe.fit_transform(df_test.drop(columns='Id'))"
   ]
  },
  {
   "cell_type": "code",
   "execution_count": 46,
   "metadata": {},
   "outputs": [],
   "source": [
    "colunas_faltantes_test = set(ohe_train.columns) - set(ohe_test.columns)\n",
    "ohe_train = ohe_train.drop(columns=list(colunas_faltantes_test))"
   ]
  },
  {
   "cell_type": "code",
   "execution_count": 47,
   "metadata": {},
   "outputs": [],
   "source": [
    "train_scaled = scaler.fit_transform(ohe_train)\n",
    "test_scaled = scaler.fit_transform(ohe_test)"
   ]
  },
  {
   "cell_type": "code",
   "execution_count": 48,
   "metadata": {},
   "outputs": [],
   "source": [
    "model = LGBMRegressor(random_state=SEED,\n",
    "    learning_rate = learning_rate, \n",
    "    num_leaves = num_leaves, \n",
    "    min_child_samples = min_child_samples, \n",
    "    subsample = subsample,\n",
    "    colsample_bytree = colsample_bytree,\n",
    "    subsample_freq=1,\n",
    "    n_estimators=n_estimators)"
   ]
  },
  {
   "cell_type": "code",
   "execution_count": 49,
   "metadata": {},
   "outputs": [],
   "source": [
    "model.fit(train_scaled, y_train)\n",
    "y_pred = model.predict(test_scaled)"
   ]
  },
  {
   "cell_type": "code",
   "execution_count": 50,
   "metadata": {},
   "outputs": [],
   "source": [
    "df_test['PredictedPrices'] = y_pred.round(2)"
   ]
  },
  {
   "cell_type": "code",
   "execution_count": 65,
   "metadata": {},
   "outputs": [],
   "source": [
    "df_test.to_csv(path_or_buf=r'..\\csv_results\\test_com_previsões.csv', index=False)"
   ]
  },
  {
   "cell_type": "code",
   "execution_count": null,
   "metadata": {},
   "outputs": [],
   "source": []
  }
 ],
 "metadata": {
  "kernelspec": {
   "display_name": "Python 3",
   "language": "python",
   "name": "python3"
  },
  "language_info": {
   "codemirror_mode": {
    "name": "ipython",
    "version": 3
   },
   "file_extension": ".py",
   "mimetype": "text/x-python",
   "name": "python",
   "nbconvert_exporter": "python",
   "pygments_lexer": "ipython3",
   "version": "3.8.5-final"
  }
 },
 "nbformat": 4,
 "nbformat_minor": 2
}