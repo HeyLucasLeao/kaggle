{
 "cells": [
  {
   "cell_type": "markdown",
   "metadata": {},
   "source": [
    "### Importação de Libs"
   ]
  },
  {
   "cell_type": "code",
   "execution_count": 1,
   "metadata": {},
   "outputs": [],
   "source": [
    "import pandas as pd\n",
    "import numpy as np\n",
    "from category_encoders import OneHotEncoder\n",
    "import plotly.express as px\n",
    "from sklearn.preprocessing import MinMaxScaler\n",
    "from sklearn.model_selection import train_test_split\n",
    "from sklearn.linear_model import LogisticRegression\n",
    "from sklearn.metrics import accuracy_score\n",
    "from skopt import dummy_minimize\n",
    "from sklearn.impute import KNNImputer\n",
    "from sklearn.model_selection import KFold\n",
    "from sklearn.model_selection import cross_validate"
   ]
  },
  {
   "cell_type": "markdown",
   "metadata": {},
   "source": [
    "### Making Functions and Most Important variables/constants"
   ]
  },
  {
   "cell_type": "code",
   "execution_count": 2,
   "metadata": {},
   "outputs": [],
   "source": [
    "train = pd.read_csv(\"train.csv\")\n",
    "test = pd.read_csv(\"test.csv\")\n",
    "ID = test['PassengerId']\n",
    "SEED = 4\n",
    "IMPUTER = KNNImputer(weights='distance')\n",
    "SCALER = MinMaxScaler()"
   ]
  },
  {
   "cell_type": "code",
   "execution_count": 3,
   "metadata": {},
   "outputs": [],
   "source": [
    "def search_title(x):\n",
    "    y = list(x)\n",
    "    if y.index(','):\n",
    "        y = y[y.index(',') + 2:y.index(\" \", y.index(',') + 2)]\n",
    "        return \"\".join(y)"
   ]
  },
  {
   "cell_type": "code",
   "execution_count": 4,
   "metadata": {},
   "outputs": [],
   "source": [
    "def to_miss(x):\n",
    "    arr = ['Mlle.', 'Mme.', 'Lady.', 'Ms.', 'Dona.']\n",
    "    if x in arr:\n",
    "        x = 'Miss.'\n",
    "    return x"
   ]
  },
  {
   "cell_type": "code",
   "execution_count": 5,
   "metadata": {},
   "outputs": [],
   "source": [
    "def to_mr(x):\n",
    "    arr = ['Dr.', 'Rev.', 'Col.', 'Major.', 'Capt.', 'the.', 'Jonkheer.', 'Sir.', 'Don.', 'the' , 'Master.']\n",
    "    if x in arr:\n",
    "        x = 'Mr.'\n",
    "    return x"
   ]
  },
  {
   "cell_type": "code",
   "execution_count": 6,
   "metadata": {},
   "outputs": [],
   "source": [
    "def is_married(x):\n",
    "    if x == 'Mrs.':\n",
    "        return 1\n",
    "    return 0"
   ]
  },
  {
   "cell_type": "code",
   "execution_count": 7,
   "metadata": {},
   "outputs": [],
   "source": [
    "def is_alone(x):\n",
    "    if x == 0:\n",
    "        return 1\n",
    "    return 0"
   ]
  },
  {
   "cell_type": "code",
   "execution_count": 8,
   "metadata": {},
   "outputs": [],
   "source": [
    "def below_age(x):\n",
    "    if x < 18:\n",
    "        return 1\n",
    "    return 0"
   ]
  },
  {
   "cell_type": "markdown",
   "metadata": {},
   "source": [
    "##### Imputing Age"
   ]
  },
  {
   "cell_type": "code",
   "execution_count": 9,
   "metadata": {},
   "outputs": [],
   "source": [
    "train[['Age']] = IMPUTER.fit_transform(train[['Age']])"
   ]
  },
  {
   "cell_type": "markdown",
   "metadata": {},
   "source": [
    "##### Feature Engineering"
   ]
  },
  {
   "cell_type": "code",
   "execution_count": 10,
   "metadata": {},
   "outputs": [],
   "source": [
    "train['Title'] = train['Name'].apply(search_title) #make a column of titles\n",
    "train['Title'] = train['Title'].apply(to_miss) #separate titles that can go to Miss\n",
    "train['Title'] = train['Title'].apply(to_mr) #separate titles that can go to Mr."
   ]
  },
  {
   "cell_type": "code",
   "execution_count": 11,
   "metadata": {},
   "outputs": [],
   "source": [
    "train['is_married'] = train['Title'].apply(is_married) #check if the person are married or not"
   ]
  },
  {
   "cell_type": "code",
   "execution_count": 12,
   "metadata": {},
   "outputs": [],
   "source": [
    "train['below_age'] = train['Age'].apply(below_age) #check if the passanger is a child or not"
   ]
  },
  {
   "cell_type": "code",
   "execution_count": 13,
   "metadata": {},
   "outputs": [],
   "source": [
    "train['family_size'] = train['SibSp'] + train['Parch'] #make a column about the family size on Titanic"
   ]
  },
  {
   "cell_type": "code",
   "execution_count": 14,
   "metadata": {},
   "outputs": [],
   "source": [
    "train['is_alone'] = train['family_size'].apply(is_alone) #check if the passanger are alone"
   ]
  },
  {
   "cell_type": "code",
   "execution_count": 15,
   "metadata": {},
   "outputs": [],
   "source": [
    "train['group_by_age'] = pd.qcut(train['Age'], q=4, labels=[1,2,3,4]).astype(int) #divide age by groups of Quantiles"
   ]
  },
  {
   "cell_type": "markdown",
   "metadata": {},
   "source": [
    "##### Dropping NaN and Unwanted Columns"
   ]
  },
  {
   "cell_type": "code",
   "execution_count": 16,
   "metadata": {},
   "outputs": [],
   "source": [
    "train.drop(columns=['PassengerId', 'Cabin', 'Ticket','Name'], inplace=True)"
   ]
  },
  {
   "cell_type": "code",
   "execution_count": 17,
   "metadata": {},
   "outputs": [],
   "source": [
    "embarked_rows_to_drop = train[train[['Embarked']].isnull().any(axis=1)].index.values"
   ]
  },
  {
   "cell_type": "code",
   "execution_count": 18,
   "metadata": {},
   "outputs": [],
   "source": [
    "train.drop(index=embarked_rows_to_drop, inplace=True)"
   ]
  },
  {
   "cell_type": "markdown",
   "metadata": {},
   "source": [
    "### OneHotEncoding"
   ]
  },
  {
   "cell_type": "code",
   "execution_count": 19,
   "metadata": {},
   "outputs": [
    {
     "name": "stderr",
     "output_type": "stream",
     "text": [
      "c:\\users\\lucas\\miniconda3\\lib\\site-packages\\category_encoders\\utils.py:21: FutureWarning: is_categorical is deprecated and will be removed in a future version.  Use is_categorical_dtype instead\n",
      "  elif pd.api.types.is_categorical(cols):\n"
     ]
    }
   ],
   "source": [
    "ohe = OneHotEncoder(use_cat_names=True)\n",
    "ohe_train = ohe.fit_transform(train)"
   ]
  },
  {
   "cell_type": "code",
   "execution_count": 20,
   "metadata": {},
   "outputs": [],
   "source": [
    "X = ohe_train.drop(columns='Survived')\n",
    "y = ohe_train['Survived']"
   ]
  },
  {
   "cell_type": "markdown",
   "metadata": {},
   "source": [
    "### Scaling"
   ]
  },
  {
   "cell_type": "code",
   "execution_count": 21,
   "metadata": {},
   "outputs": [],
   "source": [
    "X = SCALER.fit_transform(X)"
   ]
  },
  {
   "cell_type": "code",
   "execution_count": 22,
   "metadata": {},
   "outputs": [],
   "source": [
    "X = pd.DataFrame(X, columns=ohe_train.columns[1:])"
   ]
  },
  {
   "cell_type": "code",
   "execution_count": 23,
   "metadata": {},
   "outputs": [
    {
     "data": {
      "text/html": [
       "<div>\n",
       "<style scoped>\n",
       "    .dataframe tbody tr th:only-of-type {\n",
       "        vertical-align: middle;\n",
       "    }\n",
       "\n",
       "    .dataframe tbody tr th {\n",
       "        vertical-align: top;\n",
       "    }\n",
       "\n",
       "    .dataframe thead th {\n",
       "        text-align: right;\n",
       "    }\n",
       "</style>\n",
       "<table border=\"1\" class=\"dataframe\">\n",
       "  <thead>\n",
       "    <tr style=\"text-align: right;\">\n",
       "      <th></th>\n",
       "      <th>Pclass</th>\n",
       "      <th>Sex_male</th>\n",
       "      <th>Sex_female</th>\n",
       "      <th>Age</th>\n",
       "      <th>SibSp</th>\n",
       "      <th>Parch</th>\n",
       "      <th>Fare</th>\n",
       "      <th>Embarked_S</th>\n",
       "      <th>Embarked_C</th>\n",
       "      <th>Embarked_Q</th>\n",
       "      <th>Title_Mr.</th>\n",
       "      <th>Title_Mrs.</th>\n",
       "      <th>Title_Miss.</th>\n",
       "      <th>is_married</th>\n",
       "      <th>below_age</th>\n",
       "      <th>family_size</th>\n",
       "      <th>is_alone</th>\n",
       "      <th>group_by_age</th>\n",
       "    </tr>\n",
       "  </thead>\n",
       "  <tbody>\n",
       "    <tr>\n",
       "      <th>0</th>\n",
       "      <td>1.0</td>\n",
       "      <td>1.0</td>\n",
       "      <td>0.0</td>\n",
       "      <td>0.271174</td>\n",
       "      <td>0.125</td>\n",
       "      <td>0.000000</td>\n",
       "      <td>0.014151</td>\n",
       "      <td>1.0</td>\n",
       "      <td>0.0</td>\n",
       "      <td>0.0</td>\n",
       "      <td>1.0</td>\n",
       "      <td>0.0</td>\n",
       "      <td>0.0</td>\n",
       "      <td>0.0</td>\n",
       "      <td>0.0</td>\n",
       "      <td>0.1</td>\n",
       "      <td>0.0</td>\n",
       "      <td>0.000000</td>\n",
       "    </tr>\n",
       "    <tr>\n",
       "      <th>1</th>\n",
       "      <td>0.0</td>\n",
       "      <td>0.0</td>\n",
       "      <td>1.0</td>\n",
       "      <td>0.472229</td>\n",
       "      <td>0.125</td>\n",
       "      <td>0.000000</td>\n",
       "      <td>0.139136</td>\n",
       "      <td>0.0</td>\n",
       "      <td>1.0</td>\n",
       "      <td>0.0</td>\n",
       "      <td>0.0</td>\n",
       "      <td>1.0</td>\n",
       "      <td>0.0</td>\n",
       "      <td>1.0</td>\n",
       "      <td>0.0</td>\n",
       "      <td>0.1</td>\n",
       "      <td>0.0</td>\n",
       "      <td>1.000000</td>\n",
       "    </tr>\n",
       "    <tr>\n",
       "      <th>2</th>\n",
       "      <td>1.0</td>\n",
       "      <td>0.0</td>\n",
       "      <td>1.0</td>\n",
       "      <td>0.321438</td>\n",
       "      <td>0.000</td>\n",
       "      <td>0.000000</td>\n",
       "      <td>0.015469</td>\n",
       "      <td>1.0</td>\n",
       "      <td>0.0</td>\n",
       "      <td>0.0</td>\n",
       "      <td>0.0</td>\n",
       "      <td>0.0</td>\n",
       "      <td>1.0</td>\n",
       "      <td>0.0</td>\n",
       "      <td>0.0</td>\n",
       "      <td>0.0</td>\n",
       "      <td>1.0</td>\n",
       "      <td>0.333333</td>\n",
       "    </tr>\n",
       "    <tr>\n",
       "      <th>3</th>\n",
       "      <td>0.0</td>\n",
       "      <td>0.0</td>\n",
       "      <td>1.0</td>\n",
       "      <td>0.434531</td>\n",
       "      <td>0.125</td>\n",
       "      <td>0.000000</td>\n",
       "      <td>0.103644</td>\n",
       "      <td>1.0</td>\n",
       "      <td>0.0</td>\n",
       "      <td>0.0</td>\n",
       "      <td>0.0</td>\n",
       "      <td>1.0</td>\n",
       "      <td>0.0</td>\n",
       "      <td>1.0</td>\n",
       "      <td>0.0</td>\n",
       "      <td>0.1</td>\n",
       "      <td>0.0</td>\n",
       "      <td>0.666667</td>\n",
       "    </tr>\n",
       "    <tr>\n",
       "      <th>4</th>\n",
       "      <td>1.0</td>\n",
       "      <td>1.0</td>\n",
       "      <td>0.0</td>\n",
       "      <td>0.434531</td>\n",
       "      <td>0.000</td>\n",
       "      <td>0.000000</td>\n",
       "      <td>0.015713</td>\n",
       "      <td>1.0</td>\n",
       "      <td>0.0</td>\n",
       "      <td>0.0</td>\n",
       "      <td>1.0</td>\n",
       "      <td>0.0</td>\n",
       "      <td>0.0</td>\n",
       "      <td>0.0</td>\n",
       "      <td>0.0</td>\n",
       "      <td>0.0</td>\n",
       "      <td>1.0</td>\n",
       "      <td>0.666667</td>\n",
       "    </tr>\n",
       "    <tr>\n",
       "      <th>...</th>\n",
       "      <td>...</td>\n",
       "      <td>...</td>\n",
       "      <td>...</td>\n",
       "      <td>...</td>\n",
       "      <td>...</td>\n",
       "      <td>...</td>\n",
       "      <td>...</td>\n",
       "      <td>...</td>\n",
       "      <td>...</td>\n",
       "      <td>...</td>\n",
       "      <td>...</td>\n",
       "      <td>...</td>\n",
       "      <td>...</td>\n",
       "      <td>...</td>\n",
       "      <td>...</td>\n",
       "      <td>...</td>\n",
       "      <td>...</td>\n",
       "      <td>...</td>\n",
       "    </tr>\n",
       "    <tr>\n",
       "      <th>884</th>\n",
       "      <td>0.5</td>\n",
       "      <td>1.0</td>\n",
       "      <td>0.0</td>\n",
       "      <td>0.334004</td>\n",
       "      <td>0.000</td>\n",
       "      <td>0.000000</td>\n",
       "      <td>0.025374</td>\n",
       "      <td>1.0</td>\n",
       "      <td>0.0</td>\n",
       "      <td>0.0</td>\n",
       "      <td>1.0</td>\n",
       "      <td>0.0</td>\n",
       "      <td>0.0</td>\n",
       "      <td>0.0</td>\n",
       "      <td>0.0</td>\n",
       "      <td>0.0</td>\n",
       "      <td>1.0</td>\n",
       "      <td>0.333333</td>\n",
       "    </tr>\n",
       "    <tr>\n",
       "      <th>885</th>\n",
       "      <td>0.0</td>\n",
       "      <td>0.0</td>\n",
       "      <td>1.0</td>\n",
       "      <td>0.233476</td>\n",
       "      <td>0.000</td>\n",
       "      <td>0.000000</td>\n",
       "      <td>0.058556</td>\n",
       "      <td>1.0</td>\n",
       "      <td>0.0</td>\n",
       "      <td>0.0</td>\n",
       "      <td>0.0</td>\n",
       "      <td>0.0</td>\n",
       "      <td>1.0</td>\n",
       "      <td>0.0</td>\n",
       "      <td>0.0</td>\n",
       "      <td>0.0</td>\n",
       "      <td>1.0</td>\n",
       "      <td>0.000000</td>\n",
       "    </tr>\n",
       "    <tr>\n",
       "      <th>886</th>\n",
       "      <td>1.0</td>\n",
       "      <td>0.0</td>\n",
       "      <td>1.0</td>\n",
       "      <td>0.367921</td>\n",
       "      <td>0.125</td>\n",
       "      <td>0.333333</td>\n",
       "      <td>0.045771</td>\n",
       "      <td>1.0</td>\n",
       "      <td>0.0</td>\n",
       "      <td>0.0</td>\n",
       "      <td>0.0</td>\n",
       "      <td>0.0</td>\n",
       "      <td>1.0</td>\n",
       "      <td>0.0</td>\n",
       "      <td>0.0</td>\n",
       "      <td>0.3</td>\n",
       "      <td>0.0</td>\n",
       "      <td>0.333333</td>\n",
       "    </tr>\n",
       "    <tr>\n",
       "      <th>887</th>\n",
       "      <td>0.0</td>\n",
       "      <td>1.0</td>\n",
       "      <td>0.0</td>\n",
       "      <td>0.321438</td>\n",
       "      <td>0.000</td>\n",
       "      <td>0.000000</td>\n",
       "      <td>0.058556</td>\n",
       "      <td>0.0</td>\n",
       "      <td>1.0</td>\n",
       "      <td>0.0</td>\n",
       "      <td>1.0</td>\n",
       "      <td>0.0</td>\n",
       "      <td>0.0</td>\n",
       "      <td>0.0</td>\n",
       "      <td>0.0</td>\n",
       "      <td>0.0</td>\n",
       "      <td>1.0</td>\n",
       "      <td>0.333333</td>\n",
       "    </tr>\n",
       "    <tr>\n",
       "      <th>888</th>\n",
       "      <td>1.0</td>\n",
       "      <td>1.0</td>\n",
       "      <td>0.0</td>\n",
       "      <td>0.396833</td>\n",
       "      <td>0.000</td>\n",
       "      <td>0.000000</td>\n",
       "      <td>0.015127</td>\n",
       "      <td>0.0</td>\n",
       "      <td>0.0</td>\n",
       "      <td>1.0</td>\n",
       "      <td>1.0</td>\n",
       "      <td>0.0</td>\n",
       "      <td>0.0</td>\n",
       "      <td>0.0</td>\n",
       "      <td>0.0</td>\n",
       "      <td>0.0</td>\n",
       "      <td>1.0</td>\n",
       "      <td>0.666667</td>\n",
       "    </tr>\n",
       "  </tbody>\n",
       "</table>\n",
       "<p>889 rows × 18 columns</p>\n",
       "</div>"
      ],
      "text/plain": [
       "     Pclass  Sex_male  Sex_female       Age  SibSp     Parch      Fare  \\\n",
       "0       1.0       1.0         0.0  0.271174  0.125  0.000000  0.014151   \n",
       "1       0.0       0.0         1.0  0.472229  0.125  0.000000  0.139136   \n",
       "2       1.0       0.0         1.0  0.321438  0.000  0.000000  0.015469   \n",
       "3       0.0       0.0         1.0  0.434531  0.125  0.000000  0.103644   \n",
       "4       1.0       1.0         0.0  0.434531  0.000  0.000000  0.015713   \n",
       "..      ...       ...         ...       ...    ...       ...       ...   \n",
       "884     0.5       1.0         0.0  0.334004  0.000  0.000000  0.025374   \n",
       "885     0.0       0.0         1.0  0.233476  0.000  0.000000  0.058556   \n",
       "886     1.0       0.0         1.0  0.367921  0.125  0.333333  0.045771   \n",
       "887     0.0       1.0         0.0  0.321438  0.000  0.000000  0.058556   \n",
       "888     1.0       1.0         0.0  0.396833  0.000  0.000000  0.015127   \n",
       "\n",
       "     Embarked_S  Embarked_C  Embarked_Q  Title_Mr.  Title_Mrs.  Title_Miss.  \\\n",
       "0           1.0         0.0         0.0        1.0         0.0          0.0   \n",
       "1           0.0         1.0         0.0        0.0         1.0          0.0   \n",
       "2           1.0         0.0         0.0        0.0         0.0          1.0   \n",
       "3           1.0         0.0         0.0        0.0         1.0          0.0   \n",
       "4           1.0         0.0         0.0        1.0         0.0          0.0   \n",
       "..          ...         ...         ...        ...         ...          ...   \n",
       "884         1.0         0.0         0.0        1.0         0.0          0.0   \n",
       "885         1.0         0.0         0.0        0.0         0.0          1.0   \n",
       "886         1.0         0.0         0.0        0.0         0.0          1.0   \n",
       "887         0.0         1.0         0.0        1.0         0.0          0.0   \n",
       "888         0.0         0.0         1.0        1.0         0.0          0.0   \n",
       "\n",
       "     is_married  below_age  family_size  is_alone  group_by_age  \n",
       "0           0.0        0.0          0.1       0.0      0.000000  \n",
       "1           1.0        0.0          0.1       0.0      1.000000  \n",
       "2           0.0        0.0          0.0       1.0      0.333333  \n",
       "3           1.0        0.0          0.1       0.0      0.666667  \n",
       "4           0.0        0.0          0.0       1.0      0.666667  \n",
       "..          ...        ...          ...       ...           ...  \n",
       "884         0.0        0.0          0.0       1.0      0.333333  \n",
       "885         0.0        0.0          0.0       1.0      0.000000  \n",
       "886         0.0        0.0          0.3       0.0      0.333333  \n",
       "887         0.0        0.0          0.0       1.0      0.333333  \n",
       "888         0.0        0.0          0.0       1.0      0.666667  \n",
       "\n",
       "[889 rows x 18 columns]"
      ]
     },
     "execution_count": 23,
     "metadata": {},
     "output_type": "execute_result"
    }
   ],
   "source": [
    "X"
   ]
  },
  {
   "cell_type": "markdown",
   "metadata": {},
   "source": [
    "#### Train Test Split"
   ]
  },
  {
   "cell_type": "code",
   "execution_count": 24,
   "metadata": {},
   "outputs": [],
   "source": [
    "X_train, X_test, y_train, y_test = train_test_split(\n",
    "X, \n",
    "y, \n",
    "random_state=SEED,\n",
    "test_size=0.20, \n",
    "stratify=y)"
   ]
  },
  {
   "cell_type": "markdown",
   "metadata": {},
   "source": [
    "#### Validation"
   ]
  },
  {
   "cell_type": "code",
   "execution_count": 25,
   "metadata": {},
   "outputs": [],
   "source": [
    "from lightgbm import LGBMClassifier"
   ]
  },
  {
   "cell_type": "code",
   "execution_count": 29,
   "metadata": {},
   "outputs": [
    {
     "name": "stdout",
     "output_type": "stream",
     "text": [
      "Iteration No: 1 started. Evaluating function at random point.\n",
      "[0.06327656730105531, 71, 2, 0.8628399009188652, 0.6481320413049753, 493] \n",
      "\n",
      "Iteration No: 1 ended. Evaluation done at random point.\n",
      "Time taken: 0.3850\n",
      "Function value obtained: -0.7697\n",
      "Current minimum: -0.7697\n",
      "Iteration No: 2 started. Evaluating function at random point.\n",
      "[0.0027050730096210155, 105, 95, 0.7134992241139206, 0.9128606713660984, 776] \n",
      "\n",
      "Iteration No: 2 ended. Evaluation done at random point.\n",
      "Time taken: 0.0888\n",
      "Function value obtained: -0.7247\n",
      "Current minimum: -0.7697\n",
      "Iteration No: 3 started. Evaluating function at random point.\n",
      "[0.03620477422893411, 40, 53, 0.9842306433165472, 0.24745801726422886, 249] \n",
      "\n",
      "Iteration No: 3 ended. Evaluation done at random point.\n",
      "Time taken: 0.0459\n",
      "Function value obtained: -0.7865\n",
      "Current minimum: -0.7865\n",
      "Iteration No: 4 started. Evaluating function at random point.\n",
      "[0.042062540164342105, 127, 57, 0.0919520550349246, 0.9609876709428125, 748] \n",
      "\n",
      "Iteration No: 4 ended. Evaluation done at random point.\n",
      "Time taken: 0.0369\n",
      "Function value obtained: -0.6180\n",
      "Current minimum: -0.7865\n",
      "Iteration No: 5 started. Evaluating function at random point.\n",
      "[0.0010915647147779802, 60, 88, 0.947753658689371, 0.5017142776835626, 261] \n",
      "\n",
      "Iteration No: 5 ended. Evaluation done at random point.\n",
      "Time taken: 0.0399\n",
      "Function value obtained: -0.6629\n",
      "Current minimum: -0.7865\n",
      "Iteration No: 6 started. Evaluating function at random point.\n",
      "[0.0013533779189430324, 111, 29, 0.872588621800476, 0.8591753055721483, 710] \n",
      "\n",
      "Iteration No: 6 ended. Evaluation done at random point.\n",
      "Time taken: 0.1775\n",
      "Function value obtained: -0.7584\n",
      "Current minimum: -0.7865\n",
      "Iteration No: 7 started. Evaluating function at random point.\n",
      "[0.011371497149642092, 52, 18, 0.2979234721719005, 0.13218236522675356, 287] \n",
      "\n",
      "Iteration No: 7 ended. Evaluation done at random point.\n",
      "Time taken: 0.0509\n",
      "Function value obtained: -0.7247\n",
      "Current minimum: -0.7865\n",
      "Iteration No: 8 started. Evaluating function at random point.\n",
      "[0.012314174496234818, 25, 95, 0.35031040595040225, 0.31693474266547406, 431] \n",
      "\n",
      "Iteration No: 8 ended. Evaluation done at random point.\n",
      "Time taken: 0.0549\n",
      "Function value obtained: -0.7247\n",
      "Current minimum: -0.7865\n",
      "Iteration No: 9 started. Evaluating function at random point.\n",
      "[0.0062201377958643915, 116, 71, 0.7790347187356178, 0.2610765190370178, 566] \n",
      "\n",
      "Iteration No: 9 ended. Evaluation done at random point.\n",
      "Time taken: 0.0908\n",
      "Function value obtained: -0.7135\n",
      "Current minimum: -0.7865\n",
      "Iteration No: 10 started. Evaluating function at random point.\n",
      "[0.010117334727109762, 117, 86, 0.1290106373057054, 0.32761865155725006, 159] \n",
      "\n",
      "Iteration No: 10 ended. Evaluation done at random point.\n",
      "Time taken: 0.0180\n",
      "Function value obtained: -0.6180\n",
      "Current minimum: -0.7865\n",
      "Iteration No: 11 started. Evaluating function at random point.\n",
      "[0.06180197188255592, 10, 38, 0.8203596896072781, 0.213563492506852, 666] \n",
      "\n",
      "Iteration No: 11 ended. Evaluation done at random point.\n",
      "Time taken: 0.1326\n",
      "Function value obtained: -0.8146\n",
      "Current minimum: -0.8146\n",
      "Iteration No: 12 started. Evaluating function at random point.\n",
      "[0.0023168120809679477, 32, 5, 0.4602309677741663, 0.8471692918885118, 643] \n",
      "\n",
      "Iteration No: 12 ended. Evaluation done at random point.\n",
      "Time taken: 0.2987\n",
      "Function value obtained: -0.7697\n",
      "Current minimum: -0.8146\n",
      "Iteration No: 13 started. Evaluating function at random point.\n",
      "[0.024907561965918448, 80, 10, 0.9093472835765465, 0.43877752657923763, 726] \n",
      "\n",
      "Iteration No: 13 ended. Evaluation done at random point.\n",
      "Time taken: 0.4139\n",
      "Function value obtained: -0.7865\n",
      "Current minimum: -0.8146\n",
      "Iteration No: 14 started. Evaluating function at random point.\n",
      "[0.049078049938118595, 6, 40, 0.6159037112149178, 0.17619544991836925, 836] \n",
      "\n",
      "Iteration No: 14 ended. Evaluation done at random point.\n",
      "Time taken: 0.1217\n",
      "Function value obtained: -0.8146\n",
      "Current minimum: -0.8146\n",
      "Iteration No: 15 started. Evaluating function at random point.\n",
      "[0.001228275132159861, 55, 23, 0.256558778136363, 0.8263148930911763, 127] \n",
      "\n",
      "Iteration No: 15 ended. Evaluation done at random point.\n",
      "Time taken: 0.0259\n",
      "Function value obtained: -0.6180\n",
      "Current minimum: -0.8146\n",
      "Iteration No: 16 started. Evaluating function at random point.\n",
      "[0.01611116779294787, 45, 87, 0.5630709931606661, 0.21626810530339394, 494] \n",
      "\n",
      "Iteration No: 16 ended. Evaluation done at random point.\n",
      "Time taken: 0.0698\n",
      "Function value obtained: -0.7247\n",
      "Current minimum: -0.8146\n",
      "Iteration No: 17 started. Evaluating function at random point.\n",
      "[0.07956266498142855, 119, 8, 0.09610742959857489, 0.19883630630605964, 415] \n",
      "\n",
      "Iteration No: 17 ended. Evaluation done at random point.\n",
      "Time taken: 0.0629\n",
      "Function value obtained: -0.7921\n",
      "Current minimum: -0.8146\n",
      "Iteration No: 18 started. Evaluating function at random point.\n",
      "[0.04637640720810472, 66, 88, 0.17248856910706784, 0.8480218897682718, 988] \n",
      "\n",
      "Iteration No: 18 ended. Evaluation done at random point.\n",
      "Time taken: 0.0470\n",
      "Function value obtained: -0.6180\n",
      "Current minimum: -0.8146\n",
      "Iteration No: 19 started. Evaluating function at random point.\n",
      "[0.04171467307105799, 33, 36, 0.9404269042132899, 0.31253649990151944, 475] \n",
      "\n",
      "Iteration No: 19 ended. Evaluation done at random point.\n",
      "Time taken: 0.0979\n",
      "Function value obtained: -0.8034\n",
      "Current minimum: -0.8146\n",
      "Iteration No: 20 started. Evaluating function at random point.\n",
      "[0.0053592788022858405, 82, 8, 0.3827709503127399, 0.27012318351053943, 570] \n",
      "\n",
      "Iteration No: 20 ended. Evaluation done at random point.\n",
      "Time taken: 0.1988\n",
      "Function value obtained: -0.7809\n",
      "Current minimum: -0.8146\n",
      "Iteration No: 21 started. Evaluating function at random point.\n",
      "[0.004377551755279261, 43, 4, 0.5681080692628621, 0.43399556156121155, 619] \n",
      "\n",
      "Iteration No: 21 ended. Evaluation done at random point.\n",
      "Time taken: 0.4271\n",
      "Function value obtained: -0.7921\n",
      "Current minimum: -0.8146\n",
      "Iteration No: 22 started. Evaluating function at random point.\n",
      "[0.006682583950549282, 30, 76, 0.907300763082334, 0.981654635836437, 381] \n",
      "\n",
      "Iteration No: 22 ended. Evaluation done at random point.\n",
      "Time taken: 0.0549\n",
      "Function value obtained: -0.7528\n",
      "Current minimum: -0.8146\n",
      "Iteration No: 23 started. Evaluating function at random point.\n",
      "[0.05670034642877683, 7, 74, 0.5275156717356378, 0.7727453339354737, 648] \n",
      "\n",
      "Iteration No: 23 ended. Evaluation done at random point.\n",
      "Time taken: 0.0668\n",
      "Function value obtained: -0.7753\n",
      "Current minimum: -0.8146\n",
      "Iteration No: 24 started. Evaluating function at random point.\n",
      "[0.001018220371397086, 21, 81, 0.18818921124796484, 0.3779151073364658, 560] \n",
      "\n",
      "Iteration No: 24 ended. Evaluation done at random point.\n",
      "Time taken: 0.0339\n",
      "Function value obtained: -0.6180\n",
      "Current minimum: -0.8146\n",
      "Iteration No: 25 started. Evaluating function at random point.\n",
      "[0.03880133204736965, 78, 77, 0.9466076305888934, 0.2564018143797483, 739] \n",
      "\n",
      "Iteration No: 25 ended. Evaluation done at random point.\n",
      "Time taken: 0.1157\n",
      "Function value obtained: -0.7921\n",
      "Current minimum: -0.8146\n",
      "Iteration No: 26 started. Evaluating function at random point.\n",
      "[0.002458155884597445, 53, 63, 0.05990534212573755, 0.3069072126082252, 689] \n",
      "\n",
      "Iteration No: 26 ended. Evaluation done at random point.\n",
      "Time taken: 0.0384\n",
      "Function value obtained: -0.6180\n",
      "Current minimum: -0.8146\n",
      "Iteration No: 27 started. Evaluating function at random point.\n",
      "[0.08842111523458891, 106, 4, 0.06517271365498266, 0.5889612835211807, 126] \n",
      "\n",
      "Iteration No: 27 ended. Evaluation done at random point.\n",
      "Time taken: 0.0279\n",
      "Function value obtained: -0.7809\n",
      "Current minimum: -0.8146\n",
      "Iteration No: 28 started. Evaluating function at random point.\n",
      "[0.0643803371849957, 83, 58, 0.5287059364413743, 0.6533375020714426, 307] \n",
      "\n",
      "Iteration No: 28 ended. Evaluation done at random point.\n",
      "Time taken: 0.0389\n",
      "Function value obtained: -0.7697\n",
      "Current minimum: -0.8146\n",
      "Iteration No: 29 started. Evaluating function at random point.\n",
      "[0.07931181342100058, 36, 29, 0.5171982537534936, 0.9382728395501004, 358] \n",
      "\n",
      "Iteration No: 29 ended. Evaluation done at random point.\n",
      "Time taken: 0.0698\n",
      "Function value obtained: -0.7978\n",
      "Current minimum: -0.8146\n",
      "Iteration No: 30 started. Evaluating function at random point.\n",
      "[0.003767676913287042, 107, 22, 0.7924545677028243, 0.41873098436142886, 813] \n",
      "\n",
      "Iteration No: 30 ended. Evaluation done at random point.\n",
      "Time taken: 0.2593\n",
      "Function value obtained: -0.7753\n",
      "Current minimum: -0.8146\n"
     ]
    }
   ],
   "source": [
    "def search_hyperparams(params):\n",
    "    SEED = 4\n",
    "\n",
    "    learning_rate = params[0]\n",
    "    num_leaves = params[1]\n",
    "    min_child_samples = params[2]\n",
    "    subsample = params[3]\n",
    "    colsample_bytree = params[4]\n",
    "    n_estimators = params[5]\n",
    "\n",
    "    print(params, '\\n')\n",
    "    \n",
    "    model = LGBMClassifier(random_state=SEED,\n",
    "    learning_rate = learning_rate, \n",
    "    num_leaves = num_leaves, \n",
    "    min_child_samples = min_child_samples, \n",
    "    subsample = subsample,\n",
    "    colsample_bytree = colsample_bytree,\n",
    "    subsample_freq = 1,\n",
    "    n_estimators = n_estimators)\n",
    "    \n",
    "    model.fit(X_train, y_train)\n",
    "    \n",
    "    y_pred = model.predict(X_test)\n",
    "\n",
    "    return - accuracy_score(y_test, y_pred)\n",
    "\n",
    "space = [(1e-3, 1e-1, 'log-uniform'), #learning rate\n",
    "(2, 128), #num_leaves\n",
    "(1, 100), #min_child_samples\n",
    "(0.05, 1.0), #subsample\n",
    "(0.1, 1.0), #colsample_bytree\n",
    "(100, 1000)] #n_estimators\n",
    "\n",
    "result = dummy_minimize(search_hyperparams, \n",
    "space,\n",
    "random_state=SEED, \n",
    "verbose=1,\n",
    "n_calls = 30)\n",
    "\n",
    "learning_rate, num_leaves, min_child_samples, subsample, colsample_bytree, n_estimators = result.x"
   ]
  },
  {
   "cell_type": "code",
   "execution_count": 31,
   "metadata": {},
   "outputs": [
    {
     "data": {
      "text/plain": [
       "0.797752808988764"
      ]
     },
     "execution_count": 31,
     "metadata": {},
     "output_type": "execute_result"
    }
   ],
   "source": [
    "model = LGBMClassifier(learning_rate=learning_rate,\n",
    "                      num_leaves=num_leaves,\n",
    "                      min_child_samples=min_child_samples,\n",
    "                      subsample=subsample,\n",
    "                      colsample_bytree=colsample_bytree,\n",
    "                      n_estimators=n_estimators,\n",
    "                        subsample_freq = 1\n",
    "                      )\n",
    "model.fit(X_train, y_train)\n",
    "y_pred = model.predict(X_test)\n",
    "accuracy_score(y_test, y_pred)"
   ]
  },
  {
   "cell_type": "markdown",
   "metadata": {},
   "source": [
    "### Definitive Model"
   ]
  },
  {
   "cell_type": "code",
   "execution_count": null,
   "metadata": {},
   "outputs": [],
   "source": [
    "model.fit(X, y)"
   ]
  },
  {
   "cell_type": "markdown",
   "metadata": {},
   "source": [
    "##### Imputing Age and Fare"
   ]
  },
  {
   "cell_type": "code",
   "execution_count": null,
   "metadata": {},
   "outputs": [],
   "source": [
    "test[['Age']] = IMPUTER.fit_transform(test[['Age']])\n",
    "test[['Fare']] = IMPUTER.fit_transform(test[['Fare']])"
   ]
  },
  {
   "cell_type": "markdown",
   "metadata": {},
   "source": [
    "##### Feature Engineering on Df Set"
   ]
  },
  {
   "cell_type": "code",
   "execution_count": null,
   "metadata": {},
   "outputs": [],
   "source": [
    "test['Title'] = test['Name'].apply(search_title) #make a column of titles\n",
    "test['Title'] = test['Title'].apply(to_miss) #separate titles that can go to Miss\n",
    "test['Title'] = test['Title'].apply(to_mr) #separate titles that can go to Mr.\n",
    "test['is_married'] = test['Title'].apply(is_married) #check if the person are married or not\n",
    "test['below_age'] = test['Age'].apply(below_age) #check if the passanger is a child or not\n",
    "test['family_size'] = test['SibSp'] + test['Parch'] #make a column about the family size on Titanic\n",
    "test['is_alone'] = test['family_size'].apply(is_alone) #check if the passanger are alone\n",
    "test['group_by_age'] = pd.qcut(test['Age'], q=4, labels=[1,2,3,4]).astype(int) #divide age by groups of Quantiles"
   ]
  },
  {
   "cell_type": "markdown",
   "metadata": {},
   "source": [
    "#### Dropping Unwanted Columns"
   ]
  },
  {
   "cell_type": "code",
   "execution_count": null,
   "metadata": {},
   "outputs": [],
   "source": [
    "test.drop(columns=['PassengerId', 'Ticket', 'Cabin', 'Name'], inplace=True)"
   ]
  },
  {
   "cell_type": "markdown",
   "metadata": {},
   "source": [
    "#### OneHotEncoding, Scaling and Predicting"
   ]
  },
  {
   "cell_type": "code",
   "execution_count": null,
   "metadata": {
    "scrolled": true
   },
   "outputs": [],
   "source": [
    "test = ohe.fit_transform(test)\n",
    "test = SCALER.fit_transform(test)\n",
    "result = model.predict(test)\n",
    "result = result.astype(int)"
   ]
  },
  {
   "cell_type": "code",
   "execution_count": null,
   "metadata": {},
   "outputs": [],
   "source": [
    "sub = pd.Series(result, index=ID, name='Survived')\n",
    "sub.to_csv(\"model.csv\", header=True)"
   ]
  },
  {
   "cell_type": "code",
   "execution_count": null,
   "metadata": {},
   "outputs": [],
   "source": []
  }
 ],
 "metadata": {
  "kernelspec": {
   "display_name": "Python 3",
   "language": "python",
   "name": "python3"
  },
  "language_info": {
   "codemirror_mode": {
    "name": "ipython",
    "version": 3
   },
   "file_extension": ".py",
   "mimetype": "text/x-python",
   "name": "python",
   "nbconvert_exporter": "python",
   "pygments_lexer": "ipython3",
   "version": "3.8.5"
  }
 },
 "nbformat": 4,
 "nbformat_minor": 2
}
