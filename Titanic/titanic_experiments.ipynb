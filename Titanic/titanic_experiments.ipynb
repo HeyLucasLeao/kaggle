{
 "cells": [
  {
   "cell_type": "markdown",
   "metadata": {
    "gradient": {
     "editing": false
    }
   },
   "source": [
    "### Importação de Libs"
   ]
  },
  {
   "cell_type": "code",
   "execution_count": 1,
   "metadata": {
    "gradient": {}
   },
   "outputs": [],
   "source": [
    "import pandas as pd\n",
    "import numpy as np\n",
    "from category_encoders import OneHotEncoder\n",
    "from sklearn.preprocessing import MinMaxScaler\n",
    "from sklearn.model_selection import train_test_split\n",
    "from sklearn.impute import KNNImputer"
   ]
  },
  {
   "cell_type": "code",
   "execution_count": 2,
   "metadata": {
    "gradient": {}
   },
   "outputs": [],
   "source": [
    "from lightgbm import LGBMClassifier\n",
    "from sklearn.linear_model import LogisticRegression\n",
    "from sklearn.ensemble import RandomForestClassifier\n",
    "from skopt import gp_minimize\n",
    "from sklearn.model_selection import cross_val_score\n",
    "from mlxtend.classifier import EnsembleVoteClassifier"
   ]
  },
  {
   "cell_type": "code",
   "execution_count": 3,
   "metadata": {
    "gradient": {}
   },
   "outputs": [],
   "source": [
    "from mlxtend.evaluate import confusion_matrix\n",
    "import matplotlib.pyplot as plt\n",
    "from mlxtend.plotting import plot_confusion_matrix\n",
    "import plotly.express as px"
   ]
  },
  {
   "cell_type": "code",
   "execution_count": 4,
   "metadata": {
    "gradient": {}
   },
   "outputs": [],
   "source": [
    "from fastai.tabular.all import *\n",
    "import warnings\n",
    "\n",
    "warnings.filterwarnings('ignore')"
   ]
  },
  {
   "cell_type": "code",
   "execution_count": 5,
   "metadata": {
    "gradient": {}
   },
   "outputs": [],
   "source": [
    "train = pd.read_csv(\"train.csv\")\n",
    "test = pd.read_csv(\"test.csv\")\n",
    "ID = test['PassengerId']\n",
    "IMPUTER = KNNImputer(n_neighbors=10, weights='distance')\n",
    "SCALER = MinMaxScaler()"
   ]
  },
  {
   "cell_type": "code",
   "execution_count": 6,
   "metadata": {
    "gradient": {}
   },
   "outputs": [],
   "source": [
    "SEED = 42"
   ]
  },
  {
   "cell_type": "markdown",
   "metadata": {
    "gradient": {
     "editing": false
    }
   },
   "source": [
    "### Feature Engineering"
   ]
  },
  {
   "cell_type": "markdown",
   "metadata": {
    "gradient": {
     "editing": false
    }
   },
   "source": [
    "#### Making Functions and Most Important variables/constants"
   ]
  },
  {
   "cell_type": "code",
   "execution_count": 7,
   "metadata": {
    "gradient": {}
   },
   "outputs": [],
   "source": [
    "def search_title(x):\n",
    "    y = list(x)\n",
    "    if y.index(','):\n",
    "        y = y[y.index(',') + 2:y.index(\" \", y.index(',') + 2)]\n",
    "        return \"\".join(y)"
   ]
  },
  {
   "cell_type": "code",
   "execution_count": 8,
   "metadata": {
    "gradient": {}
   },
   "outputs": [],
   "source": [
    "def to_miss(x):\n",
    "    arr = ['Mlle.', 'Mme.', 'Lady.', 'Ms.', 'Dona.']\n",
    "    if x in arr:\n",
    "        x = 'Miss.'\n",
    "    return x"
   ]
  },
  {
   "cell_type": "code",
   "execution_count": 9,
   "metadata": {
    "gradient": {}
   },
   "outputs": [],
   "source": [
    "def to_mr(x):\n",
    "    arr = ['Dr.', 'Rev.', 'Col.', 'Major.', 'Capt.', 'the.', 'Jonkheer.', 'Sir.', 'Don.', 'the' , 'Master.']\n",
    "    if x in arr:\n",
    "        x = 'Mr.'\n",
    "    return x"
   ]
  },
  {
   "cell_type": "code",
   "execution_count": 10,
   "metadata": {
    "gradient": {}
   },
   "outputs": [],
   "source": [
    "def is_married(x):\n",
    "    if x == 'Mrs.':\n",
    "        return 1\n",
    "    return 0"
   ]
  },
  {
   "cell_type": "code",
   "execution_count": 11,
   "metadata": {
    "gradient": {}
   },
   "outputs": [],
   "source": [
    "def is_alone(x):\n",
    "    if x == 0:\n",
    "        return 1\n",
    "    return 0"
   ]
  },
  {
   "cell_type": "code",
   "execution_count": 12,
   "metadata": {
    "gradient": {}
   },
   "outputs": [],
   "source": [
    "def below_age(x):\n",
    "    if x < 18:\n",
    "        return 1\n",
    "    return 0"
   ]
  },
  {
   "cell_type": "markdown",
   "metadata": {},
   "source": [
    "##### Imputing Age"
   ]
  },
  {
   "cell_type": "code",
   "execution_count": 13,
   "metadata": {
    "gradient": {}
   },
   "outputs": [],
   "source": [
    "train[['Age']] = IMPUTER.fit_transform(train[['Age']])"
   ]
  },
  {
   "cell_type": "code",
   "execution_count": 14,
   "metadata": {
    "gradient": {}
   },
   "outputs": [],
   "source": [
    "train['Title'] = train['Name'].apply(search_title) #make a column of titles\n",
    "train['Title'] = train['Title'].apply(to_miss) #separate titles that can go to Miss\n",
    "train['Title'] = train['Title'].apply(to_mr) #separate titles that can go to Mr."
   ]
  },
  {
   "cell_type": "code",
   "execution_count": 15,
   "metadata": {
    "gradient": {}
   },
   "outputs": [],
   "source": [
    "train['is_married'] = train['Title'].apply(is_married) #check if the person are married or not"
   ]
  },
  {
   "cell_type": "code",
   "execution_count": 16,
   "metadata": {
    "gradient": {}
   },
   "outputs": [],
   "source": [
    "train['below_age'] = train['Age'].apply(below_age) #check if the passanger is a child or not"
   ]
  },
  {
   "cell_type": "code",
   "execution_count": 17,
   "metadata": {
    "gradient": {}
   },
   "outputs": [],
   "source": [
    "train['family_size'] = train['SibSp'] + train['Parch'] #make a column about the family size on Titanic"
   ]
  },
  {
   "cell_type": "code",
   "execution_count": 18,
   "metadata": {
    "gradient": {}
   },
   "outputs": [],
   "source": [
    "train['is_alone'] = train['family_size'].apply(is_alone) #check if the passanger are alone"
   ]
  },
  {
   "cell_type": "markdown",
   "metadata": {},
   "source": [
    "##### Dropping NaN and Unwanted Columns"
   ]
  },
  {
   "cell_type": "code",
   "execution_count": 19,
   "metadata": {
    "gradient": {}
   },
   "outputs": [],
   "source": [
    "train.drop(columns=['PassengerId', 'Cabin', 'Name'], inplace=True)"
   ]
  },
  {
   "cell_type": "code",
   "execution_count": 20,
   "metadata": {
    "gradient": {}
   },
   "outputs": [],
   "source": [
    "embarked_rows_to_drop = train[train[['Embarked']].isnull().any(axis=1)].index.values"
   ]
  },
  {
   "cell_type": "code",
   "execution_count": 21,
   "metadata": {
    "gradient": {}
   },
   "outputs": [],
   "source": [
    "train.drop(index=embarked_rows_to_drop, inplace=True)"
   ]
  },
  {
   "cell_type": "markdown",
   "metadata": {},
   "source": [
    "### Feature Engineering"
   ]
  },
  {
   "cell_type": "code",
   "execution_count": 22,
   "metadata": {
    "gradient": {}
   },
   "outputs": [],
   "source": [
    "cont = ['Age', 'Fare', 'family_size']\n",
    "cat  = ['Sex', 'Ticket', 'SibSp', 'Parch', 'Pclass', 'Embarked', 'Title', 'is_alone', 'is_married', 'below_age']\n",
    "dep_var = 'Survived'"
   ]
  },
  {
   "cell_type": "code",
   "execution_count": 23,
   "metadata": {
    "gradient": {}
   },
   "outputs": [],
   "source": [
    "procs = [Categorify, FillMissing, Normalize]"
   ]
  },
  {
   "cell_type": "code",
   "execution_count": 24,
   "metadata": {
    "gradient": {}
   },
   "outputs": [],
   "source": [
    "splits = RandomSplitter(valid_pct=0.2, seed=42)(range_of(train))"
   ]
  },
  {
   "cell_type": "code",
   "execution_count": 25,
   "metadata": {
    "gradient": {}
   },
   "outputs": [],
   "source": [
    "to = TabularPandas(train, procs=procs, cat_names=cat, cont_names=cont, \n",
    "                   y_names=dep_var, y_block=CategoryBlock(), splits=splits)"
   ]
  },
  {
   "cell_type": "code",
   "execution_count": 26,
   "metadata": {
    "gradient": {}
   },
   "outputs": [],
   "source": [
    "xs = to.train.xs\n",
    "y = to.train.y"
   ]
  },
  {
   "cell_type": "code",
   "execution_count": 27,
   "metadata": {
    "gradient": {}
   },
   "outputs": [],
   "source": [
    "valid_xs = to.valid.xs\n",
    "valid_y = to.valid.y"
   ]
  },
  {
   "cell_type": "code",
   "execution_count": 28,
   "metadata": {},
   "outputs": [],
   "source": [
    "dls = TabularDataLoaders.from_df(train, procs=procs, cat_names=cat, cont_names=cont,\n",
    "                                y_names=dep_var, y_block=CategoryBlock(), bs=64, valid_idx=splits[1], set_seed=SEED)"
   ]
  },
  {
   "cell_type": "code",
   "execution_count": 29,
   "metadata": {},
   "outputs": [
    {
     "data": {
      "text/html": [],
      "text/plain": [
       "<IPython.core.display.HTML object>"
      ]
     },
     "metadata": {},
     "output_type": "display_data"
    },
    {
     "data": {
      "text/plain": [
       "SuggestedLRs(lr_min=0.017378008365631102, lr_steep=0.005248074419796467)"
      ]
     },
     "execution_count": 29,
     "metadata": {},
     "output_type": "execute_result"
    },
    {
     "data": {
      "image/png": "[encoded data removed]",
      "text/plain": [
       "<Figure size 432x288 with 1 Axes>"
      ]
     },
     "metadata": {
      "needs_background": "light"
     },
     "output_type": "display_data"
    }
   ],
   "source": [
    "learn = tabular_learner(dls, layers=[100], metrics=accuracy)\n",
    "learn.lr_find()"
   ]
  },
  {
   "cell_type": "code",
   "execution_count": 30,
   "metadata": {},
   "outputs": [
    {
     "data": {
      "text/html": [
       "<table border=\"1\" class=\"dataframe\">\n",
       "  <thead>\n",
       "    <tr style=\"text-align: left;\">\n",
       "      <th>epoch</th>\n",
       "      <th>train_loss</th>\n",
       "      <th>valid_loss</th>\n",
       "      <th>accuracy</th>\n",
       "      <th>time</th>\n",
       "    </tr>\n",
       "  </thead>\n",
       "  <tbody>\n",
       "    <tr>\n",
       "      <td>0</td>\n",
       "      <td>0.579430</td>\n",
       "      <td>0.619838</td>\n",
       "      <td>0.768362</td>\n",
       "      <td>00:00</td>\n",
       "    </tr>\n",
       "    <tr>\n",
       "      <td>1</td>\n",
       "      <td>0.370188</td>\n",
       "      <td>0.437704</td>\n",
       "      <td>0.807910</td>\n",
       "      <td>00:00</td>\n",
       "    </tr>\n",
       "    <tr>\n",
       "      <td>2</td>\n",
       "      <td>0.255036</td>\n",
       "      <td>0.379330</td>\n",
       "      <td>0.870057</td>\n",
       "      <td>00:00</td>\n",
       "    </tr>\n",
       "    <tr>\n",
       "      <td>3</td>\n",
       "      <td>0.186109</td>\n",
       "      <td>0.619330</td>\n",
       "      <td>0.813559</td>\n",
       "      <td>00:00</td>\n",
       "    </tr>\n",
       "    <tr>\n",
       "      <td>4</td>\n",
       "      <td>0.140575</td>\n",
       "      <td>0.673212</td>\n",
       "      <td>0.830508</td>\n",
       "      <td>00:00</td>\n",
       "    </tr>\n",
       "  </tbody>\n",
       "</table>"
      ],
      "text/plain": [
       "<IPython.core.display.HTML object>"
      ]
     },
     "metadata": {},
     "output_type": "display_data"
    }
   ],
   "source": [
    "learn.fit_one_cycle(5, lr_max=4e-2)"
   ]
  },
  {
   "cell_type": "markdown",
   "metadata": {},
   "source": [
    "### Stacking Classifier"
   ]
  },
  {
   "cell_type": "code",
   "execution_count": 31,
   "metadata": {
    "gradient": {}
   },
   "outputs": [],
   "source": [
    "clfs = [RandomForestClassifier(), \n",
    "       LGBMClassifier(subsample_freq=1)]\n",
    "\n",
    "labels = [str(x) for x in clfs]\n",
    "\n",
    "labels = [x[:x.index(\"(\")] for x in labels]"
   ]
  },
  {
   "cell_type": "code",
   "execution_count": 32,
   "metadata": {
    "gradient": {}
   },
   "outputs": [
    {
     "name": "stdout",
     "output_type": "stream",
     "text": [
      "Accuracy: 0.84 (+/- 0.02) [RandomForestClassifier]\n",
      "Accuracy: 0.82 (+/- 0.02) [LGBMClassifier]\n"
     ]
    }
   ],
   "source": [
    "for clf, label in zip(clfs, labels):\n",
    "\n",
    "    scores = cross_val_score(clf, xs, y, cv=5, scoring='accuracy')\n",
    "    print(\"Accuracy: %0.2f (+/- %0.2f) [%s]\" \n",
    "          % (scores.mean(), scores.std(), label))"
   ]
  },
  {
   "cell_type": "markdown",
   "metadata": {},
   "source": [
    "#### Tuning"
   ]
  },
  {
   "cell_type": "code",
   "execution_count": 70,
   "metadata": {
    "gradient": {},
    "scrolled": true
   },
   "outputs": [],
   "source": [
    "def search_hyperparams(params):\n",
    "\n",
    "    learning_rate = params[0]\n",
    "    num_leaves = params[1]\n",
    "    min_child_samples = params[2]\n",
    "    subsample = params[3]\n",
    "    colsample_bytree = params[4]\n",
    "    n_estimators_lgbm = params[5]\n",
    "    \n",
    "    model = LGBMClassifier(random_state=SEED, \n",
    "                         subsample_freq=1, \n",
    "                         learning_rate=learning_rate,\n",
    "                        num_leaves=num_leaves,\n",
    "                        min_child_samples= min_child_samples,\n",
    "                        subsample= subsample,\n",
    "                        colsample_bytree = colsample_bytree,\n",
    "                        n_estimators = n_estimators_lgbm)\n",
    "    \n",
    "    scores = cross_val_score(model, to.xs, to.y, cv=5, scoring='accuracy')\n",
    "    \n",
    "    return -scores.mean()\n",
    "\n",
    "space = [\n",
    "(1e-3, 1e-1, 'log-uniform'), #learning rate LGBM\n",
    "(2, 128), #num_leaves LGBM\n",
    "(1, 100), #min_child_samples LGBM\n",
    "(0.05, 1.0), #subsample LGBM\n",
    "(0.1, 1.0), #colsample_bytree LGBM\n",
    "(100, 1000)] #n_estimators LGBM\n",
    "\n",
    "\n",
    "\n",
    "\n",
    "#result = gp_minimize(search_hyperparams, space, verbose=1,n_calls = 30,random_state=SEED)"
   ]
  },
  {
   "cell_type": "code",
   "execution_count": 64,
   "metadata": {
    "gradient": {}
   },
   "outputs": [
    {
     "data": {
      "text/plain": [
       "[0.022941144328643994, 59, 2, 0.9450916679006104, 0.6069593960609855, 447]"
      ]
     },
     "execution_count": 64,
     "metadata": {},
     "output_type": "execute_result"
    }
   ],
   "source": [
    "result.x"
   ]
  },
  {
   "cell_type": "markdown",
   "metadata": {},
   "source": [
    "#### Validating"
   ]
  },
  {
   "cell_type": "code",
   "execution_count": 65,
   "metadata": {},
   "outputs": [],
   "source": [
    "lgbm = LGBMClassifier(random_state=SEED, \n",
    "                         subsample_freq=1, \n",
    "                         learning_rate=0.022941144328643994,\n",
    "                        num_leaves=59,\n",
    "                        min_child_samples= 2,\n",
    "                        subsample= 0.9450916679006104,\n",
    "                        colsample_bytree = 0.6069593960609855,\n",
    "                        n_estimators = 447)"
   ]
  },
  {
   "cell_type": "code",
   "execution_count": 66,
   "metadata": {
    "gradient": {}
   },
   "outputs": [
    {
     "data": {
      "text/plain": [
       "LGBMClassifier(colsample_bytree=0.6069593960609855,\n",
       "               learning_rate=0.022941144328643994, min_child_samples=2,\n",
       "               n_estimators=447, num_leaves=59, random_state=42,\n",
       "               subsample=0.9450916679006104, subsample_freq=1)"
      ]
     },
     "execution_count": 66,
     "metadata": {},
     "output_type": "execute_result"
    }
   ],
   "source": [
    "lgbm.fit(xs, y)"
   ]
  },
  {
   "cell_type": "code",
   "execution_count": 67,
   "metadata": {
    "gradient": {}
   },
   "outputs": [
    {
     "data": {
      "text/plain": [
       "0.8192090395480226"
      ]
     },
     "execution_count": 67,
     "metadata": {},
     "output_type": "execute_result"
    }
   ],
   "source": [
    "lgbm.score(valid_xs, valid_y)"
   ]
  },
  {
   "cell_type": "markdown",
   "metadata": {},
   "source": [
    "### Confusion Matrix"
   ]
  },
  {
   "cell_type": "code",
   "execution_count": 68,
   "metadata": {
    "gradient": {}
   },
   "outputs": [],
   "source": [
    "y_pred = lgbm.predict(valid_xs)"
   ]
  },
  {
   "cell_type": "code",
   "execution_count": 69,
   "metadata": {
    "gradient": {}
   },
   "outputs": [
    {
     "data": {
      "image/png": "[encoded data removed]",
      "text/plain": [
       "<Figure size 432x288 with 1 Axes>"
      ]
     },
     "metadata": {
      "needs_background": "light"
     },
     "output_type": "display_data"
    }
   ],
   "source": [
    "cm = confusion_matrix(valid_y, y_pred)\n",
    "\n",
    "fig, ax = plot_confusion_matrix(conf_mat=cm)\n",
    "\n",
    "plt.show()\n"
   ]
  },
  {
   "cell_type": "markdown",
   "metadata": {},
   "source": [
    "### Definitive Model of Random Forest"
   ]
  },
  {
   "cell_type": "code",
   "execution_count": 41,
   "metadata": {
    "gradient": {}
   },
   "outputs": [],
   "source": [
    "features = to.xs\n",
    "label = to.y"
   ]
  },
  {
   "cell_type": "code",
   "execution_count": 43,
   "metadata": {
    "gradient": {}
   },
   "outputs": [
    {
     "data": {
      "text/plain": [
       "LGBMClassifier(colsample_bytree=0.6069593960609855,\n",
       "               learning_rate=0.022941144328643994, min_child_samples=2,\n",
       "               n_estimators=447, num_leaves=59, random_state=42,\n",
       "               subsample=0.9450916679006104, subsample_freq=1)"
      ]
     },
     "execution_count": 43,
     "metadata": {},
     "output_type": "execute_result"
    }
   ],
   "source": [
    "lgbm.fit(features, label)"
   ]
  },
  {
   "cell_type": "markdown",
   "metadata": {},
   "source": [
    "##### Imputing Age and Fare"
   ]
  },
  {
   "cell_type": "code",
   "execution_count": 44,
   "metadata": {
    "gradient": {}
   },
   "outputs": [],
   "source": [
    "test[['Age']] = IMPUTER.fit_transform(test[['Age']])\n",
    "test[['Fare']] = IMPUTER.fit_transform(test[['Fare']])"
   ]
  },
  {
   "cell_type": "markdown",
   "metadata": {},
   "source": [
    "##### Feature Engineering on Df Set"
   ]
  },
  {
   "cell_type": "code",
   "execution_count": 45,
   "metadata": {
    "gradient": {}
   },
   "outputs": [],
   "source": [
    "test['Title'] = test['Name'].apply(search_title) #make a column of titles\n",
    "test['Title'] = test['Title'].apply(to_miss) #separate titles that can go to Miss\n",
    "test['Title'] = test['Title'].apply(to_mr) #separate titles that can go to Mr.\n",
    "test['is_married'] = test['Title'].apply(is_married) #check if the person are married or not\n",
    "test['below_age'] = test['Age'].apply(below_age) #check if the passanger is a child or not\n",
    "test['family_size'] = test['SibSp'] + test['Parch'] #make a column about the family size on Titanic\n",
    "test['is_alone'] = test['family_size'].apply(is_alone) #check if the passanger are alone"
   ]
  },
  {
   "cell_type": "code",
   "execution_count": 46,
   "metadata": {
    "gradient": {}
   },
   "outputs": [],
   "source": [
    "test.drop(columns=['PassengerId', 'Cabin', 'Name'], inplace=True)"
   ]
  },
  {
   "cell_type": "code",
   "execution_count": 47,
   "metadata": {},
   "outputs": [
    {
     "data": {
      "text/html": [
       "<div>\n",
       "<style scoped>\n",
       "    .dataframe tbody tr th:only-of-type {\n",
       "        vertical-align: middle;\n",
       "    }\n",
       "\n",
       "    .dataframe tbody tr th {\n",
       "        vertical-align: top;\n",
       "    }\n",
       "\n",
       "    .dataframe thead th {\n",
       "        text-align: right;\n",
       "    }\n",
       "</style>\n",
       "<table border=\"1\" class=\"dataframe\">\n",
       "  <thead>\n",
       "    <tr style=\"text-align: right;\">\n",
       "      <th></th>\n",
       "      <th>Pclass</th>\n",
       "      <th>Sex</th>\n",
       "      <th>Age</th>\n",
       "      <th>SibSp</th>\n",
       "      <th>Parch</th>\n",
       "      <th>Ticket</th>\n",
       "      <th>Fare</th>\n",
       "      <th>Embarked</th>\n",
       "      <th>Title</th>\n",
       "      <th>is_married</th>\n",
       "      <th>below_age</th>\n",
       "      <th>family_size</th>\n",
       "      <th>is_alone</th>\n",
       "    </tr>\n",
       "  </thead>\n",
       "  <tbody>\n",
       "    <tr>\n",
       "      <th>0</th>\n",
       "      <td>3</td>\n",
       "      <td>male</td>\n",
       "      <td>34.50000</td>\n",
       "      <td>0</td>\n",
       "      <td>0</td>\n",
       "      <td>330911</td>\n",
       "      <td>7.8292</td>\n",
       "      <td>Q</td>\n",
       "      <td>Mr.</td>\n",
       "      <td>0</td>\n",
       "      <td>0</td>\n",
       "      <td>0</td>\n",
       "      <td>1</td>\n",
       "    </tr>\n",
       "    <tr>\n",
       "      <th>1</th>\n",
       "      <td>3</td>\n",
       "      <td>female</td>\n",
       "      <td>47.00000</td>\n",
       "      <td>1</td>\n",
       "      <td>0</td>\n",
       "      <td>363272</td>\n",
       "      <td>7.0000</td>\n",
       "      <td>S</td>\n",
       "      <td>Mrs.</td>\n",
       "      <td>1</td>\n",
       "      <td>0</td>\n",
       "      <td>1</td>\n",
       "      <td>0</td>\n",
       "    </tr>\n",
       "    <tr>\n",
       "      <th>2</th>\n",
       "      <td>2</td>\n",
       "      <td>male</td>\n",
       "      <td>62.00000</td>\n",
       "      <td>0</td>\n",
       "      <td>0</td>\n",
       "      <td>240276</td>\n",
       "      <td>9.6875</td>\n",
       "      <td>Q</td>\n",
       "      <td>Mr.</td>\n",
       "      <td>0</td>\n",
       "      <td>0</td>\n",
       "      <td>0</td>\n",
       "      <td>1</td>\n",
       "    </tr>\n",
       "    <tr>\n",
       "      <th>3</th>\n",
       "      <td>3</td>\n",
       "      <td>male</td>\n",
       "      <td>27.00000</td>\n",
       "      <td>0</td>\n",
       "      <td>0</td>\n",
       "      <td>315154</td>\n",
       "      <td>8.6625</td>\n",
       "      <td>S</td>\n",
       "      <td>Mr.</td>\n",
       "      <td>0</td>\n",
       "      <td>0</td>\n",
       "      <td>0</td>\n",
       "      <td>1</td>\n",
       "    </tr>\n",
       "    <tr>\n",
       "      <th>4</th>\n",
       "      <td>3</td>\n",
       "      <td>female</td>\n",
       "      <td>22.00000</td>\n",
       "      <td>1</td>\n",
       "      <td>1</td>\n",
       "      <td>3101298</td>\n",
       "      <td>12.2875</td>\n",
       "      <td>S</td>\n",
       "      <td>Mrs.</td>\n",
       "      <td>1</td>\n",
       "      <td>0</td>\n",
       "      <td>2</td>\n",
       "      <td>0</td>\n",
       "    </tr>\n",
       "    <tr>\n",
       "      <th>...</th>\n",
       "      <td>...</td>\n",
       "      <td>...</td>\n",
       "      <td>...</td>\n",
       "      <td>...</td>\n",
       "      <td>...</td>\n",
       "      <td>...</td>\n",
       "      <td>...</td>\n",
       "      <td>...</td>\n",
       "      <td>...</td>\n",
       "      <td>...</td>\n",
       "      <td>...</td>\n",
       "      <td>...</td>\n",
       "      <td>...</td>\n",
       "    </tr>\n",
       "    <tr>\n",
       "      <th>413</th>\n",
       "      <td>3</td>\n",
       "      <td>male</td>\n",
       "      <td>30.27259</td>\n",
       "      <td>0</td>\n",
       "      <td>0</td>\n",
       "      <td>A.5. 3236</td>\n",
       "      <td>8.0500</td>\n",
       "      <td>S</td>\n",
       "      <td>Mr.</td>\n",
       "      <td>0</td>\n",
       "      <td>0</td>\n",
       "      <td>0</td>\n",
       "      <td>1</td>\n",
       "    </tr>\n",
       "    <tr>\n",
       "      <th>414</th>\n",
       "      <td>1</td>\n",
       "      <td>female</td>\n",
       "      <td>39.00000</td>\n",
       "      <td>0</td>\n",
       "      <td>0</td>\n",
       "      <td>PC 17758</td>\n",
       "      <td>108.9000</td>\n",
       "      <td>C</td>\n",
       "      <td>Miss.</td>\n",
       "      <td>0</td>\n",
       "      <td>0</td>\n",
       "      <td>0</td>\n",
       "      <td>1</td>\n",
       "    </tr>\n",
       "    <tr>\n",
       "      <th>415</th>\n",
       "      <td>3</td>\n",
       "      <td>male</td>\n",
       "      <td>38.50000</td>\n",
       "      <td>0</td>\n",
       "      <td>0</td>\n",
       "      <td>SOTON/O.Q. 3101262</td>\n",
       "      <td>7.2500</td>\n",
       "      <td>S</td>\n",
       "      <td>Mr.</td>\n",
       "      <td>0</td>\n",
       "      <td>0</td>\n",
       "      <td>0</td>\n",
       "      <td>1</td>\n",
       "    </tr>\n",
       "    <tr>\n",
       "      <th>416</th>\n",
       "      <td>3</td>\n",
       "      <td>male</td>\n",
       "      <td>30.27259</td>\n",
       "      <td>0</td>\n",
       "      <td>0</td>\n",
       "      <td>359309</td>\n",
       "      <td>8.0500</td>\n",
       "      <td>S</td>\n",
       "      <td>Mr.</td>\n",
       "      <td>0</td>\n",
       "      <td>0</td>\n",
       "      <td>0</td>\n",
       "      <td>1</td>\n",
       "    </tr>\n",
       "    <tr>\n",
       "      <th>417</th>\n",
       "      <td>3</td>\n",
       "      <td>male</td>\n",
       "      <td>30.27259</td>\n",
       "      <td>1</td>\n",
       "      <td>1</td>\n",
       "      <td>2668</td>\n",
       "      <td>22.3583</td>\n",
       "      <td>C</td>\n",
       "      <td>Mr.</td>\n",
       "      <td>0</td>\n",
       "      <td>0</td>\n",
       "      <td>2</td>\n",
       "      <td>0</td>\n",
       "    </tr>\n",
       "  </tbody>\n",
       "</table>\n",
       "<p>418 rows × 13 columns</p>\n",
       "</div>"
      ],
      "text/plain": [
       "     Pclass     Sex       Age  SibSp  Parch              Ticket      Fare  \\\n",
       "0         3    male  34.50000      0      0              330911    7.8292   \n",
       "1         3  female  47.00000      1      0              363272    7.0000   \n",
       "2         2    male  62.00000      0      0              240276    9.6875   \n",
       "3         3    male  27.00000      0      0              315154    8.6625   \n",
       "4         3  female  22.00000      1      1             3101298   12.2875   \n",
       "..      ...     ...       ...    ...    ...                 ...       ...   \n",
       "413       3    male  30.27259      0      0           A.5. 3236    8.0500   \n",
       "414       1  female  39.00000      0      0            PC 17758  108.9000   \n",
       "415       3    male  38.50000      0      0  SOTON/O.Q. 3101262    7.2500   \n",
       "416       3    male  30.27259      0      0              359309    8.0500   \n",
       "417       3    male  30.27259      1      1                2668   22.3583   \n",
       "\n",
       "    Embarked  Title  is_married  below_age  family_size  is_alone  \n",
       "0          Q    Mr.           0          0            0         1  \n",
       "1          S   Mrs.           1          0            1         0  \n",
       "2          Q    Mr.           0          0            0         1  \n",
       "3          S    Mr.           0          0            0         1  \n",
       "4          S   Mrs.           1          0            2         0  \n",
       "..       ...    ...         ...        ...          ...       ...  \n",
       "413        S    Mr.           0          0            0         1  \n",
       "414        C  Miss.           0          0            0         1  \n",
       "415        S    Mr.           0          0            0         1  \n",
       "416        S    Mr.           0          0            0         1  \n",
       "417        C    Mr.           0          0            2         0  \n",
       "\n",
       "[418 rows x 13 columns]"
      ]
     },
     "execution_count": 47,
     "metadata": {},
     "output_type": "execute_result"
    }
   ],
   "source": [
    "test"
   ]
  },
  {
   "cell_type": "code",
   "execution_count": 48,
   "metadata": {},
   "outputs": [],
   "source": [
    "to_test = TabularPandas(test, procs=procs, cat_names=cat, cont_names=cont)"
   ]
  },
  {
   "cell_type": "code",
   "execution_count": 49,
   "metadata": {},
   "outputs": [
    {
     "data": {
      "text/html": [
       "<div>\n",
       "<style scoped>\n",
       "    .dataframe tbody tr th:only-of-type {\n",
       "        vertical-align: middle;\n",
       "    }\n",
       "\n",
       "    .dataframe tbody tr th {\n",
       "        vertical-align: top;\n",
       "    }\n",
       "\n",
       "    .dataframe thead th {\n",
       "        text-align: right;\n",
       "    }\n",
       "</style>\n",
       "<table border=\"1\" class=\"dataframe\">\n",
       "  <thead>\n",
       "    <tr style=\"text-align: right;\">\n",
       "      <th></th>\n",
       "      <th>Sex</th>\n",
       "      <th>Ticket</th>\n",
       "      <th>SibSp</th>\n",
       "      <th>Parch</th>\n",
       "      <th>Pclass</th>\n",
       "      <th>Embarked</th>\n",
       "      <th>Title</th>\n",
       "      <th>is_alone</th>\n",
       "      <th>is_married</th>\n",
       "      <th>below_age</th>\n",
       "      <th>Age</th>\n",
       "      <th>Fare</th>\n",
       "      <th>family_size</th>\n",
       "    </tr>\n",
       "  </thead>\n",
       "  <tbody>\n",
       "    <tr>\n",
       "      <th>0</th>\n",
       "      <td>2</td>\n",
       "      <td>153</td>\n",
       "      <td>1</td>\n",
       "      <td>1</td>\n",
       "      <td>3</td>\n",
       "      <td>2</td>\n",
       "      <td>2</td>\n",
       "      <td>2</td>\n",
       "      <td>1</td>\n",
       "      <td>1</td>\n",
       "      <td>0.334994</td>\n",
       "      <td>-0.498407</td>\n",
       "      <td>-0.553443</td>\n",
       "    </tr>\n",
       "    <tr>\n",
       "      <th>1</th>\n",
       "      <td>1</td>\n",
       "      <td>222</td>\n",
       "      <td>2</td>\n",
       "      <td>1</td>\n",
       "      <td>3</td>\n",
       "      <td>3</td>\n",
       "      <td>3</td>\n",
       "      <td>1</td>\n",
       "      <td>2</td>\n",
       "      <td>1</td>\n",
       "      <td>1.325531</td>\n",
       "      <td>-0.513274</td>\n",
       "      <td>0.105643</td>\n",
       "    </tr>\n",
       "    <tr>\n",
       "      <th>2</th>\n",
       "      <td>2</td>\n",
       "      <td>74</td>\n",
       "      <td>1</td>\n",
       "      <td>1</td>\n",
       "      <td>2</td>\n",
       "      <td>2</td>\n",
       "      <td>2</td>\n",
       "      <td>2</td>\n",
       "      <td>1</td>\n",
       "      <td>1</td>\n",
       "      <td>2.514176</td>\n",
       "      <td>-0.465088</td>\n",
       "      <td>-0.553443</td>\n",
       "    </tr>\n",
       "    <tr>\n",
       "      <th>3</th>\n",
       "      <td>2</td>\n",
       "      <td>148</td>\n",
       "      <td>1</td>\n",
       "      <td>1</td>\n",
       "      <td>3</td>\n",
       "      <td>3</td>\n",
       "      <td>2</td>\n",
       "      <td>2</td>\n",
       "      <td>1</td>\n",
       "      <td>1</td>\n",
       "      <td>-0.259329</td>\n",
       "      <td>-0.483466</td>\n",
       "      <td>-0.553443</td>\n",
       "    </tr>\n",
       "    <tr>\n",
       "      <th>4</th>\n",
       "      <td>1</td>\n",
       "      <td>139</td>\n",
       "      <td>2</td>\n",
       "      <td>2</td>\n",
       "      <td>3</td>\n",
       "      <td>3</td>\n",
       "      <td>3</td>\n",
       "      <td>1</td>\n",
       "      <td>2</td>\n",
       "      <td>1</td>\n",
       "      <td>-0.655544</td>\n",
       "      <td>-0.418471</td>\n",
       "      <td>0.764728</td>\n",
       "    </tr>\n",
       "    <tr>\n",
       "      <th>...</th>\n",
       "      <td>...</td>\n",
       "      <td>...</td>\n",
       "      <td>...</td>\n",
       "      <td>...</td>\n",
       "      <td>...</td>\n",
       "      <td>...</td>\n",
       "      <td>...</td>\n",
       "      <td>...</td>\n",
       "      <td>...</td>\n",
       "      <td>...</td>\n",
       "      <td>...</td>\n",
       "      <td>...</td>\n",
       "      <td>...</td>\n",
       "    </tr>\n",
       "    <tr>\n",
       "      <th>413</th>\n",
       "      <td>2</td>\n",
       "      <td>268</td>\n",
       "      <td>1</td>\n",
       "      <td>1</td>\n",
       "      <td>3</td>\n",
       "      <td>3</td>\n",
       "      <td>2</td>\n",
       "      <td>2</td>\n",
       "      <td>1</td>\n",
       "      <td>1</td>\n",
       "      <td>0.000001</td>\n",
       "      <td>-0.494448</td>\n",
       "      <td>-0.553443</td>\n",
       "    </tr>\n",
       "    <tr>\n",
       "      <th>414</th>\n",
       "      <td>1</td>\n",
       "      <td>325</td>\n",
       "      <td>1</td>\n",
       "      <td>1</td>\n",
       "      <td>1</td>\n",
       "      <td>1</td>\n",
       "      <td>1</td>\n",
       "      <td>2</td>\n",
       "      <td>1</td>\n",
       "      <td>1</td>\n",
       "      <td>0.691587</td>\n",
       "      <td>1.313753</td>\n",
       "      <td>-0.553443</td>\n",
       "    </tr>\n",
       "    <tr>\n",
       "      <th>415</th>\n",
       "      <td>2</td>\n",
       "      <td>347</td>\n",
       "      <td>1</td>\n",
       "      <td>1</td>\n",
       "      <td>3</td>\n",
       "      <td>3</td>\n",
       "      <td>2</td>\n",
       "      <td>2</td>\n",
       "      <td>1</td>\n",
       "      <td>1</td>\n",
       "      <td>0.651966</td>\n",
       "      <td>-0.508792</td>\n",
       "      <td>-0.553443</td>\n",
       "    </tr>\n",
       "    <tr>\n",
       "      <th>416</th>\n",
       "      <td>2</td>\n",
       "      <td>221</td>\n",
       "      <td>1</td>\n",
       "      <td>1</td>\n",
       "      <td>3</td>\n",
       "      <td>3</td>\n",
       "      <td>2</td>\n",
       "      <td>2</td>\n",
       "      <td>1</td>\n",
       "      <td>1</td>\n",
       "      <td>0.000001</td>\n",
       "      <td>-0.494448</td>\n",
       "      <td>-0.553443</td>\n",
       "    </tr>\n",
       "    <tr>\n",
       "      <th>417</th>\n",
       "      <td>2</td>\n",
       "      <td>106</td>\n",
       "      <td>2</td>\n",
       "      <td>2</td>\n",
       "      <td>3</td>\n",
       "      <td>1</td>\n",
       "      <td>2</td>\n",
       "      <td>1</td>\n",
       "      <td>1</td>\n",
       "      <td>1</td>\n",
       "      <td>0.000001</td>\n",
       "      <td>-0.237906</td>\n",
       "      <td>0.764728</td>\n",
       "    </tr>\n",
       "  </tbody>\n",
       "</table>\n",
       "<p>418 rows × 13 columns</p>\n",
       "</div>"
      ],
      "text/plain": [
       "     Sex  Ticket  SibSp  Parch  Pclass  Embarked  Title  is_alone  is_married  \\\n",
       "0      2     153      1      1       3         2      2         2           1   \n",
       "1      1     222      2      1       3         3      3         1           2   \n",
       "2      2      74      1      1       2         2      2         2           1   \n",
       "3      2     148      1      1       3         3      2         2           1   \n",
       "4      1     139      2      2       3         3      3         1           2   \n",
       "..   ...     ...    ...    ...     ...       ...    ...       ...         ...   \n",
       "413    2     268      1      1       3         3      2         2           1   \n",
       "414    1     325      1      1       1         1      1         2           1   \n",
       "415    2     347      1      1       3         3      2         2           1   \n",
       "416    2     221      1      1       3         3      2         2           1   \n",
       "417    2     106      2      2       3         1      2         1           1   \n",
       "\n",
       "     below_age       Age      Fare  family_size  \n",
       "0            1  0.334994 -0.498407    -0.553443  \n",
       "1            1  1.325531 -0.513274     0.105643  \n",
       "2            1  2.514176 -0.465088    -0.553443  \n",
       "3            1 -0.259329 -0.483466    -0.553443  \n",
       "4            1 -0.655544 -0.418471     0.764728  \n",
       "..         ...       ...       ...          ...  \n",
       "413          1  0.000001 -0.494448    -0.553443  \n",
       "414          1  0.691587  1.313753    -0.553443  \n",
       "415          1  0.651966 -0.508792    -0.553443  \n",
       "416          1  0.000001 -0.494448    -0.553443  \n",
       "417          1  0.000001 -0.237906     0.764728  \n",
       "\n",
       "[418 rows x 13 columns]"
      ]
     },
     "execution_count": 49,
     "metadata": {},
     "output_type": "execute_result"
    }
   ],
   "source": [
    "to_test.xs"
   ]
  },
  {
   "cell_type": "code",
   "execution_count": 52,
   "metadata": {},
   "outputs": [],
   "source": [
    "lgbm_res = lgbm.predict(to_test.xs)"
   ]
  },
  {
   "cell_type": "code",
   "execution_count": 53,
   "metadata": {},
   "outputs": [],
   "source": [
    "dl = learn.dls.test_dl(to_test.xs)"
   ]
  },
  {
   "cell_type": "code",
   "execution_count": 54,
   "metadata": {},
   "outputs": [
    {
     "data": {
      "text/html": [],
      "text/plain": [
       "<IPython.core.display.HTML object>"
      ]
     },
     "metadata": {},
     "output_type": "display_data"
    }
   ],
   "source": [
    "preds = learn.get_preds(dl=dl)[0].numpy()"
   ]
  },
  {
   "cell_type": "code",
   "execution_count": 55,
   "metadata": {
    "collapsed": true,
    "jupyter": {
     "outputs_hidden": true
    }
   },
   "outputs": [
    {
     "data": {
      "text/plain": [
       "array([[4.0872365e-02, 9.5912766e-01],\n",
       "       [7.2623350e-02, 9.2737669e-01],\n",
       "       [2.3967559e-03, 9.9760324e-01],\n",
       "       [4.0447094e-02, 9.5955288e-01],\n",
       "       [1.2643602e-01, 8.7356400e-01],\n",
       "       [7.3010094e-02, 9.2698991e-01],\n",
       "       [4.0618524e-02, 9.5938146e-01],\n",
       "       [2.2461142e-03, 9.9775392e-01],\n",
       "       [1.3001080e-01, 8.6998922e-01],\n",
       "       [1.5275121e-01, 8.4724879e-01],\n",
       "       [4.0633187e-02, 9.5936674e-01],\n",
       "       [4.8244742e-04, 9.9951756e-01],\n",
       "       [1.2104276e-03, 9.9878961e-01],\n",
       "       [1.0722873e-03, 9.9892765e-01],\n",
       "       [1.2710370e-03, 9.9872893e-01],\n",
       "       [5.7953158e-03, 9.9420470e-01],\n",
       "       [2.2854437e-03, 9.9771452e-01],\n",
       "       [4.0115364e-02, 9.5988458e-01],\n",
       "       [2.2229826e-02, 9.7777015e-01],\n",
       "       [1.3594571e-01, 8.6405426e-01],\n",
       "       [2.0809232e-04, 9.9979192e-01],\n",
       "       [1.4283256e-01, 8.5716742e-01],\n",
       "       [2.8841151e-03, 9.9711585e-01],\n",
       "       [8.6098717e-04, 9.9913895e-01],\n",
       "       [1.7622244e-03, 9.9823773e-01],\n",
       "       [2.3162032e-02, 9.7683799e-01],\n",
       "       [8.6197385e-04, 9.9913800e-01],\n",
       "       [4.0198997e-02, 9.5980102e-01],\n",
       "       [4.7795023e-04, 9.9952209e-01],\n",
       "       [1.5503253e-01, 8.4496748e-01],\n",
       "       [1.0484243e-03, 9.9895155e-01],\n",
       "       [2.9578044e-03, 9.9704224e-01],\n",
       "       [8.0838516e-02, 9.1916150e-01],\n",
       "       [8.0492944e-02, 9.1950709e-01],\n",
       "       [1.9976743e-04, 9.9980026e-01],\n",
       "       [3.9976366e-02, 9.6002364e-01],\n",
       "       [4.0632788e-02, 9.5936722e-01],\n",
       "       [4.0111650e-02, 9.5988834e-01],\n",
       "       [4.0332794e-02, 9.5966715e-01],\n",
       "       [4.0505875e-02, 9.5949417e-01],\n",
       "       [8.8322379e-02, 9.1167760e-01],\n",
       "       [4.6896937e-04, 9.9953103e-01],\n",
       "       [4.1242413e-02, 9.5875758e-01],\n",
       "       [1.3137385e-02, 9.8686266e-01],\n",
       "       [1.2669583e-03, 9.9873298e-01],\n",
       "       [4.0336892e-02, 9.5966309e-01],\n",
       "       [4.8143309e-04, 9.9951863e-01],\n",
       "       [4.0633582e-02, 9.5936644e-01],\n",
       "       [3.0478088e-03, 9.9695218e-01],\n",
       "       [1.3580269e-01, 8.6419731e-01],\n",
       "       [1.9777307e-04, 9.9980229e-01],\n",
       "       [2.2531140e-03, 9.9774688e-01],\n",
       "       [9.3316184e-03, 9.9066836e-01],\n",
       "       [7.4525585e-04, 9.9925476e-01],\n",
       "       [2.2659784e-03, 9.9773395e-01],\n",
       "       [4.1676345e-01, 5.8323652e-01],\n",
       "       [4.0900543e-02, 9.5909947e-01],\n",
       "       [4.0337615e-02, 9.5966244e-01],\n",
       "       [2.2344142e-02, 9.7765589e-01],\n",
       "       [4.6468055e-04, 9.9953532e-01],\n",
       "       [7.3515572e-02, 9.2648447e-01],\n",
       "       [2.2732387e-03, 9.9772674e-01],\n",
       "       [3.9947279e-02, 9.6005267e-01],\n",
       "       [4.0169809e-02, 9.5983022e-01],\n",
       "       [1.1731092e-03, 9.9882692e-01],\n",
       "       [1.3134874e-02, 9.8686510e-01],\n",
       "       [3.9946955e-02, 9.6005309e-01],\n",
       "       [4.8266127e-04, 9.9951732e-01],\n",
       "       [4.6950634e-04, 9.9953055e-01],\n",
       "       [2.3586284e-03, 9.9764144e-01],\n",
       "       [4.0281404e-02, 9.5971853e-01],\n",
       "       [4.0113620e-02, 9.5988631e-01],\n",
       "       [4.0561423e-02, 9.5943850e-01],\n",
       "       [4.6743095e-04, 9.9953258e-01],\n",
       "       [4.6579947e-04, 9.9953425e-01],\n",
       "       [4.6370973e-04, 9.9953628e-01],\n",
       "       [4.0632788e-02, 9.5936722e-01],\n",
       "       [3.0456609e-03, 9.9695432e-01],\n",
       "       [2.2653749e-03, 9.9773467e-01],\n",
       "       [4.0281404e-02, 9.5971853e-01],\n",
       "       [8.4734872e-02, 9.1526514e-01],\n",
       "       [2.0919982e-04, 9.9979085e-01],\n",
       "       [4.8505780e-04, 9.9951494e-01],\n",
       "       [4.0633187e-02, 9.5936674e-01],\n",
       "       [2.2668832e-03, 9.9773312e-01],\n",
       "       [2.2347787e-02, 9.7765219e-01],\n",
       "       [4.0449142e-02, 9.5955092e-01],\n",
       "       [3.9946504e-02, 9.6005356e-01],\n",
       "       [4.0633582e-02, 9.5936644e-01],\n",
       "       [4.0031895e-03, 9.9599683e-01],\n",
       "       [6.9330215e-02, 9.3066978e-01],\n",
       "       [4.0633507e-02, 9.5936656e-01],\n",
       "       [1.4965321e-03, 9.9850345e-01],\n",
       "       [4.0632788e-02, 9.5936722e-01],\n",
       "       [4.6456364e-04, 9.9953544e-01],\n",
       "       [4.0337235e-02, 9.5966274e-01],\n",
       "       [1.3435283e-03, 9.9865651e-01],\n",
       "       [4.0561423e-02, 9.5943850e-01],\n",
       "       [4.0058091e-02, 9.5994192e-01],\n",
       "       [4.0786840e-02, 9.5921320e-01],\n",
       "       [1.2616935e-03, 9.9873835e-01],\n",
       "       [1.0065368e-03, 9.9899346e-01],\n",
       "       [4.0633582e-02, 9.5936644e-01],\n",
       "       [4.0393312e-02, 9.5960665e-01],\n",
       "       [1.8892020e-01, 8.1107980e-01],\n",
       "       [4.0467020e-02, 9.5953304e-01],\n",
       "       [4.0113825e-02, 9.5988613e-01],\n",
       "       [4.0633582e-02, 9.5936644e-01],\n",
       "       [4.0631048e-02, 9.5936894e-01],\n",
       "       [2.2201524e-03, 9.9777991e-01],\n",
       "       [2.3091042e-03, 9.9769092e-01],\n",
       "       [4.0633496e-02, 9.5936656e-01],\n",
       "       [4.7362494e-04, 9.9952638e-01],\n",
       "       [3.9976221e-02, 9.6002376e-01],\n",
       "       [1.2942941e-03, 9.9870574e-01],\n",
       "       [2.1855367e-02, 9.7814471e-01],\n",
       "       [4.0637020e-02, 9.5936304e-01],\n",
       "       [8.3752036e-02, 9.1624790e-01],\n",
       "       [4.7192277e-04, 9.9952805e-01],\n",
       "       [5.8520241e-03, 9.9414802e-01],\n",
       "       [4.1766674e-03, 9.9582338e-01],\n",
       "       [2.2362659e-02, 9.7763729e-01],\n",
       "       [1.2417962e-03, 9.9875820e-01],\n",
       "       [4.0506948e-02, 9.5949304e-01],\n",
       "       [4.0633582e-02, 9.5936644e-01],\n",
       "       [1.4513306e-01, 8.5486698e-01],\n",
       "       [4.0169623e-02, 9.5983034e-01],\n",
       "       [1.5499556e-01, 8.4500450e-01],\n",
       "       [2.3135429e-03, 9.9768651e-01],\n",
       "       [4.0280625e-02, 9.5971942e-01],\n",
       "       [4.0730279e-02, 9.5926964e-01],\n",
       "       [4.8845931e-04, 9.9951160e-01],\n",
       "       [1.9198179e-01, 8.0801821e-01],\n",
       "       [2.2365572e-02, 9.7763443e-01],\n",
       "       [4.1356824e-02, 9.5864314e-01],\n",
       "       [4.0281132e-02, 9.5971888e-01],\n",
       "       [4.0422775e-02, 9.5957726e-01],\n",
       "       [2.2495410e-03, 9.9775046e-01],\n",
       "       [4.0224750e-02, 9.5977521e-01],\n",
       "       [5.2944668e-02, 9.4705534e-01],\n",
       "       [1.8604845e-01, 8.1395155e-01],\n",
       "       [4.6643216e-04, 9.9953353e-01],\n",
       "       [2.5381666e-04, 9.9974614e-01],\n",
       "       [2.2550423e-03, 9.9774504e-01],\n",
       "       [4.7896727e-04, 9.9952102e-01],\n",
       "       [1.0499902e-01, 8.9500099e-01],\n",
       "       [4.6798936e-04, 9.9953198e-01],\n",
       "       [4.0168960e-02, 9.5983100e-01],\n",
       "       [4.6896937e-04, 9.9953103e-01],\n",
       "       [2.2589250e-03, 9.9774110e-01],\n",
       "       [5.0907922e-03, 9.9490923e-01],\n",
       "       [4.0633187e-02, 9.5936674e-01],\n",
       "       [4.2296305e-02, 9.5770371e-01],\n",
       "       [1.3581148e-01, 8.6418855e-01],\n",
       "       [3.3775729e-01, 6.6224265e-01],\n",
       "       [4.0281922e-02, 9.5971811e-01],\n",
       "       [4.6040816e-04, 9.9953961e-01],\n",
       "       [4.0225267e-02, 9.5977473e-01],\n",
       "       [4.7896727e-04, 9.9952102e-01],\n",
       "       [1.3419521e-01, 8.6580479e-01],\n",
       "       [4.0633615e-02, 9.5936644e-01],\n",
       "       [8.4929630e-02, 9.1507035e-01],\n",
       "       [2.2494488e-03, 9.9775058e-01],\n",
       "       [4.0635541e-02, 9.5936447e-01],\n",
       "       [2.3094907e-03, 9.9769056e-01],\n",
       "       [1.2696438e-01, 8.7303561e-01],\n",
       "       [4.8320706e-04, 9.9951684e-01],\n",
       "       [2.1172346e-01, 7.8827655e-01],\n",
       "       [2.8851333e-03, 9.9711490e-01],\n",
       "       [4.0166590e-02, 9.5983338e-01],\n",
       "       [4.0634099e-02, 9.5936590e-01],\n",
       "       [4.0450841e-02, 9.5954913e-01],\n",
       "       [2.2055903e-02, 9.7794414e-01],\n",
       "       [4.0634941e-02, 9.5936513e-01],\n",
       "       [8.0122955e-02, 9.1987705e-01],\n",
       "       [4.9345167e-03, 9.9506551e-01],\n",
       "       [2.2216740e-03, 9.9777836e-01],\n",
       "       [2.0782402e-04, 9.9979216e-01],\n",
       "       [1.7131593e-02, 9.8286843e-01],\n",
       "       [3.7563755e-03, 9.9624360e-01],\n",
       "       [2.2653749e-03, 9.9773467e-01],\n",
       "       [4.0244841e-04, 9.9959761e-01],\n",
       "       [1.2014976e-03, 9.9879849e-01],\n",
       "       [4.0633582e-02, 9.5936644e-01],\n",
       "       [2.2396306e-03, 9.9776030e-01],\n",
       "       [2.3048797e-03, 9.9769515e-01],\n",
       "       [4.7992445e-03, 9.9520075e-01],\n",
       "       [2.8047511e-01, 7.1952486e-01],\n",
       "       [1.3309072e-01, 8.6690933e-01],\n",
       "       [2.3054455e-03, 9.9769455e-01],\n",
       "       [1.0191051e-03, 9.9898082e-01],\n",
       "       [4.6899059e-04, 9.9953103e-01],\n",
       "       [8.5818991e-02, 9.1418099e-01],\n",
       "       [2.3920359e-03, 9.9760795e-01],\n",
       "       [4.8954864e-03, 9.9510455e-01],\n",
       "       [4.0787339e-02, 9.5921266e-01],\n",
       "       [8.7989116e-04, 9.9912006e-01],\n",
       "       [3.9947215e-02, 9.6005279e-01],\n",
       "       [2.2381970e-03, 9.9776185e-01],\n",
       "       [1.3267606e-01, 8.6732394e-01],\n",
       "       [4.0613245e-02, 9.5938671e-01],\n",
       "       [9.9418178e-02, 9.0058184e-01],\n",
       "       [2.0235102e-04, 9.9979764e-01],\n",
       "       [4.0309345e-03, 9.9596906e-01],\n",
       "       [2.2460597e-03, 9.9775392e-01],\n",
       "       [4.6900066e-04, 9.9953103e-01],\n",
       "       [4.0900934e-02, 9.5909899e-01],\n",
       "       [2.2421244e-03, 9.9775785e-01],\n",
       "       [4.7123004e-04, 9.9952877e-01],\n",
       "       [4.0336967e-02, 9.5966297e-01],\n",
       "       [4.0692236e-02, 9.5930773e-01],\n",
       "       [4.0635411e-02, 9.5936459e-01],\n",
       "       [4.1912659e-03, 9.9580872e-01],\n",
       "       [6.2322631e-03, 9.9376774e-01],\n",
       "       [2.1540676e-01, 7.8459322e-01],\n",
       "       [4.7833583e-04, 9.9952173e-01],\n",
       "       [4.0633235e-02, 9.5936674e-01],\n",
       "       [4.0909182e-04, 9.9959093e-01],\n",
       "       [2.3411079e-03, 9.9765885e-01],\n",
       "       [4.0632788e-02, 9.5936722e-01],\n",
       "       [1.0128877e-03, 9.9898714e-01],\n",
       "       [4.0113240e-02, 9.5988679e-01],\n",
       "       [1.2965040e-02, 9.8703498e-01],\n",
       "       [4.0113900e-02, 9.5988613e-01],\n",
       "       [3.0187771e-03, 9.9698120e-01],\n",
       "       [1.3487874e-01, 8.6512130e-01],\n",
       "       [4.0225420e-02, 9.5977455e-01],\n",
       "       [4.0633582e-02, 9.5936644e-01],\n",
       "       [4.1194558e-02, 9.5880544e-01],\n",
       "       [2.2893331e-03, 9.9771070e-01],\n",
       "       [4.1732574e-03, 9.9582666e-01],\n",
       "       [4.6121221e-04, 9.9953878e-01],\n",
       "       [2.1992112e-02, 9.7800785e-01],\n",
       "       [4.0633235e-02, 9.5936674e-01],\n",
       "       [2.0249345e-04, 9.9979752e-01],\n",
       "       [4.0058091e-02, 9.5994192e-01],\n",
       "       [2.1088849e-04, 9.9978918e-01],\n",
       "       [4.0059723e-02, 9.5994025e-01],\n",
       "       [2.2249012e-03, 9.9777514e-01],\n",
       "       [1.2687794e-03, 9.9873120e-01],\n",
       "       [3.0307614e-03, 9.9696928e-01],\n",
       "       [1.6822100e-02, 9.8317796e-01],\n",
       "       [4.0438396e-04, 9.9959558e-01],\n",
       "       [4.0633205e-02, 9.5936674e-01],\n",
       "       [3.0459076e-02, 9.6954095e-01],\n",
       "       [2.0350750e-04, 9.9979657e-01],\n",
       "       [1.2954019e-02, 9.8704600e-01],\n",
       "       [2.2947460e-03, 9.9770528e-01],\n",
       "       [5.8520241e-03, 9.9414802e-01],\n",
       "       [7.0396908e-02, 9.2960310e-01],\n",
       "       [2.2172746e-03, 9.9778277e-01],\n",
       "       [4.0057912e-02, 9.5994216e-01],\n",
       "       [1.9740325e-04, 9.9980265e-01],\n",
       "       [4.0277317e-02, 9.5972270e-01],\n",
       "       [4.0754735e-02, 9.5924532e-01],\n",
       "       [4.0634099e-02, 9.5936590e-01],\n",
       "       [4.0633582e-02, 9.5936644e-01],\n",
       "       [4.0504862e-02, 9.5949513e-01],\n",
       "       [2.2220986e-03, 9.9777788e-01],\n",
       "       [4.0113945e-02, 9.5988601e-01],\n",
       "       [2.2595182e-02, 9.7740483e-01],\n",
       "       [4.0113732e-02, 9.5988625e-01],\n",
       "       [1.6292417e-02, 9.8370761e-01],\n",
       "       [8.3799146e-02, 9.1620088e-01],\n",
       "       [2.2654233e-03, 9.9773455e-01],\n",
       "       [4.0633187e-02, 9.5936674e-01],\n",
       "       [4.6999959e-04, 9.9953008e-01],\n",
       "       [4.0634099e-02, 9.5936590e-01],\n",
       "       [4.0632788e-02, 9.5936722e-01],\n",
       "       [7.3508509e-02, 9.2649150e-01],\n",
       "       [4.8048818e-04, 9.9951947e-01],\n",
       "       [4.0633582e-02, 9.5936644e-01],\n",
       "       [1.2121029e-03, 9.9878794e-01],\n",
       "       [2.2345465e-02, 9.7765452e-01],\n",
       "       [4.0634941e-02, 9.5936501e-01],\n",
       "       [9.9369325e-04, 9.9900633e-01],\n",
       "       [2.2579064e-03, 9.9774206e-01],\n",
       "       [1.0300027e-03, 9.9897003e-01],\n",
       "       [1.0123089e-03, 9.9898773e-01],\n",
       "       [2.2342755e-03, 9.9776578e-01],\n",
       "       [4.0223159e-02, 9.5977682e-01],\n",
       "       [8.3734415e-02, 9.1626567e-01],\n",
       "       [4.0633582e-02, 9.5936644e-01],\n",
       "       [8.5320361e-02, 9.1467971e-01],\n",
       "       [8.3908029e-02, 9.1609192e-01],\n",
       "       [4.0959030e-02, 9.5904100e-01],\n",
       "       [4.0634897e-02, 9.5936513e-01],\n",
       "       [1.9738424e-04, 9.9980265e-01],\n",
       "       [4.0634941e-02, 9.5936513e-01],\n",
       "       [4.0632788e-02, 9.5936722e-01],\n",
       "       [4.6846355e-04, 9.9953151e-01],\n",
       "       [4.0620312e-02, 9.5937973e-01],\n",
       "       [4.0634941e-02, 9.5936513e-01],\n",
       "       [4.1031471e-04, 9.9958974e-01],\n",
       "       [4.0953085e-02, 9.5904696e-01],\n",
       "       [4.0393006e-02, 9.5960701e-01],\n",
       "       [2.2145777e-03, 9.9778545e-01],\n",
       "       [1.5503253e-01, 8.4496748e-01],\n",
       "       [4.6800610e-04, 9.9953198e-01],\n",
       "       [4.0561613e-02, 9.5943844e-01],\n",
       "       [4.0730998e-02, 9.5926899e-01],\n",
       "       [2.2660787e-03, 9.9773395e-01],\n",
       "       [4.9306620e-03, 9.9506938e-01],\n",
       "       [4.0279027e-02, 9.5972097e-01],\n",
       "       [4.0633582e-02, 9.5936644e-01],\n",
       "       [2.4382309e-03, 9.9756181e-01],\n",
       "       [2.2132414e-04, 9.9977869e-01],\n",
       "       [1.4021231e-01, 8.5978770e-01],\n",
       "       [4.1085324e-04, 9.9958915e-01],\n",
       "       [7.2337121e-02, 9.2766291e-01],\n",
       "       [3.9944928e-02, 9.6005505e-01],\n",
       "       [4.0171094e-02, 9.5982891e-01],\n",
       "       [4.0634036e-02, 9.5936602e-01],\n",
       "       [4.1014556e-02, 9.5898545e-01],\n",
       "       [3.0015705e-03, 9.9699843e-01],\n",
       "       [7.3517077e-02, 9.2648292e-01],\n",
       "       [2.0717333e-04, 9.9979287e-01],\n",
       "       [2.2225534e-03, 9.9777740e-01],\n",
       "       [4.0449195e-02, 9.5955080e-01],\n",
       "       [2.9515910e-03, 9.9704844e-01],\n",
       "       [4.0393312e-02, 9.5960665e-01],\n",
       "       [4.0338717e-02, 9.5966125e-01],\n",
       "       [2.2495410e-03, 9.9775046e-01],\n",
       "       [4.7127571e-04, 9.9952877e-01],\n",
       "       [4.6916923e-04, 9.9953079e-01],\n",
       "       [4.0227354e-02, 9.5977265e-01],\n",
       "       [1.4774436e-02, 9.8522550e-01],\n",
       "       [4.8033113e-04, 9.9951971e-01],\n",
       "       [1.0101118e-03, 9.9898988e-01],\n",
       "       [2.2299062e-03, 9.9777007e-01],\n",
       "       [1.6916070e-02, 9.8308390e-01],\n",
       "       [4.7626547e-04, 9.9952376e-01],\n",
       "       [4.0634941e-02, 9.5936501e-01],\n",
       "       [1.2600048e-01, 8.7399954e-01],\n",
       "       [4.0449083e-02, 9.5955092e-01],\n",
       "       [4.6876064e-04, 9.9953127e-01],\n",
       "       [2.2733328e-03, 9.9772662e-01],\n",
       "       [5.8464292e-02, 9.4153577e-01],\n",
       "       [2.2422012e-03, 9.9775785e-01],\n",
       "       [4.0634941e-02, 9.5936513e-01],\n",
       "       [2.2186590e-03, 9.9778134e-01],\n",
       "       [4.0731531e-02, 9.5926845e-01],\n",
       "       [6.9257900e-02, 9.3074208e-01],\n",
       "       [5.2600792e-03, 9.9473995e-01],\n",
       "       [4.7531471e-02, 9.5246845e-01],\n",
       "       [7.3353067e-02, 9.2664689e-01],\n",
       "       [2.2495410e-03, 9.9775046e-01],\n",
       "       [1.3438542e-01, 8.6561453e-01],\n",
       "       [2.2415728e-03, 9.9775839e-01],\n",
       "       [2.2678636e-03, 9.9773216e-01],\n",
       "       [5.3154468e-03, 9.9468464e-01],\n",
       "       [2.2460597e-03, 9.9775392e-01],\n",
       "       [2.2072459e-03, 9.9779272e-01],\n",
       "       [1.2178764e-03, 9.9878210e-01],\n",
       "       [5.6068867e-02, 9.4393110e-01],\n",
       "       [4.8593106e-04, 9.9951410e-01],\n",
       "       [3.0599094e-03, 9.9694014e-01],\n",
       "       [4.0633235e-02, 9.5936674e-01],\n",
       "       [4.0633582e-02, 9.5936644e-01],\n",
       "       [7.0358634e-02, 9.2964143e-01],\n",
       "       [2.4118721e-01, 7.5881273e-01],\n",
       "       [1.0729431e-02, 9.8927057e-01],\n",
       "       [1.3150892e-02, 9.8684907e-01],\n",
       "       [4.0447094e-02, 9.5955288e-01],\n",
       "       [1.2178875e-03, 9.9878210e-01],\n",
       "       [1.6454540e-01, 8.3545458e-01],\n",
       "       [2.2347776e-02, 9.7765219e-01],\n",
       "       [4.0086932e-02, 9.5991302e-01],\n",
       "       [5.3170910e-03, 9.9468297e-01],\n",
       "       [2.2612463e-03, 9.9773872e-01],\n",
       "       [9.9665427e-04, 9.9900335e-01],\n",
       "       [4.6541245e-04, 9.9953461e-01],\n",
       "       [4.8610105e-04, 9.9951386e-01],\n",
       "       [2.3216710e-03, 9.9767834e-01],\n",
       "       [2.3837679e-03, 9.9761629e-01],\n",
       "       [4.7226387e-04, 9.9952769e-01],\n",
       "       [1.5335062e-01, 8.4664941e-01],\n",
       "       [2.2301800e-03, 9.9776983e-01],\n",
       "       [4.8934936e-04, 9.9951065e-01],\n",
       "       [3.3241189e-01, 6.6758806e-01],\n",
       "       [4.0633582e-02, 9.5936644e-01],\n",
       "       [4.0393047e-02, 9.5960701e-01],\n",
       "       [1.3264291e-01, 8.6735713e-01],\n",
       "       [6.8940938e-02, 9.3105912e-01],\n",
       "       [2.2664797e-03, 9.9773347e-01],\n",
       "       [1.1756524e-03, 9.9882430e-01],\n",
       "       [4.0281344e-02, 9.5971864e-01],\n",
       "       [2.3751932e-03, 9.9762481e-01],\n",
       "       [4.0114008e-02, 9.5988601e-01],\n",
       "       [3.3488634e-01, 6.6511369e-01],\n",
       "       [4.6032062e-04, 9.9953973e-01],\n",
       "       [5.3862142e-03, 9.9461371e-01],\n",
       "       [1.0245720e-01, 8.9754277e-01],\n",
       "       [2.3343919e-03, 9.9766564e-01],\n",
       "       [2.1829376e-01, 7.8170627e-01],\n",
       "       [1.2008123e-03, 9.9879920e-01],\n",
       "       [4.0282719e-02, 9.5971733e-01],\n",
       "       [2.3587563e-03, 9.9764132e-01],\n",
       "       [4.0169679e-02, 9.5983034e-01],\n",
       "       [4.0674653e-02, 9.5932537e-01],\n",
       "       [4.6341150e-04, 9.9953663e-01],\n",
       "       [1.0267680e-03, 9.9897325e-01],\n",
       "       [8.6218241e-04, 9.9913776e-01],\n",
       "       [8.5369090e-04, 9.9914634e-01],\n",
       "       [2.0461204e-04, 9.9979538e-01],\n",
       "       [2.2258426e-03, 9.9777418e-01],\n",
       "       [1.0005815e-03, 9.9899942e-01],\n",
       "       [4.0389164e-04, 9.9959618e-01],\n",
       "       [4.0633652e-02, 9.5936632e-01],\n",
       "       [8.4168471e-02, 9.1583151e-01],\n",
       "       [4.0633582e-02, 9.5936644e-01],\n",
       "       [1.2433621e-03, 9.9875665e-01],\n",
       "       [4.0505569e-02, 9.5949441e-01],\n",
       "       [4.0632788e-02, 9.5936722e-01],\n",
       "       [4.7315811e-04, 9.9952686e-01],\n",
       "       [4.1101292e-02, 9.5889872e-01],\n",
       "       [4.0632788e-02, 9.5936722e-01],\n",
       "       [4.7502536e-02, 9.5249748e-01]], dtype=float32)"
      ]
     },
     "execution_count": 55,
     "metadata": {},
     "output_type": "execute_result"
    }
   ],
   "source": [
    "preds"
   ]
  },
  {
   "cell_type": "code",
   "execution_count": 56,
   "metadata": {},
   "outputs": [],
   "source": [
    "learner_result = np.array([x.argmax() for x in preds])"
   ]
  },
  {
   "cell_type": "code",
   "execution_count": 57,
   "metadata": {},
   "outputs": [
    {
     "data": {
      "text/plain": [
       "array([1, 1, 1, 1, 1, 1, 1, 1, 1, 1, 1, 1, 1, 1, 1, 1, 1, 1, 1, 1, 1, 1,\n",
       "       1, 1, 1, 1, 1, 1, 1, 1, 1, 1, 1, 1, 1, 1, 1, 1, 1, 1, 1, 1, 1, 1,\n",
       "       1, 1, 1, 1, 1, 1, 1, 1, 1, 1, 1, 1, 1, 1, 1, 1, 1, 1, 1, 1, 1, 1,\n",
       "       1, 1, 1, 1, 1, 1, 1, 1, 1, 1, 1, 1, 1, 1, 1, 1, 1, 1, 1, 1, 1, 1,\n",
       "       1, 1, 1, 1, 1, 1, 1, 1, 1, 1, 1, 1, 1, 1, 1, 1, 1, 1, 1, 1, 1, 1,\n",
       "       1, 1, 1, 1, 1, 1, 1, 1, 1, 1, 1, 1, 1, 1, 1, 1, 1, 1, 1, 1, 1, 1,\n",
       "       1, 1, 1, 1, 1, 1, 1, 1, 1, 1, 1, 1, 1, 1, 1, 1, 1, 1, 1, 1, 1, 1,\n",
       "       1, 1, 1, 1, 1, 1, 1, 1, 1, 1, 1, 1, 1, 1, 1, 1, 1, 1, 1, 1, 1, 1,\n",
       "       1, 1, 1, 1, 1, 1, 1, 1, 1, 1, 1, 1, 1, 1, 1, 1, 1, 1, 1, 1, 1, 1,\n",
       "       1, 1, 1, 1, 1, 1, 1, 1, 1, 1, 1, 1, 1, 1, 1, 1, 1, 1, 1, 1, 1, 1,\n",
       "       1, 1, 1, 1, 1, 1, 1, 1, 1, 1, 1, 1, 1, 1, 1, 1, 1, 1, 1, 1, 1, 1,\n",
       "       1, 1, 1, 1, 1, 1, 1, 1, 1, 1, 1, 1, 1, 1, 1, 1, 1, 1, 1, 1, 1, 1,\n",
       "       1, 1, 1, 1, 1, 1, 1, 1, 1, 1, 1, 1, 1, 1, 1, 1, 1, 1, 1, 1, 1, 1,\n",
       "       1, 1, 1, 1, 1, 1, 1, 1, 1, 1, 1, 1, 1, 1, 1, 1, 1, 1, 1, 1, 1, 1,\n",
       "       1, 1, 1, 1, 1, 1, 1, 1, 1, 1, 1, 1, 1, 1, 1, 1, 1, 1, 1, 1, 1, 1,\n",
       "       1, 1, 1, 1, 1, 1, 1, 1, 1, 1, 1, 1, 1, 1, 1, 1, 1, 1, 1, 1, 1, 1,\n",
       "       1, 1, 1, 1, 1, 1, 1, 1, 1, 1, 1, 1, 1, 1, 1, 1, 1, 1, 1, 1, 1, 1,\n",
       "       1, 1, 1, 1, 1, 1, 1, 1, 1, 1, 1, 1, 1, 1, 1, 1, 1, 1, 1, 1, 1, 1,\n",
       "       1, 1, 1, 1, 1, 1, 1, 1, 1, 1, 1, 1, 1, 1, 1, 1, 1, 1, 1, 1, 1, 1])"
      ]
     },
     "execution_count": 57,
     "metadata": {},
     "output_type": "execute_result"
    }
   ],
   "source": [
    "learner_result"
   ]
  },
  {
   "cell_type": "code",
   "execution_count": 58,
   "metadata": {},
   "outputs": [
    {
     "ename": "NameError",
     "evalue": "name 'accuracy_score' is not defined",
     "output_type": "error",
     "traceback": [
      "\u001b[0;31m---------------------------------------------------------------------------\u001b[0m",
      "\u001b[0;31mNameError\u001b[0m                                 Traceback (most recent call last)",
      "\u001b[0;32m<ipython-input-58-4309d62d9863>\u001b[0m in \u001b[0;36m<module>\u001b[0;34m\u001b[0m\n\u001b[0;32m----> 1\u001b[0;31m \u001b[0maccuracy_score\u001b[0m\u001b[0;34m(\u001b[0m\u001b[0my_test\u001b[0m\u001b[0;34m,\u001b[0m \u001b[0mlearner_result\u001b[0m\u001b[0;34m)\u001b[0m\u001b[0;34m\u001b[0m\u001b[0;34m\u001b[0m\u001b[0m\n\u001b[0m",
      "\u001b[0;31mNameError\u001b[0m: name 'accuracy_score' is not defined"
     ]
    }
   ],
   "source": [
    "accuracy_score(y_test, learner_result)"
   ]
  },
  {
   "cell_type": "markdown",
   "metadata": {},
   "source": [
    "#### Dropping Unwanted Columns"
   ]
  },
  {
   "cell_type": "markdown",
   "metadata": {},
   "source": [
    "#### OneHotEncoding, Scaling and Predicting"
   ]
  },
  {
   "cell_type": "code",
   "execution_count": 59,
   "metadata": {
    "gradient": {}
   },
   "outputs": [],
   "source": [
    "y_test = pd.read_csv('test_results.csv')"
   ]
  },
  {
   "cell_type": "code",
   "execution_count": 60,
   "metadata": {
    "gradient": {}
   },
   "outputs": [],
   "source": [
    "from sklearn.metrics import accuracy_score"
   ]
  },
  {
   "cell_type": "code",
   "execution_count": 61,
   "metadata": {},
   "outputs": [],
   "source": [
    "y_test = y_test['Survived']"
   ]
  },
  {
   "cell_type": "code",
   "execution_count": 62,
   "metadata": {},
   "outputs": [
    {
     "data": {
      "text/plain": [
       "418"
      ]
     },
     "execution_count": 62,
     "metadata": {},
     "output_type": "execute_result"
    }
   ],
   "source": [
    "len(y_test)"
   ]
  },
  {
   "cell_type": "code",
   "execution_count": 63,
   "metadata": {
    "gradient": {}
   },
   "outputs": [
    {
     "data": {
      "text/plain": [
       "0.7799043062200957"
      ]
     },
     "execution_count": 63,
     "metadata": {},
     "output_type": "execute_result"
    }
   ],
   "source": [
    "accuracy_score(y_test, lgbm_res)"
   ]
  },
  {
   "cell_type": "markdown",
   "metadata": {},
   "source": [
    "#### Creating results.csv"
   ]
  },
  {
   "cell_type": "code",
   "execution_count": null,
   "metadata": {
    "gradient": {}
   },
   "outputs": [],
   "source": [
    "sub = pd.Series(y_pred, index=ID, name='Survived')\n",
    "sub.to_csv(\"results.csv\", header=True)"
   ]
  },
  {
   "cell_type": "code",
   "execution_count": null,
   "metadata": {
    "gradient": {}
   },
   "outputs": [],
   "source": []
  }
 ],
 "metadata": {
  "kernelspec": {
   "display_name": "Python 3",
   "language": "python",
   "name": "python3"
  },
  "language_info": {
   "codemirror_mode": {
    "name": "ipython",
    "version": 3
   },
   "file_extension": ".py",
   "mimetype": "text/x-python",
   "name": "python",
   "nbconvert_exporter": "python",
   "pygments_lexer": "ipython3",
   "version": "3.8.5"
  }
 },
 "nbformat": 4,
 "nbformat_minor": 4
}
